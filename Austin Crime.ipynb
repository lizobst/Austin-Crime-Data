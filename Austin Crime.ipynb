{
 "cells": [
  {
   "cell_type": "markdown",
   "id": "edd820f8-39b9-46ff-8983-a19448738144",
   "metadata": {},
   "source": [
    "### Exploratory Data Analysis of Crime in Austin"
   ]
  },
  {
   "cell_type": "markdown",
   "id": "e38eb59e-8fa3-49e7-b36b-5c0bc02362e2",
   "metadata": {},
   "source": [
    "Data obtained from data.austintexas.gov\\\n",
    "Data contains a record of incidents that the Austin Police responded to and wrote a written report\\\n",
    "Dataset only depicts the highest level offense of that incident"
   ]
  },
  {
   "cell_type": "markdown",
   "id": "079e31cd-d405-485e-ab63-293e79ed8ffc",
   "metadata": {},
   "source": [
    "#### Imports"
   ]
  },
  {
   "cell_type": "code",
   "execution_count": 114,
   "id": "5b01f8f4-2fbe-44a7-9bb0-3ad69cdd4a6a",
   "metadata": {},
   "outputs": [],
   "source": [
    "import numpy as np\n",
    "import pandas as pd\n",
    "import scipy\n",
    "import scipy.stats as stats\n",
    "import numpy as np\n",
    "import matplotlib.pyplot as plt\n",
    "import plotly.graph_objects as go\n",
    "import plotly.express as px\n",
    "pd.set_option('display.max_rows', None)\n",
    "import datetime as dt\n",
    "from plotly.subplots import make_subplots"
   ]
  },
  {
   "cell_type": "code",
   "execution_count": 6,
   "id": "00c0b36c-a910-4c41-9632-1d28da4ae007",
   "metadata": {},
   "outputs": [],
   "source": [
    "data_df= pd.read_csv('Data/Crime_Reports.csv', low_memory=False)"
   ]
  },
  {
   "cell_type": "markdown",
   "id": "7a800b22-bc0c-4652-a7d0-bec953cefbd8",
   "metadata": {},
   "source": [
    "#### Exploring data"
   ]
  },
  {
   "cell_type": "code",
   "execution_count": 29,
   "id": "e016c9c3-3606-4b94-a9bf-10f032b4cb2e",
   "metadata": {},
   "outputs": [
    {
     "data": {
      "text/html": [
       "<div>\n",
       "<style scoped>\n",
       "    .dataframe tbody tr th:only-of-type {\n",
       "        vertical-align: middle;\n",
       "    }\n",
       "\n",
       "    .dataframe tbody tr th {\n",
       "        vertical-align: top;\n",
       "    }\n",
       "\n",
       "    .dataframe thead th {\n",
       "        text-align: right;\n",
       "    }\n",
       "</style>\n",
       "<table border=\"1\" class=\"dataframe\">\n",
       "  <thead>\n",
       "    <tr style=\"text-align: right;\">\n",
       "      <th></th>\n",
       "      <th>Incident Number</th>\n",
       "      <th>Highest Offense Description</th>\n",
       "      <th>Highest Offense Code</th>\n",
       "      <th>Family Violence</th>\n",
       "      <th>Occurred Date Time</th>\n",
       "      <th>Occurred Date</th>\n",
       "      <th>Occurred Time</th>\n",
       "      <th>Report Date Time</th>\n",
       "      <th>Report Date</th>\n",
       "      <th>Report Time</th>\n",
       "      <th>...</th>\n",
       "      <th>Census Tract</th>\n",
       "      <th>Clearance Status</th>\n",
       "      <th>Clearance Date</th>\n",
       "      <th>UCR Category</th>\n",
       "      <th>Category Description</th>\n",
       "      <th>X-coordinate</th>\n",
       "      <th>Y-coordinate</th>\n",
       "      <th>Latitude</th>\n",
       "      <th>Longitude</th>\n",
       "      <th>Location</th>\n",
       "    </tr>\n",
       "  </thead>\n",
       "  <tbody>\n",
       "    <tr>\n",
       "      <th>0</th>\n",
       "      <td>2006471156</td>\n",
       "      <td>FAMILY DISTURBANCE</td>\n",
       "      <td>3400</td>\n",
       "      <td>N</td>\n",
       "      <td>02/16/2006 02:25:00 PM</td>\n",
       "      <td>02/16/2006</td>\n",
       "      <td>1425.0</td>\n",
       "      <td>02/16/2006 02:25:00 PM</td>\n",
       "      <td>02/16/2006</td>\n",
       "      <td>1425.0</td>\n",
       "      <td>...</td>\n",
       "      <td>NaN</td>\n",
       "      <td>NaN</td>\n",
       "      <td>NaN</td>\n",
       "      <td>NaN</td>\n",
       "      <td>NaN</td>\n",
       "      <td>NaN</td>\n",
       "      <td>NaN</td>\n",
       "      <td>NaN</td>\n",
       "      <td>NaN</td>\n",
       "      <td>NaN</td>\n",
       "    </tr>\n",
       "    <tr>\n",
       "      <th>1</th>\n",
       "      <td>20045044338</td>\n",
       "      <td>TAMPERING WITH ID NUMBER</td>\n",
       "      <td>2719</td>\n",
       "      <td>N</td>\n",
       "      <td>09/14/2004 03:32:00 PM</td>\n",
       "      <td>09/14/2004</td>\n",
       "      <td>1532.0</td>\n",
       "      <td>09/14/2004 03:32:00 PM</td>\n",
       "      <td>09/14/2004</td>\n",
       "      <td>1532.0</td>\n",
       "      <td>...</td>\n",
       "      <td>NaN</td>\n",
       "      <td>N</td>\n",
       "      <td>09/14/2004</td>\n",
       "      <td>NaN</td>\n",
       "      <td>NaN</td>\n",
       "      <td>NaN</td>\n",
       "      <td>NaN</td>\n",
       "      <td>NaN</td>\n",
       "      <td>NaN</td>\n",
       "      <td>NaN</td>\n",
       "    </tr>\n",
       "    <tr>\n",
       "      <th>2</th>\n",
       "      <td>2006960811</td>\n",
       "      <td>FAMILY DISTURBANCE</td>\n",
       "      <td>3400</td>\n",
       "      <td>N</td>\n",
       "      <td>04/06/2006 10:29:00 AM</td>\n",
       "      <td>04/06/2006</td>\n",
       "      <td>1029.0</td>\n",
       "      <td>04/06/2006 10:29:00 AM</td>\n",
       "      <td>04/06/2006</td>\n",
       "      <td>1029.0</td>\n",
       "      <td>...</td>\n",
       "      <td>NaN</td>\n",
       "      <td>N</td>\n",
       "      <td>05/01/2006</td>\n",
       "      <td>NaN</td>\n",
       "      <td>NaN</td>\n",
       "      <td>NaN</td>\n",
       "      <td>NaN</td>\n",
       "      <td>NaN</td>\n",
       "      <td>NaN</td>\n",
       "      <td>NaN</td>\n",
       "    </tr>\n",
       "    <tr>\n",
       "      <th>3</th>\n",
       "      <td>2013851154</td>\n",
       "      <td>SEXUAL ASSAULT OF CHILD/OBJECT</td>\n",
       "      <td>1707</td>\n",
       "      <td>Y</td>\n",
       "      <td>01/01/2009 12:01:00 AM</td>\n",
       "      <td>01/01/2009</td>\n",
       "      <td>1.0</td>\n",
       "      <td>03/26/2013 04:56:00 PM</td>\n",
       "      <td>03/26/2013</td>\n",
       "      <td>1656.0</td>\n",
       "      <td>...</td>\n",
       "      <td>4.00</td>\n",
       "      <td>C</td>\n",
       "      <td>04/11/2013</td>\n",
       "      <td>11C</td>\n",
       "      <td>Rape</td>\n",
       "      <td>0.0</td>\n",
       "      <td>0.0</td>\n",
       "      <td>NaN</td>\n",
       "      <td>NaN</td>\n",
       "      <td>NaN</td>\n",
       "    </tr>\n",
       "    <tr>\n",
       "      <th>4</th>\n",
       "      <td>20161800084</td>\n",
       "      <td>RAPE OF A CHILD</td>\n",
       "      <td>204</td>\n",
       "      <td>Y</td>\n",
       "      <td>06/28/2016 01:05:00 AM</td>\n",
       "      <td>06/28/2016</td>\n",
       "      <td>105.0</td>\n",
       "      <td>06/28/2016 01:05:00 AM</td>\n",
       "      <td>06/28/2016</td>\n",
       "      <td>105.0</td>\n",
       "      <td>...</td>\n",
       "      <td>24.41</td>\n",
       "      <td>C</td>\n",
       "      <td>07/01/2016</td>\n",
       "      <td>11A</td>\n",
       "      <td>Rape</td>\n",
       "      <td>0.0</td>\n",
       "      <td>0.0</td>\n",
       "      <td>NaN</td>\n",
       "      <td>NaN</td>\n",
       "      <td>NaN</td>\n",
       "    </tr>\n",
       "  </tbody>\n",
       "</table>\n",
       "<p>5 rows × 27 columns</p>\n",
       "</div>"
      ],
      "text/plain": [
       "   Incident Number     Highest Offense Description  Highest Offense Code  \\\n",
       "0       2006471156              FAMILY DISTURBANCE                  3400   \n",
       "1      20045044338        TAMPERING WITH ID NUMBER                  2719   \n",
       "2       2006960811              FAMILY DISTURBANCE                  3400   \n",
       "3       2013851154  SEXUAL ASSAULT OF CHILD/OBJECT                  1707   \n",
       "4      20161800084                 RAPE OF A CHILD                   204   \n",
       "\n",
       "  Family Violence      Occurred Date Time Occurred Date  Occurred Time  \\\n",
       "0               N  02/16/2006 02:25:00 PM    02/16/2006         1425.0   \n",
       "1               N  09/14/2004 03:32:00 PM    09/14/2004         1532.0   \n",
       "2               N  04/06/2006 10:29:00 AM    04/06/2006         1029.0   \n",
       "3               Y  01/01/2009 12:01:00 AM    01/01/2009            1.0   \n",
       "4               Y  06/28/2016 01:05:00 AM    06/28/2016          105.0   \n",
       "\n",
       "         Report Date Time Report Date  Report Time  ... Census Tract  \\\n",
       "0  02/16/2006 02:25:00 PM  02/16/2006       1425.0  ...          NaN   \n",
       "1  09/14/2004 03:32:00 PM  09/14/2004       1532.0  ...          NaN   \n",
       "2  04/06/2006 10:29:00 AM  04/06/2006       1029.0  ...          NaN   \n",
       "3  03/26/2013 04:56:00 PM  03/26/2013       1656.0  ...         4.00   \n",
       "4  06/28/2016 01:05:00 AM  06/28/2016        105.0  ...        24.41   \n",
       "\n",
       "  Clearance Status  Clearance Date  UCR Category Category Description  \\\n",
       "0              NaN             NaN           NaN                  NaN   \n",
       "1                N      09/14/2004           NaN                  NaN   \n",
       "2                N      05/01/2006           NaN                  NaN   \n",
       "3                C      04/11/2013           11C                 Rape   \n",
       "4                C      07/01/2016           11A                 Rape   \n",
       "\n",
       "  X-coordinate Y-coordinate  Latitude Longitude Location  \n",
       "0          NaN          NaN       NaN       NaN      NaN  \n",
       "1          NaN          NaN       NaN       NaN      NaN  \n",
       "2          NaN          NaN       NaN       NaN      NaN  \n",
       "3          0.0          0.0       NaN       NaN      NaN  \n",
       "4          0.0          0.0       NaN       NaN      NaN  \n",
       "\n",
       "[5 rows x 27 columns]"
      ]
     },
     "execution_count": 29,
     "metadata": {},
     "output_type": "execute_result"
    }
   ],
   "source": [
    "data_df.head()"
   ]
  },
  {
   "cell_type": "code",
   "execution_count": 30,
   "id": "6ff69506-b6fb-4af6-b161-88e6b1ba43bb",
   "metadata": {},
   "outputs": [
    {
     "data": {
      "text/html": [
       "<div>\n",
       "<style scoped>\n",
       "    .dataframe tbody tr th:only-of-type {\n",
       "        vertical-align: middle;\n",
       "    }\n",
       "\n",
       "    .dataframe tbody tr th {\n",
       "        vertical-align: top;\n",
       "    }\n",
       "\n",
       "    .dataframe thead th {\n",
       "        text-align: right;\n",
       "    }\n",
       "</style>\n",
       "<table border=\"1\" class=\"dataframe\">\n",
       "  <thead>\n",
       "    <tr style=\"text-align: right;\">\n",
       "      <th></th>\n",
       "      <th>Incident Number</th>\n",
       "      <th>Highest Offense Description</th>\n",
       "      <th>Highest Offense Code</th>\n",
       "      <th>Family Violence</th>\n",
       "      <th>Occurred Date Time</th>\n",
       "      <th>Occurred Date</th>\n",
       "      <th>Occurred Time</th>\n",
       "      <th>Report Date Time</th>\n",
       "      <th>Report Date</th>\n",
       "      <th>Report Time</th>\n",
       "      <th>...</th>\n",
       "      <th>Census Tract</th>\n",
       "      <th>Clearance Status</th>\n",
       "      <th>Clearance Date</th>\n",
       "      <th>UCR Category</th>\n",
       "      <th>Category Description</th>\n",
       "      <th>X-coordinate</th>\n",
       "      <th>Y-coordinate</th>\n",
       "      <th>Latitude</th>\n",
       "      <th>Longitude</th>\n",
       "      <th>Location</th>\n",
       "    </tr>\n",
       "  </thead>\n",
       "  <tbody>\n",
       "    <tr>\n",
       "      <th>2462412</th>\n",
       "      <td>20215001631</td>\n",
       "      <td>DEBIT CARD ABUSE</td>\n",
       "      <td>1108</td>\n",
       "      <td>N</td>\n",
       "      <td>09/24/2020 12:00:00 PM</td>\n",
       "      <td>09/24/2020</td>\n",
       "      <td>1200.0</td>\n",
       "      <td>01/13/2021 10:27:00 AM</td>\n",
       "      <td>01/13/2021</td>\n",
       "      <td>1027.0</td>\n",
       "      <td>...</td>\n",
       "      <td>24.47</td>\n",
       "      <td>N</td>\n",
       "      <td>01/14/2021</td>\n",
       "      <td>NaN</td>\n",
       "      <td>NaN</td>\n",
       "      <td>3118294.0</td>\n",
       "      <td>10050405.0</td>\n",
       "      <td>30.211876</td>\n",
       "      <td>-97.731707</td>\n",
       "      <td>(30.2118759, -97.73170695)</td>\n",
       "    </tr>\n",
       "    <tr>\n",
       "      <th>2462413</th>\n",
       "      <td>20105013578</td>\n",
       "      <td>BURGLARY OF VEHICLE</td>\n",
       "      <td>601</td>\n",
       "      <td>N</td>\n",
       "      <td>03/19/2010 07:00:00 PM</td>\n",
       "      <td>03/19/2010</td>\n",
       "      <td>1900.0</td>\n",
       "      <td>03/19/2010 11:16:00 PM</td>\n",
       "      <td>03/19/2010</td>\n",
       "      <td>2316.0</td>\n",
       "      <td>...</td>\n",
       "      <td>19.11</td>\n",
       "      <td>N</td>\n",
       "      <td>03/25/2010</td>\n",
       "      <td>23F</td>\n",
       "      <td>Theft</td>\n",
       "      <td>3105575.0</td>\n",
       "      <td>10069711.0</td>\n",
       "      <td>30.265757</td>\n",
       "      <td>-97.770554</td>\n",
       "      <td>(30.2657568, -97.77055439)</td>\n",
       "    </tr>\n",
       "    <tr>\n",
       "      <th>2462414</th>\n",
       "      <td>20085066651</td>\n",
       "      <td>PROTECTIVE ORDER</td>\n",
       "      <td>3829</td>\n",
       "      <td>N</td>\n",
       "      <td>12/16/2008 03:56:00 PM</td>\n",
       "      <td>12/16/2008</td>\n",
       "      <td>1556.0</td>\n",
       "      <td>12/16/2008 03:56:00 PM</td>\n",
       "      <td>12/16/2008</td>\n",
       "      <td>1556.0</td>\n",
       "      <td>...</td>\n",
       "      <td>13.00</td>\n",
       "      <td>NaN</td>\n",
       "      <td>NaN</td>\n",
       "      <td>NaN</td>\n",
       "      <td>NaN</td>\n",
       "      <td>3105754.0</td>\n",
       "      <td>10060029.0</td>\n",
       "      <td>30.239131</td>\n",
       "      <td>-97.770694</td>\n",
       "      <td>(30.23913102, -97.77069399)</td>\n",
       "    </tr>\n",
       "    <tr>\n",
       "      <th>2462415</th>\n",
       "      <td>20101570072</td>\n",
       "      <td>VIOL CITY ORDINANCE - OTHER</td>\n",
       "      <td>3299</td>\n",
       "      <td>N</td>\n",
       "      <td>06/06/2010 12:31:00 AM</td>\n",
       "      <td>06/06/2010</td>\n",
       "      <td>31.0</td>\n",
       "      <td>06/06/2010 12:31:00 AM</td>\n",
       "      <td>06/06/2010</td>\n",
       "      <td>31.0</td>\n",
       "      <td>...</td>\n",
       "      <td>431.00</td>\n",
       "      <td>C</td>\n",
       "      <td>08/07/2010</td>\n",
       "      <td>NaN</td>\n",
       "      <td>NaN</td>\n",
       "      <td>3130528.0</td>\n",
       "      <td>10104030.0</td>\n",
       "      <td>30.358489</td>\n",
       "      <td>-97.688952</td>\n",
       "      <td>(30.35848873, -97.68895198)</td>\n",
       "    </tr>\n",
       "    <tr>\n",
       "      <th>2462416</th>\n",
       "      <td>20102371234</td>\n",
       "      <td>FORGERY AND PASSING</td>\n",
       "      <td>1000</td>\n",
       "      <td>N</td>\n",
       "      <td>08/25/2010 04:05:00 PM</td>\n",
       "      <td>08/25/2010</td>\n",
       "      <td>1605.0</td>\n",
       "      <td>08/25/2010 04:05:00 PM</td>\n",
       "      <td>08/25/2010</td>\n",
       "      <td>1605.0</td>\n",
       "      <td>...</td>\n",
       "      <td>13.00</td>\n",
       "      <td>N</td>\n",
       "      <td>08/26/2010</td>\n",
       "      <td>NaN</td>\n",
       "      <td>NaN</td>\n",
       "      <td>3107741.0</td>\n",
       "      <td>10061626.0</td>\n",
       "      <td>30.243395</td>\n",
       "      <td>-97.764287</td>\n",
       "      <td>(30.24339493, -97.76428662)</td>\n",
       "    </tr>\n",
       "  </tbody>\n",
       "</table>\n",
       "<p>5 rows × 27 columns</p>\n",
       "</div>"
      ],
      "text/plain": [
       "         Incident Number  Highest Offense Description  Highest Offense Code  \\\n",
       "2462412      20215001631             DEBIT CARD ABUSE                  1108   \n",
       "2462413      20105013578          BURGLARY OF VEHICLE                   601   \n",
       "2462414      20085066651             PROTECTIVE ORDER                  3829   \n",
       "2462415      20101570072  VIOL CITY ORDINANCE - OTHER                  3299   \n",
       "2462416      20102371234          FORGERY AND PASSING                  1000   \n",
       "\n",
       "        Family Violence      Occurred Date Time Occurred Date  Occurred Time  \\\n",
       "2462412               N  09/24/2020 12:00:00 PM    09/24/2020         1200.0   \n",
       "2462413               N  03/19/2010 07:00:00 PM    03/19/2010         1900.0   \n",
       "2462414               N  12/16/2008 03:56:00 PM    12/16/2008         1556.0   \n",
       "2462415               N  06/06/2010 12:31:00 AM    06/06/2010           31.0   \n",
       "2462416               N  08/25/2010 04:05:00 PM    08/25/2010         1605.0   \n",
       "\n",
       "               Report Date Time Report Date  Report Time  ... Census Tract  \\\n",
       "2462412  01/13/2021 10:27:00 AM  01/13/2021       1027.0  ...        24.47   \n",
       "2462413  03/19/2010 11:16:00 PM  03/19/2010       2316.0  ...        19.11   \n",
       "2462414  12/16/2008 03:56:00 PM  12/16/2008       1556.0  ...        13.00   \n",
       "2462415  06/06/2010 12:31:00 AM  06/06/2010         31.0  ...       431.00   \n",
       "2462416  08/25/2010 04:05:00 PM  08/25/2010       1605.0  ...        13.00   \n",
       "\n",
       "        Clearance Status  Clearance Date  UCR Category Category Description  \\\n",
       "2462412                N      01/14/2021           NaN                  NaN   \n",
       "2462413                N      03/25/2010           23F                Theft   \n",
       "2462414              NaN             NaN           NaN                  NaN   \n",
       "2462415                C      08/07/2010           NaN                  NaN   \n",
       "2462416                N      08/26/2010           NaN                  NaN   \n",
       "\n",
       "        X-coordinate Y-coordinate   Latitude  Longitude  \\\n",
       "2462412    3118294.0   10050405.0  30.211876 -97.731707   \n",
       "2462413    3105575.0   10069711.0  30.265757 -97.770554   \n",
       "2462414    3105754.0   10060029.0  30.239131 -97.770694   \n",
       "2462415    3130528.0   10104030.0  30.358489 -97.688952   \n",
       "2462416    3107741.0   10061626.0  30.243395 -97.764287   \n",
       "\n",
       "                            Location  \n",
       "2462412   (30.2118759, -97.73170695)  \n",
       "2462413   (30.2657568, -97.77055439)  \n",
       "2462414  (30.23913102, -97.77069399)  \n",
       "2462415  (30.35848873, -97.68895198)  \n",
       "2462416  (30.24339493, -97.76428662)  \n",
       "\n",
       "[5 rows x 27 columns]"
      ]
     },
     "execution_count": 30,
     "metadata": {},
     "output_type": "execute_result"
    }
   ],
   "source": [
    "data_df.tail()"
   ]
  },
  {
   "cell_type": "code",
   "execution_count": 19,
   "id": "6e22d67d-e5cd-4962-958e-5a338c0fe15d",
   "metadata": {},
   "outputs": [],
   "source": [
    "#converted the date format to make sure they were all the same\n",
    "data_df['Occurred Date'] = pd.to_datetime(data_df['Occurred Date'], format='%m/%d/%Y')"
   ]
  },
  {
   "cell_type": "code",
   "execution_count": 21,
   "id": "67837fc4-3ba4-4c6f-838a-160d02c77dd3",
   "metadata": {},
   "outputs": [],
   "source": [
    "# filtered the data to only include years 2019-2023\n",
    "# not shown but I converted that to a new csv\n",
    "filtered_df = data_df.loc[(data_df['Occurred Date']>= '01/01/2019') & (data_df['Occurred Date']< '01/01/2024')]"
   ]
  },
  {
   "cell_type": "code",
   "execution_count": 78,
   "id": "dc94ded5-ad1d-467f-9234-b7a3c600a1ce",
   "metadata": {},
   "outputs": [],
   "source": [
    "df= pd.read_csv('Data/crime_data_filtered.csv', low_memory=False)"
   ]
  },
  {
   "cell_type": "code",
   "execution_count": 79,
   "id": "100518f9-d690-4646-a2a1-98fb8f136dd3",
   "metadata": {},
   "outputs": [
    {
     "name": "stdout",
     "output_type": "stream",
     "text": [
      "<class 'pandas.core.frame.DataFrame'>\n",
      "RangeIndex: 468082 entries, 0 to 468081\n",
      "Data columns (total 27 columns):\n",
      " #   Column                       Non-Null Count   Dtype  \n",
      "---  ------                       --------------   -----  \n",
      " 0   Incident Number              468082 non-null  int64  \n",
      " 1   Highest Offense Description  468082 non-null  object \n",
      " 2   Highest Offense Code         468082 non-null  int64  \n",
      " 3   Family Violence              468082 non-null  object \n",
      " 4   Occurred Date Time           468082 non-null  object \n",
      " 5   Occurred Date                468082 non-null  object \n",
      " 6   Occurred Time                468082 non-null  float64\n",
      " 7   Report Date Time             468082 non-null  object \n",
      " 8   Report Date                  468082 non-null  object \n",
      " 9   Report Time                  468082 non-null  float64\n",
      " 10  Location Type                467485 non-null  object \n",
      " 11  Address                      468081 non-null  object \n",
      " 12  Zip Code                     466393 non-null  float64\n",
      " 13  Council District             465078 non-null  float64\n",
      " 14  APD Sector                   467546 non-null  object \n",
      " 15  APD District                 467332 non-null  object \n",
      " 16  PRA                          466898 non-null  object \n",
      " 17  Census Tract                 465751 non-null  float64\n",
      " 18  Clearance Status             409324 non-null  object \n",
      " 19  Clearance Date               409319 non-null  object \n",
      " 20  UCR Category                 194957 non-null  object \n",
      " 21  Category Description         194957 non-null  object \n",
      " 22  X-coordinate                 466976 non-null  float64\n",
      " 23  Y-coordinate                 466976 non-null  float64\n",
      " 24  Latitude                     460313 non-null  float64\n",
      " 25  Longitude                    460313 non-null  float64\n",
      " 26  Location                     460313 non-null  object \n",
      "dtypes: float64(9), int64(2), object(16)\n",
      "memory usage: 96.4+ MB\n"
     ]
    }
   ],
   "source": [
    "df.info()"
   ]
  },
  {
   "cell_type": "code",
   "execution_count": 80,
   "id": "b84268d6-7891-4159-b20f-efd144504d97",
   "metadata": {},
   "outputs": [],
   "source": [
    "df = df.drop(columns=['Census Tract', 'Clearance Status', 'Clearance Date', 'UCR Category', 'Category Description', 'X-coordinate', 'Y-coordinate'])"
   ]
  },
  {
   "cell_type": "code",
   "execution_count": 82,
   "id": "09b7af6b-e705-4b1f-bb3e-5ff622aca789",
   "metadata": {},
   "outputs": [],
   "source": [
    "data = df.dropna()"
   ]
  },
  {
   "cell_type": "code",
   "execution_count": 83,
   "id": "10c7e43d-8e55-4fa8-b122-ece991f06f28",
   "metadata": {},
   "outputs": [
    {
     "name": "stdout",
     "output_type": "stream",
     "text": [
      "<class 'pandas.core.frame.DataFrame'>\n",
      "Index: 458007 entries, 548 to 468081\n",
      "Data columns (total 20 columns):\n",
      " #   Column                       Non-Null Count   Dtype  \n",
      "---  ------                       --------------   -----  \n",
      " 0   Incident Number              458007 non-null  int64  \n",
      " 1   Highest Offense Description  458007 non-null  object \n",
      " 2   Highest Offense Code         458007 non-null  int64  \n",
      " 3   Family Violence              458007 non-null  object \n",
      " 4   Occurred Date Time           458007 non-null  object \n",
      " 5   Occurred Date                458007 non-null  object \n",
      " 6   Occurred Time                458007 non-null  float64\n",
      " 7   Report Date Time             458007 non-null  object \n",
      " 8   Report Date                  458007 non-null  object \n",
      " 9   Report Time                  458007 non-null  float64\n",
      " 10  Location Type                458007 non-null  object \n",
      " 11  Address                      458007 non-null  object \n",
      " 12  Zip Code                     458007 non-null  float64\n",
      " 13  Council District             458007 non-null  float64\n",
      " 14  APD Sector                   458007 non-null  object \n",
      " 15  APD District                 458007 non-null  object \n",
      " 16  PRA                          458007 non-null  object \n",
      " 17  Latitude                     458007 non-null  float64\n",
      " 18  Longitude                    458007 non-null  float64\n",
      " 19  Location                     458007 non-null  object \n",
      "dtypes: float64(6), int64(2), object(12)\n",
      "memory usage: 73.4+ MB\n"
     ]
    }
   ],
   "source": [
    "data.info()"
   ]
  },
  {
   "cell_type": "code",
   "execution_count": 90,
   "id": "344e0b21-7e13-494d-a984-055dc3102ee4",
   "metadata": {},
   "outputs": [
    {
     "name": "stderr",
     "output_type": "stream",
     "text": [
      "C:\\Users\\lizob\\AppData\\Local\\Temp\\ipykernel_14760\\1414243407.py:1: SettingWithCopyWarning:\n",
      "\n",
      "\n",
      "A value is trying to be set on a copy of a slice from a DataFrame.\n",
      "Try using .loc[row_indexer,col_indexer] = value instead\n",
      "\n",
      "See the caveats in the documentation: https://pandas.pydata.org/pandas-docs/stable/user_guide/indexing.html#returning-a-view-versus-a-copy\n",
      "\n"
     ]
    }
   ],
   "source": [
    "data['Occurred Date'] = pd.to_datetime(data['Occurred Date'], format='%Y-%m-%d')"
   ]
  },
  {
   "cell_type": "code",
   "execution_count": 104,
   "id": "2be074e9-bcd4-4db9-91a9-e783dc925ec8",
   "metadata": {},
   "outputs": [],
   "source": [
    "# Adding a new column of just the year\n",
    "data= data.assign(Year=data['Occurred Date'].dt.year)"
   ]
  },
  {
   "cell_type": "code",
   "execution_count": 99,
   "id": "e6fa7b26-649c-41cb-8458-6e6fd397ac2c",
   "metadata": {},
   "outputs": [
    {
     "data": {
      "text/plain": [
       "['Incident Number',\n",
       " 'Highest Offense Description',\n",
       " 'Highest Offense Code',\n",
       " 'Family Violence',\n",
       " 'Occurred Date Time',\n",
       " 'Occurred Date',\n",
       " 'Occurred Time',\n",
       " 'Report Date Time',\n",
       " 'Report Date',\n",
       " 'Report Time',\n",
       " 'Location Type',\n",
       " 'Address',\n",
       " 'Zip Code',\n",
       " 'Council District',\n",
       " 'APD Sector',\n",
       " 'APD District',\n",
       " 'PRA',\n",
       " 'Latitude',\n",
       " 'Longitude',\n",
       " 'Location',\n",
       " 'Year']"
      ]
     },
     "execution_count": 99,
     "metadata": {},
     "output_type": "execute_result"
    }
   ],
   "source": [
    "# Getting a list of column names so that it can be rearranged\n",
    "cols=list(data.columns.values)"
   ]
  },
  {
   "cell_type": "code",
   "execution_count": 101,
   "id": "4387c352-0e7e-4fca-ba30-ad37fb6f56ec",
   "metadata": {},
   "outputs": [],
   "source": [
    "data=data[['Incident Number',\n",
    " 'Highest Offense Description',\n",
    " 'Highest Offense Code',\n",
    " 'Family Violence',\n",
    " 'Occurred Date Time',\n",
    " 'Occurred Date',\n",
    " 'Year',\n",
    " 'Occurred Time',\n",
    " 'Report Date Time',\n",
    " 'Report Date',\n",
    " 'Report Time',\n",
    " 'Location Type',\n",
    " 'Address',\n",
    " 'Zip Code',\n",
    " 'Council District',\n",
    " 'APD Sector',\n",
    " 'APD District',\n",
    " 'PRA',\n",
    " 'Latitude',\n",
    " 'Longitude',\n",
    " 'Location']]"
   ]
  },
  {
   "cell_type": "code",
   "execution_count": 52,
   "id": "d865830f-cf18-4cbf-9951-2022dac2cc43",
   "metadata": {},
   "outputs": [],
   "source": [
    "def treemap (categories, title, path, values):\n",
    "    fig = px.treemap(categories, path=path, values=values, height=700,\n",
    "        title=title, color_discrete_sequence= px.colors.sequential.RdBu)\n",
    "    fig.data[0].textinfo = 'label+text+value'\n",
    "    fig.show()"
   ]
  },
  {
   "cell_type": "code",
   "execution_count": 50,
   "id": "4cb21f77-3685-4e2a-9167-cdec30a8f1aa",
   "metadata": {},
   "outputs": [],
   "source": [
    "def histogram (data, path, color, title, xaxis, yaxis):\n",
    "    fig = px.histogram(data, x=path, color=color)\n",
    "    fig.update_layout(\n",
    "        title_text=title,\n",
    "        xaxis_title_text=xaxis,\n",
    "        yaxis_title_text=yaxis,\n",
    "        bargap=0.2,\n",
    "        bargroupgap=0.1\n",
    "    )\n",
    "    fig.show()"
   ]
  },
  {
   "cell_type": "code",
   "execution_count": 53,
   "id": "e39c4b2b-4e9f-4c42-beb5-07347a1c51b6",
   "metadata": {},
   "outputs": [],
   "source": [
    "def bar(categories, x,y,color,title,xlab,ylab):\n",
    "    fig = px.bar(categories, x=x, y=y, color=color, height=400)\n",
    "    fig.update_layout(\n",
    "        title_text=title,\n",
    "        xaxis_title_text=xlab,\n",
    "        yaxis_title_text=ylab,\n",
    "        bargap=0.2,\n",
    "        bargroupgap=0.1\n",
    "    )\n",
    "    fig.show()"
   ]
  },
  {
   "cell_type": "code",
   "execution_count": 56,
   "id": "8d3109d2-c51d-499e-8261-917bf1af3962",
   "metadata": {},
   "outputs": [],
   "source": [
    "number_crimes= data['Highest Offense Description'].value_counts()\n",
    "values = number_crimes.values\n",
    "categories= pd.DataFrame(data=number_crimes.index, columns = ['Highest Offense Description'])\n",
    "categories['values']=values"
   ]
  },
  {
   "cell_type": "code",
   "execution_count": 57,
   "id": "f42cd687-1b0f-433a-b006-e8ee3c1c865c",
   "metadata": {},
   "outputs": [
    {
     "data": {
      "application/vnd.plotly.v1+json": {
       "config": {
        "plotlyServerURL": "https://plot.ly"
       },
       "data": [
        {
         "branchvalues": "total",
         "domain": {
          "x": [
           0,
           1
          ],
          "y": [
           0,
           1
          ]
         },
         "hovertemplate": "labels=%{label}<br>value=%{value}<br>parent=%{parent}<br>id=%{id}<extra></extra>",
         "ids": [
          "ABUSE OF 911",
          "ABUSE OF CORPSE",
          "ABUSE OF OFFICIAL CAPACITY",
          "AGG ASLT ENHANC STRANGL/SUFFOC",
          "AGG ASLT STRANGLE/SUFFOCATE",
          "AGG ASLT W/MOTOR VEH FAM/DAT V",
          "AGG ASSAULT",
          "AGG ASSAULT BY PUBLIC SERVANT",
          "AGG ASSAULT FAM/DATE VIOLENCE",
          "AGG ASSAULT ON PEACE OFFICER",
          "AGG ASSAULT ON PUBLIC SERVANT",
          "AGG ASSAULT WITH MOTOR VEH",
          "AGG KIDNAPPING",
          "AGG KIDNAPPING FAM VIO",
          "AGG PERJURY",
          "AGG PROMOTION OF PROSTITUTION",
          "AGG ROBBERY BY ASSAULT",
          "AGG ROBBERY/DEADLY WEAPON",
          "AGG SEXUAL ASSAULT CHILD/OBJECT-SUPER",
          "AIDING SUICIDE",
          "AIRPORT - BOMB THREAT",
          "AIRPORT - BREACH OF SECURITY",
          "AIRPORT - CRIMINAL TRESPASS",
          "AIRPORT - FEDERAL VIOL",
          "AIRPORT PLACES WEAPON PROHIBIT",
          "APPLIC TO REVOKE PROBATION",
          "ARSON",
          "ARSON WITH BODILY INJURY",
          "ARSON-CRIMINAL MISCHIEF",
          "ARSON-DEADLY CONDUCT",
          "ARSON-RECKLESS DAMAGE",
          "ARSON-VIOL CITY ORDINANCE",
          "ASSAULT - SCHOOL PERSONNEL",
          "ASSAULT BY CONTACT",
          "ASSAULT BY CONTACT FAM/DATING",
          "ASSAULT BY THREAT",
          "ASSAULT BY THREAT FAM/DATING",
          "ASSAULT OF A PREGNANT WOMAN",
          "ASSAULT OF PREGNANT WM-FAM/DAT",
          "ASSAULT ON PEACE OFFICER",
          "ASSAULT ON PUBLIC SERVANT",
          "ASSAULT W/INJURY-FAM/DATE VIOL",
          "ASSAULT WITH INJURY",
          "ATT ARSON",
          "ATT AUTO THEFT",
          "ATT BURGLARY NON RESIDENCE",
          "ATT BURGLARY OF RESIDENCE",
          "ATT THEFT",
          "ATTACK BY DOG",
          "AUTO THEFT",
          "BANK KITING",
          "BESTIALITY",
          "BOATING WHILE INTOXICATED",
          "BOMB THREAT",
          "BOMB THREAT - AIRCRAFT",
          "BREACH OF COMPUTER SECURITY",
          "BRIBERY",
          "BURG OF RES - FAM/DATING ASLT",
          "BURGLARY NON RESIDENCE",
          "BURGLARY OF COIN-OP MACHINE",
          "BURGLARY OF RESIDENCE",
          "BURGLARY OF SHED/DETACHED GARAGE/STORAGE UNIT",
          "BURGLARY OF VEH-NO SUSPECT/FU",
          "BURGLARY OF VEHICLE",
          "CAMPING IN PARK",
          "CAPITAL MURDER",
          "CHILD CUSTODY INTERFERE",
          "CHILD ENDANGERMENT- ABANDONMEN",
          "CIVIL DISTURBANCE/DEMO",
          "COMMERCIAL BRIBERY",
          "COMMUNICATING GAMBLING INFO",
          "COMPELLING PROSTITUTION",
          "CONTEMPT OF COURT",
          "CONTROLLED SUB VIOL - OTHER",
          "COUNTERFEITING",
          "CRASH/CRIM NEG HOMICIDE",
          "CRASH/FAIL STOP AND RENDER AID",
          "CRASH/INTOX MANSLAUGHTER",
          "CRASH/INTOXICATION ASSAULT",
          "CRASH/MANSLAUGHTER",
          "CRED CARD ABUSE - EXPIR-CANCEL",
          "CRED CARD ABUSE - OTHER",
          "CRED CARD ABUSE BY FORGERY",
          "CRIM NEG HOMICIDE/NON TRAFFIC",
          "CRIMES AGAINST ELDERLY",
          "CRIMINAL MISCHIEF",
          "CRIMINAL MISCHIEF-NO SUSPECT",
          "CRIMINAL SOLICITATION",
          "CRIMINAL SOLICITATION OF MINOR",
          "CRIMINAL TRESPASS",
          "CRIMINAL TRESPASS/HOTEL",
          "CRIMINAL TRESPASS/IN VEHICLE",
          "CRIMINAL TRESPASS/TRANSIENT",
          "CRUELTY TO ANIMALS",
          "CUSTODY ARREST TRAFFIC WARR",
          "DAMAGE CITY PROP",
          "DAMAGE CITY VEHICLE",
          "DANG DRUG VIOL - OTHER",
          "DATING DISTURBANCE",
          "DEADLY CONDUCT",
          "DEADLY CONDUCT FAM/DATE VIOL",
          "DEBIT CARD ABUSE",
          "DEL CONTROLLED SUB/NARCOTIC",
          "DEL CONTROLLED SUB/OTHER",
          "DEL CONTROLLED SUB/SYN NARC",
          "DEL MARIJUANA",
          "DEL OF ALCOHOL TO MINOR",
          "DEL OF DANG DRUG",
          "DEL SYNTHETIC MARIJUANA",
          "DELIVERY OF PRESCRIPTION FORM",
          "DISPOSAL OF SOLID WASTE",
          "DISRUPTING MEETING/PROCESSION",
          "DISRUPTIVE ACTS AT SCHOOLS",
          "DISTRIB HARMFUL MATERIAL MINOR",
          "DISTURBANCE - OTHER",
          "DOC ABUSE OR THREAT",
          "DOC ABUSIVE LANGUAGE",
          "DOC CREATING NOXIOUS ODOR",
          "DOC DISCHARGE GUN - PUB PLACE",
          "DOC DISCHARGE GUN - PUB ROAD",
          "DOC DISPLAY GUN/DEADLY PUB PLC",
          "DOC EXPOSURE",
          "DOC FIGHTING",
          "DOC OFFENSIVE GESTURE",
          "DOC UNREASONABLE NOISE",
          "DOC WINDOW PEEPING - HOTEL",
          "DOMESTIC VIOLENCE/ALARM",
          "DRIVING WHILE INTOX / FELONY",
          "DRUG/MURDER BY PROVIDING DRUG RESULTING IN DEATH",
          "DUI - AGE 16 AND UNDER",
          "DUI - AGE 17 TO 20",
          "DUMPING REFUSE NEAR HIGHWAY",
          "DWI",
          "DWI  .15 BAC OR ABOVE",
          "DWI - CHILD PASSENGER",
          "DWI - DRUG RECOGNITION EXPERT",
          "DWI 2ND",
          "ENGAGING IN ORGANIZED CRIME",
          "ESCAPE FROM CUSTODY",
          "EVADING / FOOT",
          "EVADING / VEHICLE PURSUIT",
          "EVADING VEHICLE",
          "EXPIRED-DO NOT USE-ASSAULT ON PEACE OFFICER",
          "EXPLOITATION OF CHILD/ELDERLY",
          "EXPLOSIVE ORDNANCE DISPOSAL",
          "FAIL TO REGISTER - ADULT VIC",
          "FAIL TO REGISTER- MINOR VIC",
          "FAILURE TO IDENTIFY",
          "FAILURE TO REPORT CHILD ABUSE",
          "FALSE ALARM OR REPORT",
          "FALSE CALLER ID DISPLAY/SPOOF",
          "FALSE ID AS A PEACE OFFICER",
          "FALSE REPORT TO CPS",
          "FALSE REPORT TO PEACE OFFICER",
          "FALSE STATEMENT -OBTAIN CREDIT",
          "FAMILY DISTURBANCE",
          "FAMILY DISTURBANCE/PARENTAL",
          "FEDERAL VIOL/OTHER",
          "FELONY ENHANCEMENT/ASSLT W/INJ",
          "FICTITIOUS NAME",
          "FIREARMS ON SCHOOL PROP",
          "FORGERY - OTHER",
          "FORGERY AND PASSING",
          "FORGERY BY ALTERATION",
          "FORGERY BY MAKING",
          "FORGERY OF IDENTIFICATION",
          "FORGERY- CERTIFICATE OF TITLE",
          "FRAUD - OTHER",
          "FRAUD DESTRUCTION OF A WRITING",
          "FRAUD FILING FINANCE STATEMENT",
          "FRAUD-CARD SKIMMER",
          "GAMBLING",
          "GAMBLING PROMOTION",
          "GRAFFITI",
          "HARASSMENT",
          "HARASSMENT OF A PUBLIC SERVANT",
          "HARASSMENT ONLINE",
          "HARBORING RUNAWAY CHILD",
          "HAZING",
          "HINDER SECURED CREDITORS",
          "HINDERING APPREHENSION",
          "IDENTITY THEFT",
          "IDENTITY THEFT-TAX RETURNS",
          "ILLUMIN AIRCRAFT INTENSE LIGHT",
          "IMMIGRATION HOLD/ARREST",
          "IMPERSONATING PUBLIC SERVANT",
          "INDECENT ASSAULT",
          "INDECENT EXPOSURE",
          "INHALANT ABUSE",
          "INJ TO DISABLED  FAM/DATE VIOL",
          "INJ TO ELDERLY   FAM/DATE VIOL",
          "INJ/CHILD FV (NO CARE/CUSTODY)",
          "INJURY DISABLED INDIVIDUAL",
          "INJURY TO CHILD",
          "INJURY TO CHILD (CARE/CUSTODY)",
          "INJURY TO ELDERLY PERSON",
          "INJURY TO ELDERLY PERSON - SBI",
          "INTER EMERG PHONECALL FAM/DATE",
          "INTERFERE W PO SERVICE ANIMALS",
          "INTERFERENCE PUBLIC DUTIES",
          "INTERFERING W/EMERG PHONE CALL",
          "JUSTIFIED HOMICIDE",
          "KEEPING GAMBLING PLACE",
          "KIDNAPPING",
          "KIDNAPPING FAM VIO",
          "LIQUOR LAW VIOLATION/OTHER",
          "LITTERING",
          "LOCATION RESTRICT KNIFE CLS C",
          "MAIL THEFT",
          "MAKING TOBACCO AVAIL TO MINOR",
          "MANF CONTROLLED SUB - OTHER",
          "MANF CONTROLLED SUB- SYN NARC",
          "MANF SYNTHETIC MARIJUANA",
          "MANSLAUGHTER",
          "MISAPPLY FIDUCIARY PROP",
          "MISREP AGE BY MINOR",
          "MISUSE OF OFFICIAL INFO",
          "MONEY LAUNDERING",
          "MURDER",
          "NUISANCE ABATEMENT",
          "OBSCENE DISPLAY - DISTRIBUTION",
          "OBSCENITY",
          "OBTAIN CONTROLLED SUB BY FRAUD",
          "OBTAIN DANG DRUG BY FRAUD",
          "OFFICIAL OPPRESSION",
          "ONLINE IMPERSONATION",
          "ONLINE SOLICITATION OF A MINOR",
          "PAROLE VIOL",
          "PERJURY",
          "PIGEON DROP",
          "POCKET PICKING",
          "POSS CONTROLLED SUB/NARCOTIC",
          "POSS CONTROLLED SUB/OTHER",
          "POSS CONTROLLED SUB/SYN NARC",
          "POSS CRIMINAL INSTRUMENT",
          "POSS DANG DRUG",
          "POSS OF ALCOHOL - AGE 17 TO 20",
          "POSS OF ALCOHOL-AGE 16 & UNDER",
          "POSS OF DRUG PARAPHERNALIA",
          "POSS OF FIREARM BY FELON",
          "POSS OF GAMBLING PARAPHERNALIA",
          "POSS OF PRESCRIPTION FORM",
          "POSS OF PROHIBITED WEAPON",
          "POSS SYNTHETIC MARIJUANA",
          "POSS/PROMO CHILD PORNOGRAPHY",
          "POSSESSION OF FORGED WRITING",
          "POSSESSION OF MARIJUANA",
          "PRACTICE MEDICINE W/OUT LICENS",
          "PROBATION VIOL",
          "PROMOTION OF PROSTITUTION",
          "PROSTITUTION",
          "PROTECTIVE ORDER",
          "PROWLER",
          "PUBLIC LEWDNESS",
          "PURCHASING PROSTITUTION",
          "PURSE SNATCHING",
          "RECKLESS CONDUCT",
          "RECKLESS DAMAGE",
          "RENTAL CAR/FAIL TO RETURN",
          "RESISTING ARREST OR SEARCH",
          "RETALIATION",
          "RIOT",
          "ROBBERY BY ASSAULT",
          "ROBBERY BY THREAT",
          "SALE OF DXM TO MINOR",
          "SALE OF LIQ WITHOUT PERMIT",
          "SALE OR PURCHASE OF CHILD",
          "SECURING EXEC-DOC BY DECEPTION",
          "SEXTING/TRANSMIT SEXUAL PHOTOS",
          "SEXUAL COERCION",
          "SIT AND LIE ORDINANCE VIOL",
          "SMUGGLING ILLEGAL ALIEN",
          "SOLICITATION - BEGGING",
          "STALKING",
          "STAY AWAY ORDER",
          "TAKE WEAPON FRM POLICE OFFICER",
          "TAMPERING WITH CONSUMER PROD",
          "TAMPERING WITH EVIDENCE",
          "TAMPERING WITH GOV RECORD",
          "TAMPERING WITH ID NUMBER",
          "TAMPERING WITH WITNESS",
          "TELECOMMUNICATION CRIMES/OTHER",
          "TERRORISTIC THREAT",
          "TERRORISTIC THREAT-FAM/DAT VIO",
          "TERRORISTIC THREAT-MASS CASLTY",
          "THEFT",
          "THEFT BY EMBEZZLEMENT",
          "THEFT BY EXTORTION",
          "THEFT BY FALSE PRETEXT/BUNCO",
          "THEFT BY PUBLIC SERVANT",
          "THEFT BY SHOPLIFTING",
          "THEFT CATALYTIC CONVERTER",
          "THEFT FROM AUTO",
          "THEFT FROM BUILDING",
          "THEFT FROM PERSON",
          "THEFT OF AUTO PARTS",
          "THEFT OF BICYCLE",
          "THEFT OF CRYPTOCURRENCY",
          "THEFT OF HEAVY EQUIPMENT",
          "THEFT OF LICENSE PLATE",
          "THEFT OF METAL",
          "THEFT OF SERVICE",
          "THEFT OF TELECOMMUNICATION SRV",
          "THEFT OF TRAILER",
          "THEFT- APPROPRIATE STOLEN PROP",
          "THEFT-NO SUSPECT/FOLLOWUP",
          "THEFT/TILL TAPPING",
          "TOBACCO VIOL - UNDER AGE 17",
          "TOBACCO VIOL - UNDER AGE 21",
          "TRADEMARK COUNTERFEITING",
          "TRAFFICKING OF PERSONS FOR SEX",
          "TRUANCY",
          "UCW LICENSE PREMISE",
          "UNLAWFUL CARRY-LIC HOLDER",
          "UNLAWFUL CARRYING WEAPON",
          "UNLAWFUL INTERCEPTION",
          "UNLAWFUL RESTRAINT",
          "UNLAWFUL RESTRAINT FAM/DAT VIO",
          "URINATING IN PUBLIC PLACE",
          "VIOL CITY ORD-COVID 19 MASK",
          "VIOL CITY ORDINANCE -  GAME RM",
          "VIOL CITY ORDINANCE - AIRPORT",
          "VIOL CITY ORDINANCE - BOOTING",
          "VIOL CITY ORDINANCE - CURFEW",
          "VIOL CITY ORDINANCE - DOG",
          "VIOL CITY ORDINANCE - OTHER",
          "VIOL CITY ORDINANCE - SMOKING",
          "VIOL CITY ORDINANCE - SOUND",
          "VIOL CITY ORDINANCE - TAXI",
          "VIOL CITY ORDINANCE - TITLE 10",
          "VIOL CITY ORDINANCE - WRECKER",
          "VIOL CITY ORDINANCE -FIREWORK",
          "VIOL CIVIL RIGHTS PRISONER",
          "VIOL GLASS CONTAINER",
          "VIOL OF AGGRESSIVE CONFRONT",
          "VIOL OF BOND CONDITIONS",
          "VIOL OF CAMPING ORDINANCE",
          "VIOL OF COURT ORDER-NON EPO-PO",
          "VIOL OF EMERG PROTECTIVE ORDER",
          "VIOL OF OBSTRUCTION ORDINANCE",
          "VIOL OF PARK CURFEW",
          "VIOL OF PROTECTIVE ORDER",
          "VIOL STATE LAW - OTHER",
          "VIOL STATE MASSAGE REGULATIONS",
          "VIOL STAY AWAY ORDER",
          "VIOL TEMP EX PARTE  ORDER",
          "VOCO - ALCOHOL  CONSUMPTION",
          "VOCO AMPLIFIED MUSIC/VEHICLE",
          "VOCO SOLICITATION PROHIBIT",
          "WARRANT ARREST NON TRAFFIC",
          "WEAPON VIOL - OTHER"
         ],
         "labels": [
          "ABUSE OF 911",
          "ABUSE OF CORPSE",
          "ABUSE OF OFFICIAL CAPACITY",
          "AGG ASLT ENHANC STRANGL/SUFFOC",
          "AGG ASLT STRANGLE/SUFFOCATE",
          "AGG ASLT W/MOTOR VEH FAM/DAT V",
          "AGG ASSAULT",
          "AGG ASSAULT BY PUBLIC SERVANT",
          "AGG ASSAULT FAM/DATE VIOLENCE",
          "AGG ASSAULT ON PEACE OFFICER",
          "AGG ASSAULT ON PUBLIC SERVANT",
          "AGG ASSAULT WITH MOTOR VEH",
          "AGG KIDNAPPING",
          "AGG KIDNAPPING FAM VIO",
          "AGG PERJURY",
          "AGG PROMOTION OF PROSTITUTION",
          "AGG ROBBERY BY ASSAULT",
          "AGG ROBBERY/DEADLY WEAPON",
          "AGG SEXUAL ASSAULT CHILD/OBJECT-SUPER",
          "AIDING SUICIDE",
          "AIRPORT - BOMB THREAT",
          "AIRPORT - BREACH OF SECURITY",
          "AIRPORT - CRIMINAL TRESPASS",
          "AIRPORT - FEDERAL VIOL",
          "AIRPORT PLACES WEAPON PROHIBIT",
          "APPLIC TO REVOKE PROBATION",
          "ARSON",
          "ARSON WITH BODILY INJURY",
          "ARSON-CRIMINAL MISCHIEF",
          "ARSON-DEADLY CONDUCT",
          "ARSON-RECKLESS DAMAGE",
          "ARSON-VIOL CITY ORDINANCE",
          "ASSAULT - SCHOOL PERSONNEL",
          "ASSAULT BY CONTACT",
          "ASSAULT BY CONTACT FAM/DATING",
          "ASSAULT BY THREAT",
          "ASSAULT BY THREAT FAM/DATING",
          "ASSAULT OF A PREGNANT WOMAN",
          "ASSAULT OF PREGNANT WM-FAM/DAT",
          "ASSAULT ON PEACE OFFICER",
          "ASSAULT ON PUBLIC SERVANT",
          "ASSAULT W/INJURY-FAM/DATE VIOL",
          "ASSAULT WITH INJURY",
          "ATT ARSON",
          "ATT AUTO THEFT",
          "ATT BURGLARY NON RESIDENCE",
          "ATT BURGLARY OF RESIDENCE",
          "ATT THEFT",
          "ATTACK BY DOG",
          "AUTO THEFT",
          "BANK KITING",
          "BESTIALITY",
          "BOATING WHILE INTOXICATED",
          "BOMB THREAT",
          "BOMB THREAT - AIRCRAFT",
          "BREACH OF COMPUTER SECURITY",
          "BRIBERY",
          "BURG OF RES - FAM/DATING ASLT",
          "BURGLARY NON RESIDENCE",
          "BURGLARY OF COIN-OP MACHINE",
          "BURGLARY OF RESIDENCE",
          "BURGLARY OF SHED/DETACHED GARAGE/STORAGE UNIT",
          "BURGLARY OF VEH-NO SUSPECT/FU",
          "BURGLARY OF VEHICLE",
          "CAMPING IN PARK",
          "CAPITAL MURDER",
          "CHILD CUSTODY INTERFERE",
          "CHILD ENDANGERMENT- ABANDONMEN",
          "CIVIL DISTURBANCE/DEMO",
          "COMMERCIAL BRIBERY",
          "COMMUNICATING GAMBLING INFO",
          "COMPELLING PROSTITUTION",
          "CONTEMPT OF COURT",
          "CONTROLLED SUB VIOL - OTHER",
          "COUNTERFEITING",
          "CRASH/CRIM NEG HOMICIDE",
          "CRASH/FAIL STOP AND RENDER AID",
          "CRASH/INTOX MANSLAUGHTER",
          "CRASH/INTOXICATION ASSAULT",
          "CRASH/MANSLAUGHTER",
          "CRED CARD ABUSE - EXPIR-CANCEL",
          "CRED CARD ABUSE - OTHER",
          "CRED CARD ABUSE BY FORGERY",
          "CRIM NEG HOMICIDE/NON TRAFFIC",
          "CRIMES AGAINST ELDERLY",
          "CRIMINAL MISCHIEF",
          "CRIMINAL MISCHIEF-NO SUSPECT",
          "CRIMINAL SOLICITATION",
          "CRIMINAL SOLICITATION OF MINOR",
          "CRIMINAL TRESPASS",
          "CRIMINAL TRESPASS/HOTEL",
          "CRIMINAL TRESPASS/IN VEHICLE",
          "CRIMINAL TRESPASS/TRANSIENT",
          "CRUELTY TO ANIMALS",
          "CUSTODY ARREST TRAFFIC WARR",
          "DAMAGE CITY PROP",
          "DAMAGE CITY VEHICLE",
          "DANG DRUG VIOL - OTHER",
          "DATING DISTURBANCE",
          "DEADLY CONDUCT",
          "DEADLY CONDUCT FAM/DATE VIOL",
          "DEBIT CARD ABUSE",
          "DEL CONTROLLED SUB/NARCOTIC",
          "DEL CONTROLLED SUB/OTHER",
          "DEL CONTROLLED SUB/SYN NARC",
          "DEL MARIJUANA",
          "DEL OF ALCOHOL TO MINOR",
          "DEL OF DANG DRUG",
          "DEL SYNTHETIC MARIJUANA",
          "DELIVERY OF PRESCRIPTION FORM",
          "DISPOSAL OF SOLID WASTE",
          "DISRUPTING MEETING/PROCESSION",
          "DISRUPTIVE ACTS AT SCHOOLS",
          "DISTRIB HARMFUL MATERIAL MINOR",
          "DISTURBANCE - OTHER",
          "DOC ABUSE OR THREAT",
          "DOC ABUSIVE LANGUAGE",
          "DOC CREATING NOXIOUS ODOR",
          "DOC DISCHARGE GUN - PUB PLACE",
          "DOC DISCHARGE GUN - PUB ROAD",
          "DOC DISPLAY GUN/DEADLY PUB PLC",
          "DOC EXPOSURE",
          "DOC FIGHTING",
          "DOC OFFENSIVE GESTURE",
          "DOC UNREASONABLE NOISE",
          "DOC WINDOW PEEPING - HOTEL",
          "DOMESTIC VIOLENCE/ALARM",
          "DRIVING WHILE INTOX / FELONY",
          "DRUG/MURDER BY PROVIDING DRUG RESULTING IN DEATH",
          "DUI - AGE 16 AND UNDER",
          "DUI - AGE 17 TO 20",
          "DUMPING REFUSE NEAR HIGHWAY",
          "DWI",
          "DWI  .15 BAC OR ABOVE",
          "DWI - CHILD PASSENGER",
          "DWI - DRUG RECOGNITION EXPERT",
          "DWI 2ND",
          "ENGAGING IN ORGANIZED CRIME",
          "ESCAPE FROM CUSTODY",
          "EVADING / FOOT",
          "EVADING / VEHICLE PURSUIT",
          "EVADING VEHICLE",
          "EXPIRED-DO NOT USE-ASSAULT ON PEACE OFFICER",
          "EXPLOITATION OF CHILD/ELDERLY",
          "EXPLOSIVE ORDNANCE DISPOSAL",
          "FAIL TO REGISTER - ADULT VIC",
          "FAIL TO REGISTER- MINOR VIC",
          "FAILURE TO IDENTIFY",
          "FAILURE TO REPORT CHILD ABUSE",
          "FALSE ALARM OR REPORT",
          "FALSE CALLER ID DISPLAY/SPOOF",
          "FALSE ID AS A PEACE OFFICER",
          "FALSE REPORT TO CPS",
          "FALSE REPORT TO PEACE OFFICER",
          "FALSE STATEMENT -OBTAIN CREDIT",
          "FAMILY DISTURBANCE",
          "FAMILY DISTURBANCE/PARENTAL",
          "FEDERAL VIOL/OTHER",
          "FELONY ENHANCEMENT/ASSLT W/INJ",
          "FICTITIOUS NAME",
          "FIREARMS ON SCHOOL PROP",
          "FORGERY - OTHER",
          "FORGERY AND PASSING",
          "FORGERY BY ALTERATION",
          "FORGERY BY MAKING",
          "FORGERY OF IDENTIFICATION",
          "FORGERY- CERTIFICATE OF TITLE",
          "FRAUD - OTHER",
          "FRAUD DESTRUCTION OF A WRITING",
          "FRAUD FILING FINANCE STATEMENT",
          "FRAUD-CARD SKIMMER",
          "GAMBLING",
          "GAMBLING PROMOTION",
          "GRAFFITI",
          "HARASSMENT",
          "HARASSMENT OF A PUBLIC SERVANT",
          "HARASSMENT ONLINE",
          "HARBORING RUNAWAY CHILD",
          "HAZING",
          "HINDER SECURED CREDITORS",
          "HINDERING APPREHENSION",
          "IDENTITY THEFT",
          "IDENTITY THEFT-TAX RETURNS",
          "ILLUMIN AIRCRAFT INTENSE LIGHT",
          "IMMIGRATION HOLD/ARREST",
          "IMPERSONATING PUBLIC SERVANT",
          "INDECENT ASSAULT",
          "INDECENT EXPOSURE",
          "INHALANT ABUSE",
          "INJ TO DISABLED  FAM/DATE VIOL",
          "INJ TO ELDERLY   FAM/DATE VIOL",
          "INJ/CHILD FV (NO CARE/CUSTODY)",
          "INJURY DISABLED INDIVIDUAL",
          "INJURY TO CHILD",
          "INJURY TO CHILD (CARE/CUSTODY)",
          "INJURY TO ELDERLY PERSON",
          "INJURY TO ELDERLY PERSON - SBI",
          "INTER EMERG PHONECALL FAM/DATE",
          "INTERFERE W PO SERVICE ANIMALS",
          "INTERFERENCE PUBLIC DUTIES",
          "INTERFERING W/EMERG PHONE CALL",
          "JUSTIFIED HOMICIDE",
          "KEEPING GAMBLING PLACE",
          "KIDNAPPING",
          "KIDNAPPING FAM VIO",
          "LIQUOR LAW VIOLATION/OTHER",
          "LITTERING",
          "LOCATION RESTRICT KNIFE CLS C",
          "MAIL THEFT",
          "MAKING TOBACCO AVAIL TO MINOR",
          "MANF CONTROLLED SUB - OTHER",
          "MANF CONTROLLED SUB- SYN NARC",
          "MANF SYNTHETIC MARIJUANA",
          "MANSLAUGHTER",
          "MISAPPLY FIDUCIARY PROP",
          "MISREP AGE BY MINOR",
          "MISUSE OF OFFICIAL INFO",
          "MONEY LAUNDERING",
          "MURDER",
          "NUISANCE ABATEMENT",
          "OBSCENE DISPLAY - DISTRIBUTION",
          "OBSCENITY",
          "OBTAIN CONTROLLED SUB BY FRAUD",
          "OBTAIN DANG DRUG BY FRAUD",
          "OFFICIAL OPPRESSION",
          "ONLINE IMPERSONATION",
          "ONLINE SOLICITATION OF A MINOR",
          "PAROLE VIOL",
          "PERJURY",
          "PIGEON DROP",
          "POCKET PICKING",
          "POSS CONTROLLED SUB/NARCOTIC",
          "POSS CONTROLLED SUB/OTHER",
          "POSS CONTROLLED SUB/SYN NARC",
          "POSS CRIMINAL INSTRUMENT",
          "POSS DANG DRUG",
          "POSS OF ALCOHOL - AGE 17 TO 20",
          "POSS OF ALCOHOL-AGE 16 & UNDER",
          "POSS OF DRUG PARAPHERNALIA",
          "POSS OF FIREARM BY FELON",
          "POSS OF GAMBLING PARAPHERNALIA",
          "POSS OF PRESCRIPTION FORM",
          "POSS OF PROHIBITED WEAPON",
          "POSS SYNTHETIC MARIJUANA",
          "POSS/PROMO CHILD PORNOGRAPHY",
          "POSSESSION OF FORGED WRITING",
          "POSSESSION OF MARIJUANA",
          "PRACTICE MEDICINE W/OUT LICENS",
          "PROBATION VIOL",
          "PROMOTION OF PROSTITUTION",
          "PROSTITUTION",
          "PROTECTIVE ORDER",
          "PROWLER",
          "PUBLIC LEWDNESS",
          "PURCHASING PROSTITUTION",
          "PURSE SNATCHING",
          "RECKLESS CONDUCT",
          "RECKLESS DAMAGE",
          "RENTAL CAR/FAIL TO RETURN",
          "RESISTING ARREST OR SEARCH",
          "RETALIATION",
          "RIOT",
          "ROBBERY BY ASSAULT",
          "ROBBERY BY THREAT",
          "SALE OF DXM TO MINOR",
          "SALE OF LIQ WITHOUT PERMIT",
          "SALE OR PURCHASE OF CHILD",
          "SECURING EXEC-DOC BY DECEPTION",
          "SEXTING/TRANSMIT SEXUAL PHOTOS",
          "SEXUAL COERCION",
          "SIT AND LIE ORDINANCE VIOL",
          "SMUGGLING ILLEGAL ALIEN",
          "SOLICITATION - BEGGING",
          "STALKING",
          "STAY AWAY ORDER",
          "TAKE WEAPON FRM POLICE OFFICER",
          "TAMPERING WITH CONSUMER PROD",
          "TAMPERING WITH EVIDENCE",
          "TAMPERING WITH GOV RECORD",
          "TAMPERING WITH ID NUMBER",
          "TAMPERING WITH WITNESS",
          "TELECOMMUNICATION CRIMES/OTHER",
          "TERRORISTIC THREAT",
          "TERRORISTIC THREAT-FAM/DAT VIO",
          "TERRORISTIC THREAT-MASS CASLTY",
          "THEFT",
          "THEFT BY EMBEZZLEMENT",
          "THEFT BY EXTORTION",
          "THEFT BY FALSE PRETEXT/BUNCO",
          "THEFT BY PUBLIC SERVANT",
          "THEFT BY SHOPLIFTING",
          "THEFT CATALYTIC CONVERTER",
          "THEFT FROM AUTO",
          "THEFT FROM BUILDING",
          "THEFT FROM PERSON",
          "THEFT OF AUTO PARTS",
          "THEFT OF BICYCLE",
          "THEFT OF CRYPTOCURRENCY",
          "THEFT OF HEAVY EQUIPMENT",
          "THEFT OF LICENSE PLATE",
          "THEFT OF METAL",
          "THEFT OF SERVICE",
          "THEFT OF TELECOMMUNICATION SRV",
          "THEFT OF TRAILER",
          "THEFT- APPROPRIATE STOLEN PROP",
          "THEFT-NO SUSPECT/FOLLOWUP",
          "THEFT/TILL TAPPING",
          "TOBACCO VIOL - UNDER AGE 17",
          "TOBACCO VIOL - UNDER AGE 21",
          "TRADEMARK COUNTERFEITING",
          "TRAFFICKING OF PERSONS FOR SEX",
          "TRUANCY",
          "UCW LICENSE PREMISE",
          "UNLAWFUL CARRY-LIC HOLDER",
          "UNLAWFUL CARRYING WEAPON",
          "UNLAWFUL INTERCEPTION",
          "UNLAWFUL RESTRAINT",
          "UNLAWFUL RESTRAINT FAM/DAT VIO",
          "URINATING IN PUBLIC PLACE",
          "VIOL CITY ORD-COVID 19 MASK",
          "VIOL CITY ORDINANCE -  GAME RM",
          "VIOL CITY ORDINANCE - AIRPORT",
          "VIOL CITY ORDINANCE - BOOTING",
          "VIOL CITY ORDINANCE - CURFEW",
          "VIOL CITY ORDINANCE - DOG",
          "VIOL CITY ORDINANCE - OTHER",
          "VIOL CITY ORDINANCE - SMOKING",
          "VIOL CITY ORDINANCE - SOUND",
          "VIOL CITY ORDINANCE - TAXI",
          "VIOL CITY ORDINANCE - TITLE 10",
          "VIOL CITY ORDINANCE - WRECKER",
          "VIOL CITY ORDINANCE -FIREWORK",
          "VIOL CIVIL RIGHTS PRISONER",
          "VIOL GLASS CONTAINER",
          "VIOL OF AGGRESSIVE CONFRONT",
          "VIOL OF BOND CONDITIONS",
          "VIOL OF CAMPING ORDINANCE",
          "VIOL OF COURT ORDER-NON EPO-PO",
          "VIOL OF EMERG PROTECTIVE ORDER",
          "VIOL OF OBSTRUCTION ORDINANCE",
          "VIOL OF PARK CURFEW",
          "VIOL OF PROTECTIVE ORDER",
          "VIOL STATE LAW - OTHER",
          "VIOL STATE MASSAGE REGULATIONS",
          "VIOL STAY AWAY ORDER",
          "VIOL TEMP EX PARTE  ORDER",
          "VOCO - ALCOHOL  CONSUMPTION",
          "VOCO AMPLIFIED MUSIC/VEHICLE",
          "VOCO SOLICITATION PROHIBIT",
          "WARRANT ARREST NON TRAFFIC",
          "WEAPON VIOL - OTHER"
         ],
         "name": "",
         "parents": [
          "",
          "",
          "",
          "",
          "",
          "",
          "",
          "",
          "",
          "",
          "",
          "",
          "",
          "",
          "",
          "",
          "",
          "",
          "",
          "",
          "",
          "",
          "",
          "",
          "",
          "",
          "",
          "",
          "",
          "",
          "",
          "",
          "",
          "",
          "",
          "",
          "",
          "",
          "",
          "",
          "",
          "",
          "",
          "",
          "",
          "",
          "",
          "",
          "",
          "",
          "",
          "",
          "",
          "",
          "",
          "",
          "",
          "",
          "",
          "",
          "",
          "",
          "",
          "",
          "",
          "",
          "",
          "",
          "",
          "",
          "",
          "",
          "",
          "",
          "",
          "",
          "",
          "",
          "",
          "",
          "",
          "",
          "",
          "",
          "",
          "",
          "",
          "",
          "",
          "",
          "",
          "",
          "",
          "",
          "",
          "",
          "",
          "",
          "",
          "",
          "",
          "",
          "",
          "",
          "",
          "",
          "",
          "",
          "",
          "",
          "",
          "",
          "",
          "",
          "",
          "",
          "",
          "",
          "",
          "",
          "",
          "",
          "",
          "",
          "",
          "",
          "",
          "",
          "",
          "",
          "",
          "",
          "",
          "",
          "",
          "",
          "",
          "",
          "",
          "",
          "",
          "",
          "",
          "",
          "",
          "",
          "",
          "",
          "",
          "",
          "",
          "",
          "",
          "",
          "",
          "",
          "",
          "",
          "",
          "",
          "",
          "",
          "",
          "",
          "",
          "",
          "",
          "",
          "",
          "",
          "",
          "",
          "",
          "",
          "",
          "",
          "",
          "",
          "",
          "",
          "",
          "",
          "",
          "",
          "",
          "",
          "",
          "",
          "",
          "",
          "",
          "",
          "",
          "",
          "",
          "",
          "",
          "",
          "",
          "",
          "",
          "",
          "",
          "",
          "",
          "",
          "",
          "",
          "",
          "",
          "",
          "",
          "",
          "",
          "",
          "",
          "",
          "",
          "",
          "",
          "",
          "",
          "",
          "",
          "",
          "",
          "",
          "",
          "",
          "",
          "",
          "",
          "",
          "",
          "",
          "",
          "",
          "",
          "",
          "",
          "",
          "",
          "",
          "",
          "",
          "",
          "",
          "",
          "",
          "",
          "",
          "",
          "",
          "",
          "",
          "",
          "",
          "",
          "",
          "",
          "",
          "",
          "",
          "",
          "",
          "",
          "",
          "",
          "",
          "",
          "",
          "",
          "",
          "",
          "",
          "",
          "",
          "",
          "",
          "",
          "",
          "",
          "",
          "",
          "",
          "",
          "",
          "",
          "",
          "",
          "",
          "",
          "",
          "",
          "",
          "",
          "",
          "",
          "",
          "",
          "",
          "",
          "",
          "",
          "",
          "",
          "",
          "",
          "",
          "",
          "",
          "",
          "",
          "",
          "",
          "",
          "",
          "",
          "",
          "",
          "",
          "",
          "",
          "",
          "",
          "",
          "",
          "",
          "",
          "",
          "",
          "",
          "",
          "",
          "",
          "",
          "",
          "",
          "",
          "",
          "",
          "",
          "",
          "",
          "",
          "",
          "",
          "",
          "",
          "",
          ""
         ],
         "textinfo": "label+text+value",
         "type": "treemap",
         "values": [
          148,
          3,
          2,
          232,
          2949,
          103,
          5616,
          10,
          2213,
          64,
          44,
          272,
          27,
          10,
          1,
          28,
          87,
          2757,
          10,
          1,
          2,
          13,
          215,
          66,
          489,
          29,
          525,
          4,
          153,
          4,
          6,
          28,
          2,
          8005,
          3749,
          5874,
          1123,
          46,
          280,
          356,
          517,
          16024,
          12181,
          2,
          9,
          3,
          7,
          4,
          8,
          23014,
          4,
          2,
          4,
          75,
          1,
          462,
          2,
          214,
          9838,
          274,
          8386,
          4330,
          8384,
          42229,
          14,
          25,
          3851,
          255,
          213,
          1,
          1,
          2,
          16,
          5,
          342,
          3,
          3186,
          29,
          113,
          8,
          23,
          3345,
          138,
          1,
          27,
          25061,
          1410,
          3,
          13,
          9410,
          289,
          213,
          1089,
          1057,
          595,
          582,
          732,
          3,
          5054,
          1401,
          46,
          3110,
          620,
          42,
          20,
          36,
          6,
          2,
          16,
          1,
          9,
          3,
          3,
          18,
          11179,
          46,
          76,
          1,
          948,
          268,
          570,
          547,
          1060,
          71,
          99,
          1,
          6,
          1040,
          1,
          14,
          65,
          35,
          8908,
          1941,
          213,
          387,
          1648,
          39,
          16,
          1082,
          408,
          1219,
          1,
          91,
          130,
          6,
          39,
          859,
          1,
          239,
          4,
          2,
          3,
          172,
          173,
          47035,
          3162,
          88,
          950,
          3,
          4,
          331,
          2760,
          113,
          174,
          51,
          26,
          6449,
          32,
          56,
          138,
          14,
          1,
          999,
          11515,
          259,
          14,
          51,
          1,
          20,
          12,
          8303,
          39,
          19,
          2,
          77,
          527,
          1027,
          26,
          42,
          332,
          19,
          176,
          415,
          62,
          368,
          7,
          132,
          37,
          111,
          73,
          31,
          6,
          28,
          4,
          80,
          54,
          5,
          6395,
          2,
          11,
          5,
          1,
          8,
          23,
          38,
          6,
          21,
          240,
          68,
          21,
          1,
          77,
          15,
          1,
          395,
          140,
          58,
          6,
          4,
          76,
          6694,
          462,
          202,
          16,
          114,
          20,
          14,
          3437,
          853,
          1,
          2,
          53,
          181,
          204,
          3,
          3887,
          1,
          34,
          15,
          169,
          658,
          37,
          59,
          32,
          48,
          21,
          553,
          266,
          697,
          113,
          15,
          1515,
          523,
          1,
          2,
          2,
          14,
          107,
          28,
          13,
          19,
          13,
          367,
          3,
          37,
          21,
          99,
          58,
          4,
          5,
          9,
          3673,
          965,
          129,
          33594,
          49,
          61,
          45,
          4,
          11100,
          4752,
          1541,
          1370,
          3090,
          1027,
          6456,
          4,
          133,
          3907,
          560,
          2018,
          3,
          1468,
          45,
          570,
          1,
          1,
          5,
          6,
          18,
          6,
          31,
          24,
          1775,
          5,
          98,
          138,
          74,
          1,
          12,
          21,
          37,
          2,
          80,
          640,
          2,
          48,
          1,
          3,
          519,
          23,
          1,
          1,
          10,
          214,
          65,
          4,
          802,
          6,
          6,
          1572,
          378,
          1,
          18,
          64,
          38,
          1,
          1,
          1524,
          23
         ]
        }
       ],
       "layout": {
        "autosize": true,
        "legend": {
         "tracegroupgap": 0
        },
        "template": {
         "data": {
          "bar": [
           {
            "error_x": {
             "color": "#2a3f5f"
            },
            "error_y": {
             "color": "#2a3f5f"
            },
            "marker": {
             "line": {
              "color": "#E5ECF6",
              "width": 0.5
             },
             "pattern": {
              "fillmode": "overlay",
              "size": 10,
              "solidity": 0.2
             }
            },
            "type": "bar"
           }
          ],
          "barpolar": [
           {
            "marker": {
             "line": {
              "color": "#E5ECF6",
              "width": 0.5
             },
             "pattern": {
              "fillmode": "overlay",
              "size": 10,
              "solidity": 0.2
             }
            },
            "type": "barpolar"
           }
          ],
          "carpet": [
           {
            "aaxis": {
             "endlinecolor": "#2a3f5f",
             "gridcolor": "white",
             "linecolor": "white",
             "minorgridcolor": "white",
             "startlinecolor": "#2a3f5f"
            },
            "baxis": {
             "endlinecolor": "#2a3f5f",
             "gridcolor": "white",
             "linecolor": "white",
             "minorgridcolor": "white",
             "startlinecolor": "#2a3f5f"
            },
            "type": "carpet"
           }
          ],
          "choropleth": [
           {
            "colorbar": {
             "outlinewidth": 0,
             "ticks": ""
            },
            "type": "choropleth"
           }
          ],
          "contour": [
           {
            "colorbar": {
             "outlinewidth": 0,
             "ticks": ""
            },
            "colorscale": [
             [
              0,
              "#0d0887"
             ],
             [
              0.1111111111111111,
              "#46039f"
             ],
             [
              0.2222222222222222,
              "#7201a8"
             ],
             [
              0.3333333333333333,
              "#9c179e"
             ],
             [
              0.4444444444444444,
              "#bd3786"
             ],
             [
              0.5555555555555556,
              "#d8576b"
             ],
             [
              0.6666666666666666,
              "#ed7953"
             ],
             [
              0.7777777777777778,
              "#fb9f3a"
             ],
             [
              0.8888888888888888,
              "#fdca26"
             ],
             [
              1,
              "#f0f921"
             ]
            ],
            "type": "contour"
           }
          ],
          "contourcarpet": [
           {
            "colorbar": {
             "outlinewidth": 0,
             "ticks": ""
            },
            "type": "contourcarpet"
           }
          ],
          "heatmap": [
           {
            "colorbar": {
             "outlinewidth": 0,
             "ticks": ""
            },
            "colorscale": [
             [
              0,
              "#0d0887"
             ],
             [
              0.1111111111111111,
              "#46039f"
             ],
             [
              0.2222222222222222,
              "#7201a8"
             ],
             [
              0.3333333333333333,
              "#9c179e"
             ],
             [
              0.4444444444444444,
              "#bd3786"
             ],
             [
              0.5555555555555556,
              "#d8576b"
             ],
             [
              0.6666666666666666,
              "#ed7953"
             ],
             [
              0.7777777777777778,
              "#fb9f3a"
             ],
             [
              0.8888888888888888,
              "#fdca26"
             ],
             [
              1,
              "#f0f921"
             ]
            ],
            "type": "heatmap"
           }
          ],
          "heatmapgl": [
           {
            "colorbar": {
             "outlinewidth": 0,
             "ticks": ""
            },
            "colorscale": [
             [
              0,
              "#0d0887"
             ],
             [
              0.1111111111111111,
              "#46039f"
             ],
             [
              0.2222222222222222,
              "#7201a8"
             ],
             [
              0.3333333333333333,
              "#9c179e"
             ],
             [
              0.4444444444444444,
              "#bd3786"
             ],
             [
              0.5555555555555556,
              "#d8576b"
             ],
             [
              0.6666666666666666,
              "#ed7953"
             ],
             [
              0.7777777777777778,
              "#fb9f3a"
             ],
             [
              0.8888888888888888,
              "#fdca26"
             ],
             [
              1,
              "#f0f921"
             ]
            ],
            "type": "heatmapgl"
           }
          ],
          "histogram": [
           {
            "marker": {
             "pattern": {
              "fillmode": "overlay",
              "size": 10,
              "solidity": 0.2
             }
            },
            "type": "histogram"
           }
          ],
          "histogram2d": [
           {
            "colorbar": {
             "outlinewidth": 0,
             "ticks": ""
            },
            "colorscale": [
             [
              0,
              "#0d0887"
             ],
             [
              0.1111111111111111,
              "#46039f"
             ],
             [
              0.2222222222222222,
              "#7201a8"
             ],
             [
              0.3333333333333333,
              "#9c179e"
             ],
             [
              0.4444444444444444,
              "#bd3786"
             ],
             [
              0.5555555555555556,
              "#d8576b"
             ],
             [
              0.6666666666666666,
              "#ed7953"
             ],
             [
              0.7777777777777778,
              "#fb9f3a"
             ],
             [
              0.8888888888888888,
              "#fdca26"
             ],
             [
              1,
              "#f0f921"
             ]
            ],
            "type": "histogram2d"
           }
          ],
          "histogram2dcontour": [
           {
            "colorbar": {
             "outlinewidth": 0,
             "ticks": ""
            },
            "colorscale": [
             [
              0,
              "#0d0887"
             ],
             [
              0.1111111111111111,
              "#46039f"
             ],
             [
              0.2222222222222222,
              "#7201a8"
             ],
             [
              0.3333333333333333,
              "#9c179e"
             ],
             [
              0.4444444444444444,
              "#bd3786"
             ],
             [
              0.5555555555555556,
              "#d8576b"
             ],
             [
              0.6666666666666666,
              "#ed7953"
             ],
             [
              0.7777777777777778,
              "#fb9f3a"
             ],
             [
              0.8888888888888888,
              "#fdca26"
             ],
             [
              1,
              "#f0f921"
             ]
            ],
            "type": "histogram2dcontour"
           }
          ],
          "mesh3d": [
           {
            "colorbar": {
             "outlinewidth": 0,
             "ticks": ""
            },
            "type": "mesh3d"
           }
          ],
          "parcoords": [
           {
            "line": {
             "colorbar": {
              "outlinewidth": 0,
              "ticks": ""
             }
            },
            "type": "parcoords"
           }
          ],
          "pie": [
           {
            "automargin": true,
            "type": "pie"
           }
          ],
          "scatter": [
           {
            "fillpattern": {
             "fillmode": "overlay",
             "size": 10,
             "solidity": 0.2
            },
            "type": "scatter"
           }
          ],
          "scatter3d": [
           {
            "line": {
             "colorbar": {
              "outlinewidth": 0,
              "ticks": ""
             }
            },
            "marker": {
             "colorbar": {
              "outlinewidth": 0,
              "ticks": ""
             }
            },
            "type": "scatter3d"
           }
          ],
          "scattercarpet": [
           {
            "marker": {
             "colorbar": {
              "outlinewidth": 0,
              "ticks": ""
             }
            },
            "type": "scattercarpet"
           }
          ],
          "scattergeo": [
           {
            "marker": {
             "colorbar": {
              "outlinewidth": 0,
              "ticks": ""
             }
            },
            "type": "scattergeo"
           }
          ],
          "scattergl": [
           {
            "marker": {
             "colorbar": {
              "outlinewidth": 0,
              "ticks": ""
             }
            },
            "type": "scattergl"
           }
          ],
          "scattermapbox": [
           {
            "marker": {
             "colorbar": {
              "outlinewidth": 0,
              "ticks": ""
             }
            },
            "type": "scattermapbox"
           }
          ],
          "scatterpolar": [
           {
            "marker": {
             "colorbar": {
              "outlinewidth": 0,
              "ticks": ""
             }
            },
            "type": "scatterpolar"
           }
          ],
          "scatterpolargl": [
           {
            "marker": {
             "colorbar": {
              "outlinewidth": 0,
              "ticks": ""
             }
            },
            "type": "scatterpolargl"
           }
          ],
          "scatterternary": [
           {
            "marker": {
             "colorbar": {
              "outlinewidth": 0,
              "ticks": ""
             }
            },
            "type": "scatterternary"
           }
          ],
          "surface": [
           {
            "colorbar": {
             "outlinewidth": 0,
             "ticks": ""
            },
            "colorscale": [
             [
              0,
              "#0d0887"
             ],
             [
              0.1111111111111111,
              "#46039f"
             ],
             [
              0.2222222222222222,
              "#7201a8"
             ],
             [
              0.3333333333333333,
              "#9c179e"
             ],
             [
              0.4444444444444444,
              "#bd3786"
             ],
             [
              0.5555555555555556,
              "#d8576b"
             ],
             [
              0.6666666666666666,
              "#ed7953"
             ],
             [
              0.7777777777777778,
              "#fb9f3a"
             ],
             [
              0.8888888888888888,
              "#fdca26"
             ],
             [
              1,
              "#f0f921"
             ]
            ],
            "type": "surface"
           }
          ],
          "table": [
           {
            "cells": {
             "fill": {
              "color": "#EBF0F8"
             },
             "line": {
              "color": "white"
             }
            },
            "header": {
             "fill": {
              "color": "#C8D4E3"
             },
             "line": {
              "color": "white"
             }
            },
            "type": "table"
           }
          ]
         },
         "layout": {
          "annotationdefaults": {
           "arrowcolor": "#2a3f5f",
           "arrowhead": 0,
           "arrowwidth": 1
          },
          "autotypenumbers": "strict",
          "coloraxis": {
           "colorbar": {
            "outlinewidth": 0,
            "ticks": ""
           }
          },
          "colorscale": {
           "diverging": [
            [
             0,
             "#8e0152"
            ],
            [
             0.1,
             "#c51b7d"
            ],
            [
             0.2,
             "#de77ae"
            ],
            [
             0.3,
             "#f1b6da"
            ],
            [
             0.4,
             "#fde0ef"
            ],
            [
             0.5,
             "#f7f7f7"
            ],
            [
             0.6,
             "#e6f5d0"
            ],
            [
             0.7,
             "#b8e186"
            ],
            [
             0.8,
             "#7fbc41"
            ],
            [
             0.9,
             "#4d9221"
            ],
            [
             1,
             "#276419"
            ]
           ],
           "sequential": [
            [
             0,
             "#0d0887"
            ],
            [
             0.1111111111111111,
             "#46039f"
            ],
            [
             0.2222222222222222,
             "#7201a8"
            ],
            [
             0.3333333333333333,
             "#9c179e"
            ],
            [
             0.4444444444444444,
             "#bd3786"
            ],
            [
             0.5555555555555556,
             "#d8576b"
            ],
            [
             0.6666666666666666,
             "#ed7953"
            ],
            [
             0.7777777777777778,
             "#fb9f3a"
            ],
            [
             0.8888888888888888,
             "#fdca26"
            ],
            [
             1,
             "#f0f921"
            ]
           ],
           "sequentialminus": [
            [
             0,
             "#0d0887"
            ],
            [
             0.1111111111111111,
             "#46039f"
            ],
            [
             0.2222222222222222,
             "#7201a8"
            ],
            [
             0.3333333333333333,
             "#9c179e"
            ],
            [
             0.4444444444444444,
             "#bd3786"
            ],
            [
             0.5555555555555556,
             "#d8576b"
            ],
            [
             0.6666666666666666,
             "#ed7953"
            ],
            [
             0.7777777777777778,
             "#fb9f3a"
            ],
            [
             0.8888888888888888,
             "#fdca26"
            ],
            [
             1,
             "#f0f921"
            ]
           ]
          },
          "colorway": [
           "#636efa",
           "#EF553B",
           "#00cc96",
           "#ab63fa",
           "#FFA15A",
           "#19d3f3",
           "#FF6692",
           "#B6E880",
           "#FF97FF",
           "#FECB52"
          ],
          "font": {
           "color": "#2a3f5f"
          },
          "geo": {
           "bgcolor": "white",
           "lakecolor": "white",
           "landcolor": "#E5ECF6",
           "showlakes": true,
           "showland": true,
           "subunitcolor": "white"
          },
          "hoverlabel": {
           "align": "left"
          },
          "hovermode": "closest",
          "mapbox": {
           "style": "light"
          },
          "paper_bgcolor": "white",
          "plot_bgcolor": "#E5ECF6",
          "polar": {
           "angularaxis": {
            "gridcolor": "white",
            "linecolor": "white",
            "ticks": ""
           },
           "bgcolor": "#E5ECF6",
           "radialaxis": {
            "gridcolor": "white",
            "linecolor": "white",
            "ticks": ""
           }
          },
          "scene": {
           "xaxis": {
            "backgroundcolor": "#E5ECF6",
            "gridcolor": "white",
            "gridwidth": 2,
            "linecolor": "white",
            "showbackground": true,
            "ticks": "",
            "zerolinecolor": "white"
           },
           "yaxis": {
            "backgroundcolor": "#E5ECF6",
            "gridcolor": "white",
            "gridwidth": 2,
            "linecolor": "white",
            "showbackground": true,
            "ticks": "",
            "zerolinecolor": "white"
           },
           "zaxis": {
            "backgroundcolor": "#E5ECF6",
            "gridcolor": "white",
            "gridwidth": 2,
            "linecolor": "white",
            "showbackground": true,
            "ticks": "",
            "zerolinecolor": "white"
           }
          },
          "shapedefaults": {
           "line": {
            "color": "#2a3f5f"
           }
          },
          "ternary": {
           "aaxis": {
            "gridcolor": "white",
            "linecolor": "white",
            "ticks": ""
           },
           "baxis": {
            "gridcolor": "white",
            "linecolor": "white",
            "ticks": ""
           },
           "bgcolor": "#E5ECF6",
           "caxis": {
            "gridcolor": "white",
            "linecolor": "white",
            "ticks": ""
           }
          },
          "title": {
           "x": 0.05
          },
          "xaxis": {
           "automargin": true,
           "gridcolor": "white",
           "linecolor": "white",
           "ticks": "",
           "title": {
            "standoff": 15
           },
           "zerolinecolor": "white",
           "zerolinewidth": 2
          },
          "yaxis": {
           "automargin": true,
           "gridcolor": "white",
           "linecolor": "white",
           "ticks": "",
           "title": {
            "standoff": 15
           },
           "zerolinecolor": "white",
           "zerolinewidth": 2
          }
         }
        },
        "title": {
         "text": "Major Crimes in Austin"
        },
        "treemapcolorway": [
         "rgb(103,0,31)",
         "rgb(178,24,43)",
         "rgb(214,96,77)",
         "rgb(244,165,130)",
         "rgb(253,219,199)",
         "rgb(247,247,247)",
         "rgb(209,229,240)",
         "rgb(146,197,222)",
         "rgb(67,147,195)",
         "rgb(33,102,172)",
         "rgb(5,48,97)"
        ]
       }
      },
      "image/png": "[encoded data removed]",
      "text/html": [
       "<div>                            <div id=\"ea7718f7-5e5e-4236-8550-c78ed7473f71\" class=\"plotly-graph-div\" style=\"height:700px; width:100%;\"></div>            <script type=\"text/javascript\">                require([\"plotly\"], function(Plotly) {                    window.PLOTLYENV=window.PLOTLYENV || {};                                    if (document.getElementById(\"ea7718f7-5e5e-4236-8550-c78ed7473f71\")) {                    Plotly.newPlot(                        \"ea7718f7-5e5e-4236-8550-c78ed7473f71\",                        [{\"branchvalues\":\"total\",\"domain\":{\"x\":[0.0,1.0],\"y\":[0.0,1.0]},\"hovertemplate\":\"labels=%{label}\\u003cbr\\u003evalue=%{value}\\u003cbr\\u003eparent=%{parent}\\u003cbr\\u003eid=%{id}\\u003cextra\\u003e\\u003c\\u002fextra\\u003e\",\"ids\":[\"ABUSE OF 911\",\"ABUSE OF CORPSE\",\"ABUSE OF OFFICIAL CAPACITY\",\"AGG ASLT ENHANC STRANGL\\u002fSUFFOC\",\"AGG ASLT STRANGLE\\u002fSUFFOCATE\",\"AGG ASLT W\\u002fMOTOR VEH FAM\\u002fDAT V\",\"AGG ASSAULT\",\"AGG ASSAULT BY PUBLIC SERVANT\",\"AGG ASSAULT FAM\\u002fDATE VIOLENCE\",\"AGG ASSAULT ON PEACE OFFICER\",\"AGG ASSAULT ON PUBLIC SERVANT\",\"AGG ASSAULT WITH MOTOR VEH\",\"AGG KIDNAPPING\",\"AGG KIDNAPPING FAM VIO\",\"AGG PERJURY\",\"AGG PROMOTION OF PROSTITUTION\",\"AGG ROBBERY BY ASSAULT\",\"AGG ROBBERY\\u002fDEADLY WEAPON\",\"AGG SEXUAL ASSAULT CHILD\\u002fOBJECT-SUPER\",\"AIDING SUICIDE\",\"AIRPORT - BOMB THREAT\",\"AIRPORT - BREACH OF SECURITY\",\"AIRPORT - CRIMINAL TRESPASS\",\"AIRPORT - FEDERAL VIOL\",\"AIRPORT PLACES WEAPON PROHIBIT\",\"APPLIC TO REVOKE PROBATION\",\"ARSON\",\"ARSON WITH BODILY INJURY\",\"ARSON-CRIMINAL MISCHIEF\",\"ARSON-DEADLY CONDUCT\",\"ARSON-RECKLESS DAMAGE\",\"ARSON-VIOL CITY ORDINANCE\",\"ASSAULT - SCHOOL PERSONNEL\",\"ASSAULT BY CONTACT\",\"ASSAULT BY CONTACT FAM\\u002fDATING\",\"ASSAULT BY THREAT\",\"ASSAULT BY THREAT FAM\\u002fDATING\",\"ASSAULT OF A PREGNANT WOMAN\",\"ASSAULT OF PREGNANT WM-FAM\\u002fDAT\",\"ASSAULT ON PEACE OFFICER\",\"ASSAULT ON PUBLIC SERVANT\",\"ASSAULT W\\u002fINJURY-FAM\\u002fDATE VIOL\",\"ASSAULT WITH INJURY\",\"ATT ARSON\",\"ATT AUTO THEFT\",\"ATT BURGLARY NON RESIDENCE\",\"ATT BURGLARY OF RESIDENCE\",\"ATT THEFT\",\"ATTACK BY DOG\",\"AUTO THEFT\",\"BANK KITING\",\"BESTIALITY\",\"BOATING WHILE INTOXICATED\",\"BOMB THREAT\",\"BOMB THREAT - AIRCRAFT\",\"BREACH OF COMPUTER SECURITY\",\"BRIBERY\",\"BURG OF RES - FAM\\u002fDATING ASLT\",\"BURGLARY NON RESIDENCE\",\"BURGLARY OF COIN-OP MACHINE\",\"BURGLARY OF RESIDENCE\",\"BURGLARY OF SHED\\u002fDETACHED GARAGE\\u002fSTORAGE UNIT\",\"BURGLARY OF VEH-NO SUSPECT\\u002fFU\",\"BURGLARY OF VEHICLE\",\"CAMPING IN PARK\",\"CAPITAL MURDER\",\"CHILD CUSTODY INTERFERE\",\"CHILD ENDANGERMENT- ABANDONMEN\",\"CIVIL DISTURBANCE\\u002fDEMO\",\"COMMERCIAL BRIBERY\",\"COMMUNICATING GAMBLING INFO\",\"COMPELLING PROSTITUTION\",\"CONTEMPT OF COURT\",\"CONTROLLED SUB VIOL - OTHER\",\"COUNTERFEITING\",\"CRASH\\u002fCRIM NEG HOMICIDE\",\"CRASH\\u002fFAIL STOP AND RENDER AID\",\"CRASH\\u002fINTOX MANSLAUGHTER\",\"CRASH\\u002fINTOXICATION ASSAULT\",\"CRASH\\u002fMANSLAUGHTER\",\"CRED CARD ABUSE - EXPIR-CANCEL\",\"CRED CARD ABUSE - OTHER\",\"CRED CARD ABUSE BY FORGERY\",\"CRIM NEG HOMICIDE\\u002fNON TRAFFIC\",\"CRIMES AGAINST ELDERLY\",\"CRIMINAL MISCHIEF\",\"CRIMINAL MISCHIEF-NO SUSPECT\",\"CRIMINAL SOLICITATION\",\"CRIMINAL SOLICITATION OF MINOR\",\"CRIMINAL TRESPASS\",\"CRIMINAL TRESPASS\\u002fHOTEL\",\"CRIMINAL TRESPASS\\u002fIN VEHICLE\",\"CRIMINAL TRESPASS\\u002fTRANSIENT\",\"CRUELTY TO ANIMALS\",\"CUSTODY ARREST TRAFFIC WARR\",\"DAMAGE CITY PROP\",\"DAMAGE CITY VEHICLE\",\"DANG DRUG VIOL - OTHER\",\"DATING DISTURBANCE\",\"DEADLY CONDUCT\",\"DEADLY CONDUCT FAM\\u002fDATE VIOL\",\"DEBIT CARD ABUSE\",\"DEL CONTROLLED SUB\\u002fNARCOTIC\",\"DEL CONTROLLED SUB\\u002fOTHER\",\"DEL CONTROLLED SUB\\u002fSYN NARC\",\"DEL MARIJUANA\",\"DEL OF ALCOHOL TO MINOR\",\"DEL OF DANG DRUG\",\"DEL SYNTHETIC MARIJUANA\",\"DELIVERY OF PRESCRIPTION FORM\",\"DISPOSAL OF SOLID WASTE\",\"DISRUPTING MEETING\\u002fPROCESSION\",\"DISRUPTIVE ACTS AT SCHOOLS\",\"DISTRIB HARMFUL MATERIAL MINOR\",\"DISTURBANCE - OTHER\",\"DOC ABUSE OR THREAT\",\"DOC ABUSIVE LANGUAGE\",\"DOC CREATING NOXIOUS ODOR\",\"DOC DISCHARGE GUN - PUB PLACE\",\"DOC DISCHARGE GUN - PUB ROAD\",\"DOC DISPLAY GUN\\u002fDEADLY PUB PLC\",\"DOC EXPOSURE\",\"DOC FIGHTING\",\"DOC OFFENSIVE GESTURE\",\"DOC UNREASONABLE NOISE\",\"DOC WINDOW PEEPING - HOTEL\",\"DOMESTIC VIOLENCE\\u002fALARM\",\"DRIVING WHILE INTOX \\u002f FELONY\",\"DRUG\\u002fMURDER BY PROVIDING DRUG RESULTING IN DEATH\",\"DUI - AGE 16 AND UNDER\",\"DUI - AGE 17 TO 20\",\"DUMPING REFUSE NEAR HIGHWAY\",\"DWI\",\"DWI  .15 BAC OR ABOVE\",\"DWI - CHILD PASSENGER\",\"DWI - DRUG RECOGNITION EXPERT\",\"DWI 2ND\",\"ENGAGING IN ORGANIZED CRIME\",\"ESCAPE FROM CUSTODY\",\"EVADING \\u002f FOOT\",\"EVADING \\u002f VEHICLE PURSUIT\",\"EVADING VEHICLE\",\"EXPIRED-DO NOT USE-ASSAULT ON PEACE OFFICER\",\"EXPLOITATION OF CHILD\\u002fELDERLY\",\"EXPLOSIVE ORDNANCE DISPOSAL\",\"FAIL TO REGISTER - ADULT VIC\",\"FAIL TO REGISTER- MINOR VIC\",\"FAILURE TO IDENTIFY\",\"FAILURE TO REPORT CHILD ABUSE\",\"FALSE ALARM OR REPORT\",\"FALSE CALLER ID DISPLAY\\u002fSPOOF\",\"FALSE ID AS A PEACE OFFICER\",\"FALSE REPORT TO CPS\",\"FALSE REPORT TO PEACE OFFICER\",\"FALSE STATEMENT -OBTAIN CREDIT\",\"FAMILY DISTURBANCE\",\"FAMILY DISTURBANCE\\u002fPARENTAL\",\"FEDERAL VIOL\\u002fOTHER\",\"FELONY ENHANCEMENT\\u002fASSLT W\\u002fINJ\",\"FICTITIOUS NAME\",\"FIREARMS ON SCHOOL PROP\",\"FORGERY - OTHER\",\"FORGERY AND PASSING\",\"FORGERY BY ALTERATION\",\"FORGERY BY MAKING\",\"FORGERY OF IDENTIFICATION\",\"FORGERY- CERTIFICATE OF TITLE\",\"FRAUD - OTHER\",\"FRAUD DESTRUCTION OF A WRITING\",\"FRAUD FILING FINANCE STATEMENT\",\"FRAUD-CARD SKIMMER\",\"GAMBLING\",\"GAMBLING PROMOTION\",\"GRAFFITI\",\"HARASSMENT\",\"HARASSMENT OF A PUBLIC SERVANT\",\"HARASSMENT ONLINE\",\"HARBORING RUNAWAY CHILD\",\"HAZING\",\"HINDER SECURED CREDITORS\",\"HINDERING APPREHENSION\",\"IDENTITY THEFT\",\"IDENTITY THEFT-TAX RETURNS\",\"ILLUMIN AIRCRAFT INTENSE LIGHT\",\"IMMIGRATION HOLD\\u002fARREST\",\"IMPERSONATING PUBLIC SERVANT\",\"INDECENT ASSAULT\",\"INDECENT EXPOSURE\",\"INHALANT ABUSE\",\"INJ TO DISABLED  FAM\\u002fDATE VIOL\",\"INJ TO ELDERLY   FAM\\u002fDATE VIOL\",\"INJ\\u002fCHILD FV (NO CARE\\u002fCUSTODY)\",\"INJURY DISABLED INDIVIDUAL\",\"INJURY TO CHILD\",\"INJURY TO CHILD (CARE\\u002fCUSTODY)\",\"INJURY TO ELDERLY PERSON\",\"INJURY TO ELDERLY PERSON - SBI\",\"INTER EMERG PHONECALL FAM\\u002fDATE\",\"INTERFERE W PO SERVICE ANIMALS\",\"INTERFERENCE PUBLIC DUTIES\",\"INTERFERING W\\u002fEMERG PHONE CALL\",\"JUSTIFIED HOMICIDE\",\"KEEPING GAMBLING PLACE\",\"KIDNAPPING\",\"KIDNAPPING FAM VIO\",\"LIQUOR LAW VIOLATION\\u002fOTHER\",\"LITTERING\",\"LOCATION RESTRICT KNIFE CLS C\",\"MAIL THEFT\",\"MAKING TOBACCO AVAIL TO MINOR\",\"MANF CONTROLLED SUB - OTHER\",\"MANF CONTROLLED SUB- SYN NARC\",\"MANF SYNTHETIC MARIJUANA\",\"MANSLAUGHTER\",\"MISAPPLY FIDUCIARY PROP\",\"MISREP AGE BY MINOR\",\"MISUSE OF OFFICIAL INFO\",\"MONEY LAUNDERING\",\"MURDER\",\"NUISANCE ABATEMENT\",\"OBSCENE DISPLAY - DISTRIBUTION\",\"OBSCENITY\",\"OBTAIN CONTROLLED SUB BY FRAUD\",\"OBTAIN DANG DRUG BY FRAUD\",\"OFFICIAL OPPRESSION\",\"ONLINE IMPERSONATION\",\"ONLINE SOLICITATION OF A MINOR\",\"PAROLE VIOL\",\"PERJURY\",\"PIGEON DROP\",\"POCKET PICKING\",\"POSS CONTROLLED SUB\\u002fNARCOTIC\",\"POSS CONTROLLED SUB\\u002fOTHER\",\"POSS CONTROLLED SUB\\u002fSYN NARC\",\"POSS CRIMINAL INSTRUMENT\",\"POSS DANG DRUG\",\"POSS OF ALCOHOL - AGE 17 TO 20\",\"POSS OF ALCOHOL-AGE 16 & UNDER\",\"POSS OF DRUG PARAPHERNALIA\",\"POSS OF FIREARM BY FELON\",\"POSS OF GAMBLING PARAPHERNALIA\",\"POSS OF PRESCRIPTION FORM\",\"POSS OF PROHIBITED WEAPON\",\"POSS SYNTHETIC MARIJUANA\",\"POSS\\u002fPROMO CHILD PORNOGRAPHY\",\"POSSESSION OF FORGED WRITING\",\"POSSESSION OF MARIJUANA\",\"PRACTICE MEDICINE W\\u002fOUT LICENS\",\"PROBATION VIOL\",\"PROMOTION OF PROSTITUTION\",\"PROSTITUTION\",\"PROTECTIVE ORDER\",\"PROWLER\",\"PUBLIC LEWDNESS\",\"PURCHASING PROSTITUTION\",\"PURSE SNATCHING\",\"RECKLESS CONDUCT\",\"RECKLESS DAMAGE\",\"RENTAL CAR\\u002fFAIL TO RETURN\",\"RESISTING ARREST OR SEARCH\",\"RETALIATION\",\"RIOT\",\"ROBBERY BY ASSAULT\",\"ROBBERY BY THREAT\",\"SALE OF DXM TO MINOR\",\"SALE OF LIQ WITHOUT PERMIT\",\"SALE OR PURCHASE OF CHILD\",\"SECURING EXEC-DOC BY DECEPTION\",\"SEXTING\\u002fTRANSMIT SEXUAL PHOTOS\",\"SEXUAL COERCION\",\"SIT AND LIE ORDINANCE VIOL\",\"SMUGGLING ILLEGAL ALIEN\",\"SOLICITATION - BEGGING\",\"STALKING\",\"STAY AWAY ORDER\",\"TAKE WEAPON FRM POLICE OFFICER\",\"TAMPERING WITH CONSUMER PROD\",\"TAMPERING WITH EVIDENCE\",\"TAMPERING WITH GOV RECORD\",\"TAMPERING WITH ID NUMBER\",\"TAMPERING WITH WITNESS\",\"TELECOMMUNICATION CRIMES\\u002fOTHER\",\"TERRORISTIC THREAT\",\"TERRORISTIC THREAT-FAM\\u002fDAT VIO\",\"TERRORISTIC THREAT-MASS CASLTY\",\"THEFT\",\"THEFT BY EMBEZZLEMENT\",\"THEFT BY EXTORTION\",\"THEFT BY FALSE PRETEXT\\u002fBUNCO\",\"THEFT BY PUBLIC SERVANT\",\"THEFT BY SHOPLIFTING\",\"THEFT CATALYTIC CONVERTER\",\"THEFT FROM AUTO\",\"THEFT FROM BUILDING\",\"THEFT FROM PERSON\",\"THEFT OF AUTO PARTS\",\"THEFT OF BICYCLE\",\"THEFT OF CRYPTOCURRENCY\",\"THEFT OF HEAVY EQUIPMENT\",\"THEFT OF LICENSE PLATE\",\"THEFT OF METAL\",\"THEFT OF SERVICE\",\"THEFT OF TELECOMMUNICATION SRV\",\"THEFT OF TRAILER\",\"THEFT- APPROPRIATE STOLEN PROP\",\"THEFT-NO SUSPECT\\u002fFOLLOWUP\",\"THEFT\\u002fTILL TAPPING\",\"TOBACCO VIOL - UNDER AGE 17\",\"TOBACCO VIOL - UNDER AGE 21\",\"TRADEMARK COUNTERFEITING\",\"TRAFFICKING OF PERSONS FOR SEX\",\"TRUANCY\",\"UCW LICENSE PREMISE\",\"UNLAWFUL CARRY-LIC HOLDER\",\"UNLAWFUL CARRYING WEAPON\",\"UNLAWFUL INTERCEPTION\",\"UNLAWFUL RESTRAINT\",\"UNLAWFUL RESTRAINT FAM\\u002fDAT VIO\",\"URINATING IN PUBLIC PLACE\",\"VIOL CITY ORD-COVID 19 MASK\",\"VIOL CITY ORDINANCE -  GAME RM\",\"VIOL CITY ORDINANCE - AIRPORT\",\"VIOL CITY ORDINANCE - BOOTING\",\"VIOL CITY ORDINANCE - CURFEW\",\"VIOL CITY ORDINANCE - DOG\",\"VIOL CITY ORDINANCE - OTHER\",\"VIOL CITY ORDINANCE - SMOKING\",\"VIOL CITY ORDINANCE - SOUND\",\"VIOL CITY ORDINANCE - TAXI\",\"VIOL CITY ORDINANCE - TITLE 10\",\"VIOL CITY ORDINANCE - WRECKER\",\"VIOL CITY ORDINANCE -FIREWORK\",\"VIOL CIVIL RIGHTS PRISONER\",\"VIOL GLASS CONTAINER\",\"VIOL OF AGGRESSIVE CONFRONT\",\"VIOL OF BOND CONDITIONS\",\"VIOL OF CAMPING ORDINANCE\",\"VIOL OF COURT ORDER-NON EPO-PO\",\"VIOL OF EMERG PROTECTIVE ORDER\",\"VIOL OF OBSTRUCTION ORDINANCE\",\"VIOL OF PARK CURFEW\",\"VIOL OF PROTECTIVE ORDER\",\"VIOL STATE LAW - OTHER\",\"VIOL STATE MASSAGE REGULATIONS\",\"VIOL STAY AWAY ORDER\",\"VIOL TEMP EX PARTE  ORDER\",\"VOCO - ALCOHOL  CONSUMPTION\",\"VOCO AMPLIFIED MUSIC\\u002fVEHICLE\",\"VOCO SOLICITATION PROHIBIT\",\"WARRANT ARREST NON TRAFFIC\",\"WEAPON VIOL - OTHER\"],\"labels\":[\"ABUSE OF 911\",\"ABUSE OF CORPSE\",\"ABUSE OF OFFICIAL CAPACITY\",\"AGG ASLT ENHANC STRANGL\\u002fSUFFOC\",\"AGG ASLT STRANGLE\\u002fSUFFOCATE\",\"AGG ASLT W\\u002fMOTOR VEH FAM\\u002fDAT V\",\"AGG ASSAULT\",\"AGG ASSAULT BY PUBLIC SERVANT\",\"AGG ASSAULT FAM\\u002fDATE VIOLENCE\",\"AGG ASSAULT ON PEACE OFFICER\",\"AGG ASSAULT ON PUBLIC SERVANT\",\"AGG ASSAULT WITH MOTOR VEH\",\"AGG KIDNAPPING\",\"AGG KIDNAPPING FAM VIO\",\"AGG PERJURY\",\"AGG PROMOTION OF PROSTITUTION\",\"AGG ROBBERY BY ASSAULT\",\"AGG ROBBERY\\u002fDEADLY WEAPON\",\"AGG SEXUAL ASSAULT CHILD\\u002fOBJECT-SUPER\",\"AIDING SUICIDE\",\"AIRPORT - BOMB THREAT\",\"AIRPORT - BREACH OF SECURITY\",\"AIRPORT - CRIMINAL TRESPASS\",\"AIRPORT - FEDERAL VIOL\",\"AIRPORT PLACES WEAPON PROHIBIT\",\"APPLIC TO REVOKE PROBATION\",\"ARSON\",\"ARSON WITH BODILY INJURY\",\"ARSON-CRIMINAL MISCHIEF\",\"ARSON-DEADLY CONDUCT\",\"ARSON-RECKLESS DAMAGE\",\"ARSON-VIOL CITY ORDINANCE\",\"ASSAULT - SCHOOL PERSONNEL\",\"ASSAULT BY CONTACT\",\"ASSAULT BY CONTACT FAM\\u002fDATING\",\"ASSAULT BY THREAT\",\"ASSAULT BY THREAT FAM\\u002fDATING\",\"ASSAULT OF A PREGNANT WOMAN\",\"ASSAULT OF PREGNANT WM-FAM\\u002fDAT\",\"ASSAULT ON PEACE OFFICER\",\"ASSAULT ON PUBLIC SERVANT\",\"ASSAULT W\\u002fINJURY-FAM\\u002fDATE VIOL\",\"ASSAULT WITH INJURY\",\"ATT ARSON\",\"ATT AUTO THEFT\",\"ATT BURGLARY NON RESIDENCE\",\"ATT BURGLARY OF RESIDENCE\",\"ATT THEFT\",\"ATTACK BY DOG\",\"AUTO THEFT\",\"BANK KITING\",\"BESTIALITY\",\"BOATING WHILE INTOXICATED\",\"BOMB THREAT\",\"BOMB THREAT - AIRCRAFT\",\"BREACH OF COMPUTER SECURITY\",\"BRIBERY\",\"BURG OF RES - FAM\\u002fDATING ASLT\",\"BURGLARY NON RESIDENCE\",\"BURGLARY OF COIN-OP MACHINE\",\"BURGLARY OF RESIDENCE\",\"BURGLARY OF SHED\\u002fDETACHED GARAGE\\u002fSTORAGE UNIT\",\"BURGLARY OF VEH-NO SUSPECT\\u002fFU\",\"BURGLARY OF VEHICLE\",\"CAMPING IN PARK\",\"CAPITAL MURDER\",\"CHILD CUSTODY INTERFERE\",\"CHILD ENDANGERMENT- ABANDONMEN\",\"CIVIL DISTURBANCE\\u002fDEMO\",\"COMMERCIAL BRIBERY\",\"COMMUNICATING GAMBLING INFO\",\"COMPELLING PROSTITUTION\",\"CONTEMPT OF COURT\",\"CONTROLLED SUB VIOL - OTHER\",\"COUNTERFEITING\",\"CRASH\\u002fCRIM NEG HOMICIDE\",\"CRASH\\u002fFAIL STOP AND RENDER AID\",\"CRASH\\u002fINTOX MANSLAUGHTER\",\"CRASH\\u002fINTOXICATION ASSAULT\",\"CRASH\\u002fMANSLAUGHTER\",\"CRED CARD ABUSE - EXPIR-CANCEL\",\"CRED CARD ABUSE - OTHER\",\"CRED CARD ABUSE BY FORGERY\",\"CRIM NEG HOMICIDE\\u002fNON TRAFFIC\",\"CRIMES AGAINST ELDERLY\",\"CRIMINAL MISCHIEF\",\"CRIMINAL MISCHIEF-NO SUSPECT\",\"CRIMINAL SOLICITATION\",\"CRIMINAL SOLICITATION OF MINOR\",\"CRIMINAL TRESPASS\",\"CRIMINAL TRESPASS\\u002fHOTEL\",\"CRIMINAL TRESPASS\\u002fIN VEHICLE\",\"CRIMINAL TRESPASS\\u002fTRANSIENT\",\"CRUELTY TO ANIMALS\",\"CUSTODY ARREST TRAFFIC WARR\",\"DAMAGE CITY PROP\",\"DAMAGE CITY VEHICLE\",\"DANG DRUG VIOL - OTHER\",\"DATING DISTURBANCE\",\"DEADLY CONDUCT\",\"DEADLY CONDUCT FAM\\u002fDATE VIOL\",\"DEBIT CARD ABUSE\",\"DEL CONTROLLED SUB\\u002fNARCOTIC\",\"DEL CONTROLLED SUB\\u002fOTHER\",\"DEL CONTROLLED SUB\\u002fSYN NARC\",\"DEL MARIJUANA\",\"DEL OF ALCOHOL TO MINOR\",\"DEL OF DANG DRUG\",\"DEL SYNTHETIC MARIJUANA\",\"DELIVERY OF PRESCRIPTION FORM\",\"DISPOSAL OF SOLID WASTE\",\"DISRUPTING MEETING\\u002fPROCESSION\",\"DISRUPTIVE ACTS AT SCHOOLS\",\"DISTRIB HARMFUL MATERIAL MINOR\",\"DISTURBANCE - OTHER\",\"DOC ABUSE OR THREAT\",\"DOC ABUSIVE LANGUAGE\",\"DOC CREATING NOXIOUS ODOR\",\"DOC DISCHARGE GUN - PUB PLACE\",\"DOC DISCHARGE GUN - PUB ROAD\",\"DOC DISPLAY GUN\\u002fDEADLY PUB PLC\",\"DOC EXPOSURE\",\"DOC FIGHTING\",\"DOC OFFENSIVE GESTURE\",\"DOC UNREASONABLE NOISE\",\"DOC WINDOW PEEPING - HOTEL\",\"DOMESTIC VIOLENCE\\u002fALARM\",\"DRIVING WHILE INTOX \\u002f FELONY\",\"DRUG\\u002fMURDER BY PROVIDING DRUG RESULTING IN DEATH\",\"DUI - AGE 16 AND UNDER\",\"DUI - AGE 17 TO 20\",\"DUMPING REFUSE NEAR HIGHWAY\",\"DWI\",\"DWI  .15 BAC OR ABOVE\",\"DWI - CHILD PASSENGER\",\"DWI - DRUG RECOGNITION EXPERT\",\"DWI 2ND\",\"ENGAGING IN ORGANIZED CRIME\",\"ESCAPE FROM CUSTODY\",\"EVADING \\u002f FOOT\",\"EVADING \\u002f VEHICLE PURSUIT\",\"EVADING VEHICLE\",\"EXPIRED-DO NOT USE-ASSAULT ON PEACE OFFICER\",\"EXPLOITATION OF CHILD\\u002fELDERLY\",\"EXPLOSIVE ORDNANCE DISPOSAL\",\"FAIL TO REGISTER - ADULT VIC\",\"FAIL TO REGISTER- MINOR VIC\",\"FAILURE TO IDENTIFY\",\"FAILURE TO REPORT CHILD ABUSE\",\"FALSE ALARM OR REPORT\",\"FALSE CALLER ID DISPLAY\\u002fSPOOF\",\"FALSE ID AS A PEACE OFFICER\",\"FALSE REPORT TO CPS\",\"FALSE REPORT TO PEACE OFFICER\",\"FALSE STATEMENT -OBTAIN CREDIT\",\"FAMILY DISTURBANCE\",\"FAMILY DISTURBANCE\\u002fPARENTAL\",\"FEDERAL VIOL\\u002fOTHER\",\"FELONY ENHANCEMENT\\u002fASSLT W\\u002fINJ\",\"FICTITIOUS NAME\",\"FIREARMS ON SCHOOL PROP\",\"FORGERY - OTHER\",\"FORGERY AND PASSING\",\"FORGERY BY ALTERATION\",\"FORGERY BY MAKING\",\"FORGERY OF IDENTIFICATION\",\"FORGERY- CERTIFICATE OF TITLE\",\"FRAUD - OTHER\",\"FRAUD DESTRUCTION OF A WRITING\",\"FRAUD FILING FINANCE STATEMENT\",\"FRAUD-CARD SKIMMER\",\"GAMBLING\",\"GAMBLING PROMOTION\",\"GRAFFITI\",\"HARASSMENT\",\"HARASSMENT OF A PUBLIC SERVANT\",\"HARASSMENT ONLINE\",\"HARBORING RUNAWAY CHILD\",\"HAZING\",\"HINDER SECURED CREDITORS\",\"HINDERING APPREHENSION\",\"IDENTITY THEFT\",\"IDENTITY THEFT-TAX RETURNS\",\"ILLUMIN AIRCRAFT INTENSE LIGHT\",\"IMMIGRATION HOLD\\u002fARREST\",\"IMPERSONATING PUBLIC SERVANT\",\"INDECENT ASSAULT\",\"INDECENT EXPOSURE\",\"INHALANT ABUSE\",\"INJ TO DISABLED  FAM\\u002fDATE VIOL\",\"INJ TO ELDERLY   FAM\\u002fDATE VIOL\",\"INJ\\u002fCHILD FV (NO CARE\\u002fCUSTODY)\",\"INJURY DISABLED INDIVIDUAL\",\"INJURY TO CHILD\",\"INJURY TO CHILD (CARE\\u002fCUSTODY)\",\"INJURY TO ELDERLY PERSON\",\"INJURY TO ELDERLY PERSON - SBI\",\"INTER EMERG PHONECALL FAM\\u002fDATE\",\"INTERFERE W PO SERVICE ANIMALS\",\"INTERFERENCE PUBLIC DUTIES\",\"INTERFERING W\\u002fEMERG PHONE CALL\",\"JUSTIFIED HOMICIDE\",\"KEEPING GAMBLING PLACE\",\"KIDNAPPING\",\"KIDNAPPING FAM VIO\",\"LIQUOR LAW VIOLATION\\u002fOTHER\",\"LITTERING\",\"LOCATION RESTRICT KNIFE CLS C\",\"MAIL THEFT\",\"MAKING TOBACCO AVAIL TO MINOR\",\"MANF CONTROLLED SUB - OTHER\",\"MANF CONTROLLED SUB- SYN NARC\",\"MANF SYNTHETIC MARIJUANA\",\"MANSLAUGHTER\",\"MISAPPLY FIDUCIARY PROP\",\"MISREP AGE BY MINOR\",\"MISUSE OF OFFICIAL INFO\",\"MONEY LAUNDERING\",\"MURDER\",\"NUISANCE ABATEMENT\",\"OBSCENE DISPLAY - DISTRIBUTION\",\"OBSCENITY\",\"OBTAIN CONTROLLED SUB BY FRAUD\",\"OBTAIN DANG DRUG BY FRAUD\",\"OFFICIAL OPPRESSION\",\"ONLINE IMPERSONATION\",\"ONLINE SOLICITATION OF A MINOR\",\"PAROLE VIOL\",\"PERJURY\",\"PIGEON DROP\",\"POCKET PICKING\",\"POSS CONTROLLED SUB\\u002fNARCOTIC\",\"POSS CONTROLLED SUB\\u002fOTHER\",\"POSS CONTROLLED SUB\\u002fSYN NARC\",\"POSS CRIMINAL INSTRUMENT\",\"POSS DANG DRUG\",\"POSS OF ALCOHOL - AGE 17 TO 20\",\"POSS OF ALCOHOL-AGE 16 & UNDER\",\"POSS OF DRUG PARAPHERNALIA\",\"POSS OF FIREARM BY FELON\",\"POSS OF GAMBLING PARAPHERNALIA\",\"POSS OF PRESCRIPTION FORM\",\"POSS OF PROHIBITED WEAPON\",\"POSS SYNTHETIC MARIJUANA\",\"POSS\\u002fPROMO CHILD PORNOGRAPHY\",\"POSSESSION OF FORGED WRITING\",\"POSSESSION OF MARIJUANA\",\"PRACTICE MEDICINE W\\u002fOUT LICENS\",\"PROBATION VIOL\",\"PROMOTION OF PROSTITUTION\",\"PROSTITUTION\",\"PROTECTIVE ORDER\",\"PROWLER\",\"PUBLIC LEWDNESS\",\"PURCHASING PROSTITUTION\",\"PURSE SNATCHING\",\"RECKLESS CONDUCT\",\"RECKLESS DAMAGE\",\"RENTAL CAR\\u002fFAIL TO RETURN\",\"RESISTING ARREST OR SEARCH\",\"RETALIATION\",\"RIOT\",\"ROBBERY BY ASSAULT\",\"ROBBERY BY THREAT\",\"SALE OF DXM TO MINOR\",\"SALE OF LIQ WITHOUT PERMIT\",\"SALE OR PURCHASE OF CHILD\",\"SECURING EXEC-DOC BY DECEPTION\",\"SEXTING\\u002fTRANSMIT SEXUAL PHOTOS\",\"SEXUAL COERCION\",\"SIT AND LIE ORDINANCE VIOL\",\"SMUGGLING ILLEGAL ALIEN\",\"SOLICITATION - BEGGING\",\"STALKING\",\"STAY AWAY ORDER\",\"TAKE WEAPON FRM POLICE OFFICER\",\"TAMPERING WITH CONSUMER PROD\",\"TAMPERING WITH EVIDENCE\",\"TAMPERING WITH GOV RECORD\",\"TAMPERING WITH ID NUMBER\",\"TAMPERING WITH WITNESS\",\"TELECOMMUNICATION CRIMES\\u002fOTHER\",\"TERRORISTIC THREAT\",\"TERRORISTIC THREAT-FAM\\u002fDAT VIO\",\"TERRORISTIC THREAT-MASS CASLTY\",\"THEFT\",\"THEFT BY EMBEZZLEMENT\",\"THEFT BY EXTORTION\",\"THEFT BY FALSE PRETEXT\\u002fBUNCO\",\"THEFT BY PUBLIC SERVANT\",\"THEFT BY SHOPLIFTING\",\"THEFT CATALYTIC CONVERTER\",\"THEFT FROM AUTO\",\"THEFT FROM BUILDING\",\"THEFT FROM PERSON\",\"THEFT OF AUTO PARTS\",\"THEFT OF BICYCLE\",\"THEFT OF CRYPTOCURRENCY\",\"THEFT OF HEAVY EQUIPMENT\",\"THEFT OF LICENSE PLATE\",\"THEFT OF METAL\",\"THEFT OF SERVICE\",\"THEFT OF TELECOMMUNICATION SRV\",\"THEFT OF TRAILER\",\"THEFT- APPROPRIATE STOLEN PROP\",\"THEFT-NO SUSPECT\\u002fFOLLOWUP\",\"THEFT\\u002fTILL TAPPING\",\"TOBACCO VIOL - UNDER AGE 17\",\"TOBACCO VIOL - UNDER AGE 21\",\"TRADEMARK COUNTERFEITING\",\"TRAFFICKING OF PERSONS FOR SEX\",\"TRUANCY\",\"UCW LICENSE PREMISE\",\"UNLAWFUL CARRY-LIC HOLDER\",\"UNLAWFUL CARRYING WEAPON\",\"UNLAWFUL INTERCEPTION\",\"UNLAWFUL RESTRAINT\",\"UNLAWFUL RESTRAINT FAM\\u002fDAT VIO\",\"URINATING IN PUBLIC PLACE\",\"VIOL CITY ORD-COVID 19 MASK\",\"VIOL CITY ORDINANCE -  GAME RM\",\"VIOL CITY ORDINANCE - AIRPORT\",\"VIOL CITY ORDINANCE - BOOTING\",\"VIOL CITY ORDINANCE - CURFEW\",\"VIOL CITY ORDINANCE - DOG\",\"VIOL CITY ORDINANCE - OTHER\",\"VIOL CITY ORDINANCE - SMOKING\",\"VIOL CITY ORDINANCE - SOUND\",\"VIOL CITY ORDINANCE - TAXI\",\"VIOL CITY ORDINANCE - TITLE 10\",\"VIOL CITY ORDINANCE - WRECKER\",\"VIOL CITY ORDINANCE -FIREWORK\",\"VIOL CIVIL RIGHTS PRISONER\",\"VIOL GLASS CONTAINER\",\"VIOL OF AGGRESSIVE CONFRONT\",\"VIOL OF BOND CONDITIONS\",\"VIOL OF CAMPING ORDINANCE\",\"VIOL OF COURT ORDER-NON EPO-PO\",\"VIOL OF EMERG PROTECTIVE ORDER\",\"VIOL OF OBSTRUCTION ORDINANCE\",\"VIOL OF PARK CURFEW\",\"VIOL OF PROTECTIVE ORDER\",\"VIOL STATE LAW - OTHER\",\"VIOL STATE MASSAGE REGULATIONS\",\"VIOL STAY AWAY ORDER\",\"VIOL TEMP EX PARTE  ORDER\",\"VOCO - ALCOHOL  CONSUMPTION\",\"VOCO AMPLIFIED MUSIC\\u002fVEHICLE\",\"VOCO SOLICITATION PROHIBIT\",\"WARRANT ARREST NON TRAFFIC\",\"WEAPON VIOL - OTHER\"],\"name\":\"\",\"parents\":[\"\",\"\",\"\",\"\",\"\",\"\",\"\",\"\",\"\",\"\",\"\",\"\",\"\",\"\",\"\",\"\",\"\",\"\",\"\",\"\",\"\",\"\",\"\",\"\",\"\",\"\",\"\",\"\",\"\",\"\",\"\",\"\",\"\",\"\",\"\",\"\",\"\",\"\",\"\",\"\",\"\",\"\",\"\",\"\",\"\",\"\",\"\",\"\",\"\",\"\",\"\",\"\",\"\",\"\",\"\",\"\",\"\",\"\",\"\",\"\",\"\",\"\",\"\",\"\",\"\",\"\",\"\",\"\",\"\",\"\",\"\",\"\",\"\",\"\",\"\",\"\",\"\",\"\",\"\",\"\",\"\",\"\",\"\",\"\",\"\",\"\",\"\",\"\",\"\",\"\",\"\",\"\",\"\",\"\",\"\",\"\",\"\",\"\",\"\",\"\",\"\",\"\",\"\",\"\",\"\",\"\",\"\",\"\",\"\",\"\",\"\",\"\",\"\",\"\",\"\",\"\",\"\",\"\",\"\",\"\",\"\",\"\",\"\",\"\",\"\",\"\",\"\",\"\",\"\",\"\",\"\",\"\",\"\",\"\",\"\",\"\",\"\",\"\",\"\",\"\",\"\",\"\",\"\",\"\",\"\",\"\",\"\",\"\",\"\",\"\",\"\",\"\",\"\",\"\",\"\",\"\",\"\",\"\",\"\",\"\",\"\",\"\",\"\",\"\",\"\",\"\",\"\",\"\",\"\",\"\",\"\",\"\",\"\",\"\",\"\",\"\",\"\",\"\",\"\",\"\",\"\",\"\",\"\",\"\",\"\",\"\",\"\",\"\",\"\",\"\",\"\",\"\",\"\",\"\",\"\",\"\",\"\",\"\",\"\",\"\",\"\",\"\",\"\",\"\",\"\",\"\",\"\",\"\",\"\",\"\",\"\",\"\",\"\",\"\",\"\",\"\",\"\",\"\",\"\",\"\",\"\",\"\",\"\",\"\",\"\",\"\",\"\",\"\",\"\",\"\",\"\",\"\",\"\",\"\",\"\",\"\",\"\",\"\",\"\",\"\",\"\",\"\",\"\",\"\",\"\",\"\",\"\",\"\",\"\",\"\",\"\",\"\",\"\",\"\",\"\",\"\",\"\",\"\",\"\",\"\",\"\",\"\",\"\",\"\",\"\",\"\",\"\",\"\",\"\",\"\",\"\",\"\",\"\",\"\",\"\",\"\",\"\",\"\",\"\",\"\",\"\",\"\",\"\",\"\",\"\",\"\",\"\",\"\",\"\",\"\",\"\",\"\",\"\",\"\",\"\",\"\",\"\",\"\",\"\",\"\",\"\",\"\",\"\",\"\",\"\",\"\",\"\",\"\",\"\",\"\",\"\",\"\",\"\",\"\",\"\",\"\",\"\",\"\",\"\",\"\",\"\",\"\",\"\",\"\",\"\",\"\",\"\",\"\",\"\",\"\",\"\",\"\",\"\",\"\",\"\",\"\",\"\",\"\",\"\",\"\",\"\",\"\",\"\",\"\",\"\",\"\",\"\",\"\",\"\",\"\",\"\"],\"values\":[148,3,2,232,2949,103,5616,10,2213,64,44,272,27,10,1,28,87,2757,10,1,2,13,215,66,489,29,525,4,153,4,6,28,2,8005,3749,5874,1123,46,280,356,517,16024,12181,2,9,3,7,4,8,23014,4,2,4,75,1,462,2,214,9838,274,8386,4330,8384,42229,14,25,3851,255,213,1,1,2,16,5,342,3,3186,29,113,8,23,3345,138,1,27,25061,1410,3,13,9410,289,213,1089,1057,595,582,732,3,5054,1401,46,3110,620,42,20,36,6,2,16,1,9,3,3,18,11179,46,76,1,948,268,570,547,1060,71,99,1,6,1040,1,14,65,35,8908,1941,213,387,1648,39,16,1082,408,1219,1,91,130,6,39,859,1,239,4,2,3,172,173,47035,3162,88,950,3,4,331,2760,113,174,51,26,6449,32,56,138,14,1,999,11515,259,14,51,1,20,12,8303,39,19,2,77,527,1027,26,42,332,19,176,415,62,368,7,132,37,111,73,31,6,28,4,80,54,5,6395,2,11,5,1,8,23,38,6,21,240,68,21,1,77,15,1,395,140,58,6,4,76,6694,462,202,16,114,20,14,3437,853,1,2,53,181,204,3,3887,1,34,15,169,658,37,59,32,48,21,553,266,697,113,15,1515,523,1,2,2,14,107,28,13,19,13,367,3,37,21,99,58,4,5,9,3673,965,129,33594,49,61,45,4,11100,4752,1541,1370,3090,1027,6456,4,133,3907,560,2018,3,1468,45,570,1,1,5,6,18,6,31,24,1775,5,98,138,74,1,12,21,37,2,80,640,2,48,1,3,519,23,1,1,10,214,65,4,802,6,6,1572,378,1,18,64,38,1,1,1524,23],\"type\":\"treemap\",\"textinfo\":\"label+text+value\"}],                        {\"template\":{\"data\":{\"histogram2dcontour\":[{\"type\":\"histogram2dcontour\",\"colorbar\":{\"outlinewidth\":0,\"ticks\":\"\"},\"colorscale\":[[0.0,\"#0d0887\"],[0.1111111111111111,\"#46039f\"],[0.2222222222222222,\"#7201a8\"],[0.3333333333333333,\"#9c179e\"],[0.4444444444444444,\"#bd3786\"],[0.5555555555555556,\"#d8576b\"],[0.6666666666666666,\"#ed7953\"],[0.7777777777777778,\"#fb9f3a\"],[0.8888888888888888,\"#fdca26\"],[1.0,\"#f0f921\"]]}],\"choropleth\":[{\"type\":\"choropleth\",\"colorbar\":{\"outlinewidth\":0,\"ticks\":\"\"}}],\"histogram2d\":[{\"type\":\"histogram2d\",\"colorbar\":{\"outlinewidth\":0,\"ticks\":\"\"},\"colorscale\":[[0.0,\"#0d0887\"],[0.1111111111111111,\"#46039f\"],[0.2222222222222222,\"#7201a8\"],[0.3333333333333333,\"#9c179e\"],[0.4444444444444444,\"#bd3786\"],[0.5555555555555556,\"#d8576b\"],[0.6666666666666666,\"#ed7953\"],[0.7777777777777778,\"#fb9f3a\"],[0.8888888888888888,\"#fdca26\"],[1.0,\"#f0f921\"]]}],\"heatmap\":[{\"type\":\"heatmap\",\"colorbar\":{\"outlinewidth\":0,\"ticks\":\"\"},\"colorscale\":[[0.0,\"#0d0887\"],[0.1111111111111111,\"#46039f\"],[0.2222222222222222,\"#7201a8\"],[0.3333333333333333,\"#9c179e\"],[0.4444444444444444,\"#bd3786\"],[0.5555555555555556,\"#d8576b\"],[0.6666666666666666,\"#ed7953\"],[0.7777777777777778,\"#fb9f3a\"],[0.8888888888888888,\"#fdca26\"],[1.0,\"#f0f921\"]]}],\"heatmapgl\":[{\"type\":\"heatmapgl\",\"colorbar\":{\"outlinewidth\":0,\"ticks\":\"\"},\"colorscale\":[[0.0,\"#0d0887\"],[0.1111111111111111,\"#46039f\"],[0.2222222222222222,\"#7201a8\"],[0.3333333333333333,\"#9c179e\"],[0.4444444444444444,\"#bd3786\"],[0.5555555555555556,\"#d8576b\"],[0.6666666666666666,\"#ed7953\"],[0.7777777777777778,\"#fb9f3a\"],[0.8888888888888888,\"#fdca26\"],[1.0,\"#f0f921\"]]}],\"contourcarpet\":[{\"type\":\"contourcarpet\",\"colorbar\":{\"outlinewidth\":0,\"ticks\":\"\"}}],\"contour\":[{\"type\":\"contour\",\"colorbar\":{\"outlinewidth\":0,\"ticks\":\"\"},\"colorscale\":[[0.0,\"#0d0887\"],[0.1111111111111111,\"#46039f\"],[0.2222222222222222,\"#7201a8\"],[0.3333333333333333,\"#9c179e\"],[0.4444444444444444,\"#bd3786\"],[0.5555555555555556,\"#d8576b\"],[0.6666666666666666,\"#ed7953\"],[0.7777777777777778,\"#fb9f3a\"],[0.8888888888888888,\"#fdca26\"],[1.0,\"#f0f921\"]]}],\"surface\":[{\"type\":\"surface\",\"colorbar\":{\"outlinewidth\":0,\"ticks\":\"\"},\"colorscale\":[[0.0,\"#0d0887\"],[0.1111111111111111,\"#46039f\"],[0.2222222222222222,\"#7201a8\"],[0.3333333333333333,\"#9c179e\"],[0.4444444444444444,\"#bd3786\"],[0.5555555555555556,\"#d8576b\"],[0.6666666666666666,\"#ed7953\"],[0.7777777777777778,\"#fb9f3a\"],[0.8888888888888888,\"#fdca26\"],[1.0,\"#f0f921\"]]}],\"mesh3d\":[{\"type\":\"mesh3d\",\"colorbar\":{\"outlinewidth\":0,\"ticks\":\"\"}}],\"scatter\":[{\"fillpattern\":{\"fillmode\":\"overlay\",\"size\":10,\"solidity\":0.2},\"type\":\"scatter\"}],\"parcoords\":[{\"type\":\"parcoords\",\"line\":{\"colorbar\":{\"outlinewidth\":0,\"ticks\":\"\"}}}],\"scatterpolargl\":[{\"type\":\"scatterpolargl\",\"marker\":{\"colorbar\":{\"outlinewidth\":0,\"ticks\":\"\"}}}],\"bar\":[{\"error_x\":{\"color\":\"#2a3f5f\"},\"error_y\":{\"color\":\"#2a3f5f\"},\"marker\":{\"line\":{\"color\":\"#E5ECF6\",\"width\":0.5},\"pattern\":{\"fillmode\":\"overlay\",\"size\":10,\"solidity\":0.2}},\"type\":\"bar\"}],\"scattergeo\":[{\"type\":\"scattergeo\",\"marker\":{\"colorbar\":{\"outlinewidth\":0,\"ticks\":\"\"}}}],\"scatterpolar\":[{\"type\":\"scatterpolar\",\"marker\":{\"colorbar\":{\"outlinewidth\":0,\"ticks\":\"\"}}}],\"histogram\":[{\"marker\":{\"pattern\":{\"fillmode\":\"overlay\",\"size\":10,\"solidity\":0.2}},\"type\":\"histogram\"}],\"scattergl\":[{\"type\":\"scattergl\",\"marker\":{\"colorbar\":{\"outlinewidth\":0,\"ticks\":\"\"}}}],\"scatter3d\":[{\"type\":\"scatter3d\",\"line\":{\"colorbar\":{\"outlinewidth\":0,\"ticks\":\"\"}},\"marker\":{\"colorbar\":{\"outlinewidth\":0,\"ticks\":\"\"}}}],\"scattermapbox\":[{\"type\":\"scattermapbox\",\"marker\":{\"colorbar\":{\"outlinewidth\":0,\"ticks\":\"\"}}}],\"scatterternary\":[{\"type\":\"scatterternary\",\"marker\":{\"colorbar\":{\"outlinewidth\":0,\"ticks\":\"\"}}}],\"scattercarpet\":[{\"type\":\"scattercarpet\",\"marker\":{\"colorbar\":{\"outlinewidth\":0,\"ticks\":\"\"}}}],\"carpet\":[{\"aaxis\":{\"endlinecolor\":\"#2a3f5f\",\"gridcolor\":\"white\",\"linecolor\":\"white\",\"minorgridcolor\":\"white\",\"startlinecolor\":\"#2a3f5f\"},\"baxis\":{\"endlinecolor\":\"#2a3f5f\",\"gridcolor\":\"white\",\"linecolor\":\"white\",\"minorgridcolor\":\"white\",\"startlinecolor\":\"#2a3f5f\"},\"type\":\"carpet\"}],\"table\":[{\"cells\":{\"fill\":{\"color\":\"#EBF0F8\"},\"line\":{\"color\":\"white\"}},\"header\":{\"fill\":{\"color\":\"#C8D4E3\"},\"line\":{\"color\":\"white\"}},\"type\":\"table\"}],\"barpolar\":[{\"marker\":{\"line\":{\"color\":\"#E5ECF6\",\"width\":0.5},\"pattern\":{\"fillmode\":\"overlay\",\"size\":10,\"solidity\":0.2}},\"type\":\"barpolar\"}],\"pie\":[{\"automargin\":true,\"type\":\"pie\"}]},\"layout\":{\"autotypenumbers\":\"strict\",\"colorway\":[\"#636efa\",\"#EF553B\",\"#00cc96\",\"#ab63fa\",\"#FFA15A\",\"#19d3f3\",\"#FF6692\",\"#B6E880\",\"#FF97FF\",\"#FECB52\"],\"font\":{\"color\":\"#2a3f5f\"},\"hovermode\":\"closest\",\"hoverlabel\":{\"align\":\"left\"},\"paper_bgcolor\":\"white\",\"plot_bgcolor\":\"#E5ECF6\",\"polar\":{\"bgcolor\":\"#E5ECF6\",\"angularaxis\":{\"gridcolor\":\"white\",\"linecolor\":\"white\",\"ticks\":\"\"},\"radialaxis\":{\"gridcolor\":\"white\",\"linecolor\":\"white\",\"ticks\":\"\"}},\"ternary\":{\"bgcolor\":\"#E5ECF6\",\"aaxis\":{\"gridcolor\":\"white\",\"linecolor\":\"white\",\"ticks\":\"\"},\"baxis\":{\"gridcolor\":\"white\",\"linecolor\":\"white\",\"ticks\":\"\"},\"caxis\":{\"gridcolor\":\"white\",\"linecolor\":\"white\",\"ticks\":\"\"}},\"coloraxis\":{\"colorbar\":{\"outlinewidth\":0,\"ticks\":\"\"}},\"colorscale\":{\"sequential\":[[0.0,\"#0d0887\"],[0.1111111111111111,\"#46039f\"],[0.2222222222222222,\"#7201a8\"],[0.3333333333333333,\"#9c179e\"],[0.4444444444444444,\"#bd3786\"],[0.5555555555555556,\"#d8576b\"],[0.6666666666666666,\"#ed7953\"],[0.7777777777777778,\"#fb9f3a\"],[0.8888888888888888,\"#fdca26\"],[1.0,\"#f0f921\"]],\"sequentialminus\":[[0.0,\"#0d0887\"],[0.1111111111111111,\"#46039f\"],[0.2222222222222222,\"#7201a8\"],[0.3333333333333333,\"#9c179e\"],[0.4444444444444444,\"#bd3786\"],[0.5555555555555556,\"#d8576b\"],[0.6666666666666666,\"#ed7953\"],[0.7777777777777778,\"#fb9f3a\"],[0.8888888888888888,\"#fdca26\"],[1.0,\"#f0f921\"]],\"diverging\":[[0,\"#8e0152\"],[0.1,\"#c51b7d\"],[0.2,\"#de77ae\"],[0.3,\"#f1b6da\"],[0.4,\"#fde0ef\"],[0.5,\"#f7f7f7\"],[0.6,\"#e6f5d0\"],[0.7,\"#b8e186\"],[0.8,\"#7fbc41\"],[0.9,\"#4d9221\"],[1,\"#276419\"]]},\"xaxis\":{\"gridcolor\":\"white\",\"linecolor\":\"white\",\"ticks\":\"\",\"title\":{\"standoff\":15},\"zerolinecolor\":\"white\",\"automargin\":true,\"zerolinewidth\":2},\"yaxis\":{\"gridcolor\":\"white\",\"linecolor\":\"white\",\"ticks\":\"\",\"title\":{\"standoff\":15},\"zerolinecolor\":\"white\",\"automargin\":true,\"zerolinewidth\":2},\"scene\":{\"xaxis\":{\"backgroundcolor\":\"#E5ECF6\",\"gridcolor\":\"white\",\"linecolor\":\"white\",\"showbackground\":true,\"ticks\":\"\",\"zerolinecolor\":\"white\",\"gridwidth\":2},\"yaxis\":{\"backgroundcolor\":\"#E5ECF6\",\"gridcolor\":\"white\",\"linecolor\":\"white\",\"showbackground\":true,\"ticks\":\"\",\"zerolinecolor\":\"white\",\"gridwidth\":2},\"zaxis\":{\"backgroundcolor\":\"#E5ECF6\",\"gridcolor\":\"white\",\"linecolor\":\"white\",\"showbackground\":true,\"ticks\":\"\",\"zerolinecolor\":\"white\",\"gridwidth\":2}},\"shapedefaults\":{\"line\":{\"color\":\"#2a3f5f\"}},\"annotationdefaults\":{\"arrowcolor\":\"#2a3f5f\",\"arrowhead\":0,\"arrowwidth\":1},\"geo\":{\"bgcolor\":\"white\",\"landcolor\":\"#E5ECF6\",\"subunitcolor\":\"white\",\"showland\":true,\"showlakes\":true,\"lakecolor\":\"white\"},\"title\":{\"x\":0.05},\"mapbox\":{\"style\":\"light\"}}},\"legend\":{\"tracegroupgap\":0},\"title\":{\"text\":\"Major Crimes in Austin\"},\"treemapcolorway\":[\"rgb(103,0,31)\",\"rgb(178,24,43)\",\"rgb(214,96,77)\",\"rgb(244,165,130)\",\"rgb(253,219,199)\",\"rgb(247,247,247)\",\"rgb(209,229,240)\",\"rgb(146,197,222)\",\"rgb(67,147,195)\",\"rgb(33,102,172)\",\"rgb(5,48,97)\"],\"height\":700},                        {\"responsive\": true}                    ).then(function(){\n",
       "                            \n",
       "var gd = document.getElementById('ea7718f7-5e5e-4236-8550-c78ed7473f71');\n",
       "var x = new MutationObserver(function (mutations, observer) {{\n",
       "        var display = window.getComputedStyle(gd).display;\n",
       "        if (!display || display === 'none') {{\n",
       "            console.log([gd, 'removed!']);\n",
       "            Plotly.purge(gd);\n",
       "            observer.disconnect();\n",
       "        }}\n",
       "}});\n",
       "\n",
       "// Listen for the removal of the full notebook cells\n",
       "var notebookContainer = gd.closest('#notebook-container');\n",
       "if (notebookContainer) {{\n",
       "    x.observe(notebookContainer, {childList: true});\n",
       "}}\n",
       "\n",
       "// Listen for the clearing of the current output cell\n",
       "var outputEl = gd.closest('.output');\n",
       "if (outputEl) {{\n",
       "    x.observe(outputEl, {childList: true});\n",
       "}}\n",
       "\n",
       "                        })                };                });            </script>        </div>"
      ]
     },
     "metadata": {},
     "output_type": "display_data"
    }
   ],
   "source": [
    "# Tree map showing the highest crimes in Austin from 2019-2023\n",
    "treemap(categories, 'Major Crimes in Austin', ['Highest Offense Description'], categories['values'])"
   ]
  },
  {
   "cell_type": "code",
   "execution_count": 58,
   "id": "c2accf9f-96fa-466f-80cf-a230646657da",
   "metadata": {},
   "outputs": [
    {
     "data": {
      "application/vnd.plotly.v1+json": {
       "config": {
        "plotlyServerURL": "https://plot.ly"
       },
       "data": [
        {
         "alignmentgroup": "True",
         "hovertemplate": "color=FAMILY DISTURBANCE<br>x=%{x}<br>y=%{y}<extra></extra>",
         "legendgroup": "FAMILY DISTURBANCE",
         "marker": {
          "color": "#636efa",
          "pattern": {
           "shape": ""
          }
         },
         "name": "FAMILY DISTURBANCE",
         "offsetgroup": "FAMILY DISTURBANCE",
         "orientation": "v",
         "showlegend": true,
         "textposition": "auto",
         "type": "bar",
         "x": [
          "FAMILY DISTURBANCE"
         ],
         "xaxis": "x",
         "y": [
          47035
         ],
         "yaxis": "y"
        },
        {
         "alignmentgroup": "True",
         "hovertemplate": "color=BURGLARY OF VEHICLE<br>x=%{x}<br>y=%{y}<extra></extra>",
         "legendgroup": "BURGLARY OF VEHICLE",
         "marker": {
          "color": "#EF553B",
          "pattern": {
           "shape": ""
          }
         },
         "name": "BURGLARY OF VEHICLE",
         "offsetgroup": "BURGLARY OF VEHICLE",
         "orientation": "v",
         "showlegend": true,
         "textposition": "auto",
         "type": "bar",
         "x": [
          "BURGLARY OF VEHICLE"
         ],
         "xaxis": "x",
         "y": [
          42229
         ],
         "yaxis": "y"
        },
        {
         "alignmentgroup": "True",
         "hovertemplate": "color=THEFT<br>x=%{x}<br>y=%{y}<extra></extra>",
         "legendgroup": "THEFT",
         "marker": {
          "color": "#00cc96",
          "pattern": {
           "shape": ""
          }
         },
         "name": "THEFT",
         "offsetgroup": "THEFT",
         "orientation": "v",
         "showlegend": true,
         "textposition": "auto",
         "type": "bar",
         "x": [
          "THEFT"
         ],
         "xaxis": "x",
         "y": [
          33594
         ],
         "yaxis": "y"
        },
        {
         "alignmentgroup": "True",
         "hovertemplate": "color=CRIMINAL MISCHIEF<br>x=%{x}<br>y=%{y}<extra></extra>",
         "legendgroup": "CRIMINAL MISCHIEF",
         "marker": {
          "color": "#ab63fa",
          "pattern": {
           "shape": ""
          }
         },
         "name": "CRIMINAL MISCHIEF",
         "offsetgroup": "CRIMINAL MISCHIEF",
         "orientation": "v",
         "showlegend": true,
         "textposition": "auto",
         "type": "bar",
         "x": [
          "CRIMINAL MISCHIEF"
         ],
         "xaxis": "x",
         "y": [
          25061
         ],
         "yaxis": "y"
        },
        {
         "alignmentgroup": "True",
         "hovertemplate": "color=AUTO THEFT<br>x=%{x}<br>y=%{y}<extra></extra>",
         "legendgroup": "AUTO THEFT",
         "marker": {
          "color": "#FFA15A",
          "pattern": {
           "shape": ""
          }
         },
         "name": "AUTO THEFT",
         "offsetgroup": "AUTO THEFT",
         "orientation": "v",
         "showlegend": true,
         "textposition": "auto",
         "type": "bar",
         "x": [
          "AUTO THEFT"
         ],
         "xaxis": "x",
         "y": [
          23014
         ],
         "yaxis": "y"
        },
        {
         "alignmentgroup": "True",
         "hovertemplate": "color=ASSAULT W/INJURY-FAM/DATE VIOL<br>x=%{x}<br>y=%{y}<extra></extra>",
         "legendgroup": "ASSAULT W/INJURY-FAM/DATE VIOL",
         "marker": {
          "color": "#19d3f3",
          "pattern": {
           "shape": ""
          }
         },
         "name": "ASSAULT W/INJURY-FAM/DATE VIOL",
         "offsetgroup": "ASSAULT W/INJURY-FAM/DATE VIOL",
         "orientation": "v",
         "showlegend": true,
         "textposition": "auto",
         "type": "bar",
         "x": [
          "ASSAULT W/INJURY-FAM/DATE VIOL"
         ],
         "xaxis": "x",
         "y": [
          16024
         ],
         "yaxis": "y"
        },
        {
         "alignmentgroup": "True",
         "hovertemplate": "color=ASSAULT WITH INJURY<br>x=%{x}<br>y=%{y}<extra></extra>",
         "legendgroup": "ASSAULT WITH INJURY",
         "marker": {
          "color": "#FF6692",
          "pattern": {
           "shape": ""
          }
         },
         "name": "ASSAULT WITH INJURY",
         "offsetgroup": "ASSAULT WITH INJURY",
         "orientation": "v",
         "showlegend": true,
         "textposition": "auto",
         "type": "bar",
         "x": [
          "ASSAULT WITH INJURY"
         ],
         "xaxis": "x",
         "y": [
          12181
         ],
         "yaxis": "y"
        },
        {
         "alignmentgroup": "True",
         "hovertemplate": "color=HARASSMENT<br>x=%{x}<br>y=%{y}<extra></extra>",
         "legendgroup": "HARASSMENT",
         "marker": {
          "color": "#B6E880",
          "pattern": {
           "shape": ""
          }
         },
         "name": "HARASSMENT",
         "offsetgroup": "HARASSMENT",
         "orientation": "v",
         "showlegend": true,
         "textposition": "auto",
         "type": "bar",
         "x": [
          "HARASSMENT"
         ],
         "xaxis": "x",
         "y": [
          11515
         ],
         "yaxis": "y"
        },
        {
         "alignmentgroup": "True",
         "hovertemplate": "color=DISTURBANCE - OTHER<br>x=%{x}<br>y=%{y}<extra></extra>",
         "legendgroup": "DISTURBANCE - OTHER",
         "marker": {
          "color": "#FF97FF",
          "pattern": {
           "shape": ""
          }
         },
         "name": "DISTURBANCE - OTHER",
         "offsetgroup": "DISTURBANCE - OTHER",
         "orientation": "v",
         "showlegend": true,
         "textposition": "auto",
         "type": "bar",
         "x": [
          "DISTURBANCE - OTHER"
         ],
         "xaxis": "x",
         "y": [
          11179
         ],
         "yaxis": "y"
        },
        {
         "alignmentgroup": "True",
         "hovertemplate": "color=THEFT BY SHOPLIFTING<br>x=%{x}<br>y=%{y}<extra></extra>",
         "legendgroup": "THEFT BY SHOPLIFTING",
         "marker": {
          "color": "#FECB52",
          "pattern": {
           "shape": ""
          }
         },
         "name": "THEFT BY SHOPLIFTING",
         "offsetgroup": "THEFT BY SHOPLIFTING",
         "orientation": "v",
         "showlegend": true,
         "textposition": "auto",
         "type": "bar",
         "x": [
          "THEFT BY SHOPLIFTING"
         ],
         "xaxis": "x",
         "y": [
          11100
         ],
         "yaxis": "y"
        }
       ],
       "layout": {
        "autosize": true,
        "bargap": 0.2,
        "bargroupgap": 0.1,
        "barmode": "relative",
        "legend": {
         "title": {
          "text": "color"
         },
         "tracegroupgap": 0
        },
        "margin": {
         "t": 60
        },
        "template": {
         "data": {
          "bar": [
           {
            "error_x": {
             "color": "#2a3f5f"
            },
            "error_y": {
             "color": "#2a3f5f"
            },
            "marker": {
             "line": {
              "color": "#E5ECF6",
              "width": 0.5
             },
             "pattern": {
              "fillmode": "overlay",
              "size": 10,
              "solidity": 0.2
             }
            },
            "type": "bar"
           }
          ],
          "barpolar": [
           {
            "marker": {
             "line": {
              "color": "#E5ECF6",
              "width": 0.5
             },
             "pattern": {
              "fillmode": "overlay",
              "size": 10,
              "solidity": 0.2
             }
            },
            "type": "barpolar"
           }
          ],
          "carpet": [
           {
            "aaxis": {
             "endlinecolor": "#2a3f5f",
             "gridcolor": "white",
             "linecolor": "white",
             "minorgridcolor": "white",
             "startlinecolor": "#2a3f5f"
            },
            "baxis": {
             "endlinecolor": "#2a3f5f",
             "gridcolor": "white",
             "linecolor": "white",
             "minorgridcolor": "white",
             "startlinecolor": "#2a3f5f"
            },
            "type": "carpet"
           }
          ],
          "choropleth": [
           {
            "colorbar": {
             "outlinewidth": 0,
             "ticks": ""
            },
            "type": "choropleth"
           }
          ],
          "contour": [
           {
            "colorbar": {
             "outlinewidth": 0,
             "ticks": ""
            },
            "colorscale": [
             [
              0,
              "#0d0887"
             ],
             [
              0.1111111111111111,
              "#46039f"
             ],
             [
              0.2222222222222222,
              "#7201a8"
             ],
             [
              0.3333333333333333,
              "#9c179e"
             ],
             [
              0.4444444444444444,
              "#bd3786"
             ],
             [
              0.5555555555555556,
              "#d8576b"
             ],
             [
              0.6666666666666666,
              "#ed7953"
             ],
             [
              0.7777777777777778,
              "#fb9f3a"
             ],
             [
              0.8888888888888888,
              "#fdca26"
             ],
             [
              1,
              "#f0f921"
             ]
            ],
            "type": "contour"
           }
          ],
          "contourcarpet": [
           {
            "colorbar": {
             "outlinewidth": 0,
             "ticks": ""
            },
            "type": "contourcarpet"
           }
          ],
          "heatmap": [
           {
            "colorbar": {
             "outlinewidth": 0,
             "ticks": ""
            },
            "colorscale": [
             [
              0,
              "#0d0887"
             ],
             [
              0.1111111111111111,
              "#46039f"
             ],
             [
              0.2222222222222222,
              "#7201a8"
             ],
             [
              0.3333333333333333,
              "#9c179e"
             ],
             [
              0.4444444444444444,
              "#bd3786"
             ],
             [
              0.5555555555555556,
              "#d8576b"
             ],
             [
              0.6666666666666666,
              "#ed7953"
             ],
             [
              0.7777777777777778,
              "#fb9f3a"
             ],
             [
              0.8888888888888888,
              "#fdca26"
             ],
             [
              1,
              "#f0f921"
             ]
            ],
            "type": "heatmap"
           }
          ],
          "heatmapgl": [
           {
            "colorbar": {
             "outlinewidth": 0,
             "ticks": ""
            },
            "colorscale": [
             [
              0,
              "#0d0887"
             ],
             [
              0.1111111111111111,
              "#46039f"
             ],
             [
              0.2222222222222222,
              "#7201a8"
             ],
             [
              0.3333333333333333,
              "#9c179e"
             ],
             [
              0.4444444444444444,
              "#bd3786"
             ],
             [
              0.5555555555555556,
              "#d8576b"
             ],
             [
              0.6666666666666666,
              "#ed7953"
             ],
             [
              0.7777777777777778,
              "#fb9f3a"
             ],
             [
              0.8888888888888888,
              "#fdca26"
             ],
             [
              1,
              "#f0f921"
             ]
            ],
            "type": "heatmapgl"
           }
          ],
          "histogram": [
           {
            "marker": {
             "pattern": {
              "fillmode": "overlay",
              "size": 10,
              "solidity": 0.2
             }
            },
            "type": "histogram"
           }
          ],
          "histogram2d": [
           {
            "colorbar": {
             "outlinewidth": 0,
             "ticks": ""
            },
            "colorscale": [
             [
              0,
              "#0d0887"
             ],
             [
              0.1111111111111111,
              "#46039f"
             ],
             [
              0.2222222222222222,
              "#7201a8"
             ],
             [
              0.3333333333333333,
              "#9c179e"
             ],
             [
              0.4444444444444444,
              "#bd3786"
             ],
             [
              0.5555555555555556,
              "#d8576b"
             ],
             [
              0.6666666666666666,
              "#ed7953"
             ],
             [
              0.7777777777777778,
              "#fb9f3a"
             ],
             [
              0.8888888888888888,
              "#fdca26"
             ],
             [
              1,
              "#f0f921"
             ]
            ],
            "type": "histogram2d"
           }
          ],
          "histogram2dcontour": [
           {
            "colorbar": {
             "outlinewidth": 0,
             "ticks": ""
            },
            "colorscale": [
             [
              0,
              "#0d0887"
             ],
             [
              0.1111111111111111,
              "#46039f"
             ],
             [
              0.2222222222222222,
              "#7201a8"
             ],
             [
              0.3333333333333333,
              "#9c179e"
             ],
             [
              0.4444444444444444,
              "#bd3786"
             ],
             [
              0.5555555555555556,
              "#d8576b"
             ],
             [
              0.6666666666666666,
              "#ed7953"
             ],
             [
              0.7777777777777778,
              "#fb9f3a"
             ],
             [
              0.8888888888888888,
              "#fdca26"
             ],
             [
              1,
              "#f0f921"
             ]
            ],
            "type": "histogram2dcontour"
           }
          ],
          "mesh3d": [
           {
            "colorbar": {
             "outlinewidth": 0,
             "ticks": ""
            },
            "type": "mesh3d"
           }
          ],
          "parcoords": [
           {
            "line": {
             "colorbar": {
              "outlinewidth": 0,
              "ticks": ""
             }
            },
            "type": "parcoords"
           }
          ],
          "pie": [
           {
            "automargin": true,
            "type": "pie"
           }
          ],
          "scatter": [
           {
            "fillpattern": {
             "fillmode": "overlay",
             "size": 10,
             "solidity": 0.2
            },
            "type": "scatter"
           }
          ],
          "scatter3d": [
           {
            "line": {
             "colorbar": {
              "outlinewidth": 0,
              "ticks": ""
             }
            },
            "marker": {
             "colorbar": {
              "outlinewidth": 0,
              "ticks": ""
             }
            },
            "type": "scatter3d"
           }
          ],
          "scattercarpet": [
           {
            "marker": {
             "colorbar": {
              "outlinewidth": 0,
              "ticks": ""
             }
            },
            "type": "scattercarpet"
           }
          ],
          "scattergeo": [
           {
            "marker": {
             "colorbar": {
              "outlinewidth": 0,
              "ticks": ""
             }
            },
            "type": "scattergeo"
           }
          ],
          "scattergl": [
           {
            "marker": {
             "colorbar": {
              "outlinewidth": 0,
              "ticks": ""
             }
            },
            "type": "scattergl"
           }
          ],
          "scattermapbox": [
           {
            "marker": {
             "colorbar": {
              "outlinewidth": 0,
              "ticks": ""
             }
            },
            "type": "scattermapbox"
           }
          ],
          "scatterpolar": [
           {
            "marker": {
             "colorbar": {
              "outlinewidth": 0,
              "ticks": ""
             }
            },
            "type": "scatterpolar"
           }
          ],
          "scatterpolargl": [
           {
            "marker": {
             "colorbar": {
              "outlinewidth": 0,
              "ticks": ""
             }
            },
            "type": "scatterpolargl"
           }
          ],
          "scatterternary": [
           {
            "marker": {
             "colorbar": {
              "outlinewidth": 0,
              "ticks": ""
             }
            },
            "type": "scatterternary"
           }
          ],
          "surface": [
           {
            "colorbar": {
             "outlinewidth": 0,
             "ticks": ""
            },
            "colorscale": [
             [
              0,
              "#0d0887"
             ],
             [
              0.1111111111111111,
              "#46039f"
             ],
             [
              0.2222222222222222,
              "#7201a8"
             ],
             [
              0.3333333333333333,
              "#9c179e"
             ],
             [
              0.4444444444444444,
              "#bd3786"
             ],
             [
              0.5555555555555556,
              "#d8576b"
             ],
             [
              0.6666666666666666,
              "#ed7953"
             ],
             [
              0.7777777777777778,
              "#fb9f3a"
             ],
             [
              0.8888888888888888,
              "#fdca26"
             ],
             [
              1,
              "#f0f921"
             ]
            ],
            "type": "surface"
           }
          ],
          "table": [
           {
            "cells": {
             "fill": {
              "color": "#EBF0F8"
             },
             "line": {
              "color": "white"
             }
            },
            "header": {
             "fill": {
              "color": "#C8D4E3"
             },
             "line": {
              "color": "white"
             }
            },
            "type": "table"
           }
          ]
         },
         "layout": {
          "annotationdefaults": {
           "arrowcolor": "#2a3f5f",
           "arrowhead": 0,
           "arrowwidth": 1
          },
          "autotypenumbers": "strict",
          "coloraxis": {
           "colorbar": {
            "outlinewidth": 0,
            "ticks": ""
           }
          },
          "colorscale": {
           "diverging": [
            [
             0,
             "#8e0152"
            ],
            [
             0.1,
             "#c51b7d"
            ],
            [
             0.2,
             "#de77ae"
            ],
            [
             0.3,
             "#f1b6da"
            ],
            [
             0.4,
             "#fde0ef"
            ],
            [
             0.5,
             "#f7f7f7"
            ],
            [
             0.6,
             "#e6f5d0"
            ],
            [
             0.7,
             "#b8e186"
            ],
            [
             0.8,
             "#7fbc41"
            ],
            [
             0.9,
             "#4d9221"
            ],
            [
             1,
             "#276419"
            ]
           ],
           "sequential": [
            [
             0,
             "#0d0887"
            ],
            [
             0.1111111111111111,
             "#46039f"
            ],
            [
             0.2222222222222222,
             "#7201a8"
            ],
            [
             0.3333333333333333,
             "#9c179e"
            ],
            [
             0.4444444444444444,
             "#bd3786"
            ],
            [
             0.5555555555555556,
             "#d8576b"
            ],
            [
             0.6666666666666666,
             "#ed7953"
            ],
            [
             0.7777777777777778,
             "#fb9f3a"
            ],
            [
             0.8888888888888888,
             "#fdca26"
            ],
            [
             1,
             "#f0f921"
            ]
           ],
           "sequentialminus": [
            [
             0,
             "#0d0887"
            ],
            [
             0.1111111111111111,
             "#46039f"
            ],
            [
             0.2222222222222222,
             "#7201a8"
            ],
            [
             0.3333333333333333,
             "#9c179e"
            ],
            [
             0.4444444444444444,
             "#bd3786"
            ],
            [
             0.5555555555555556,
             "#d8576b"
            ],
            [
             0.6666666666666666,
             "#ed7953"
            ],
            [
             0.7777777777777778,
             "#fb9f3a"
            ],
            [
             0.8888888888888888,
             "#fdca26"
            ],
            [
             1,
             "#f0f921"
            ]
           ]
          },
          "colorway": [
           "#636efa",
           "#EF553B",
           "#00cc96",
           "#ab63fa",
           "#FFA15A",
           "#19d3f3",
           "#FF6692",
           "#B6E880",
           "#FF97FF",
           "#FECB52"
          ],
          "font": {
           "color": "#2a3f5f"
          },
          "geo": {
           "bgcolor": "white",
           "lakecolor": "white",
           "landcolor": "#E5ECF6",
           "showlakes": true,
           "showland": true,
           "subunitcolor": "white"
          },
          "hoverlabel": {
           "align": "left"
          },
          "hovermode": "closest",
          "mapbox": {
           "style": "light"
          },
          "paper_bgcolor": "white",
          "plot_bgcolor": "#E5ECF6",
          "polar": {
           "angularaxis": {
            "gridcolor": "white",
            "linecolor": "white",
            "ticks": ""
           },
           "bgcolor": "#E5ECF6",
           "radialaxis": {
            "gridcolor": "white",
            "linecolor": "white",
            "ticks": ""
           }
          },
          "scene": {
           "xaxis": {
            "backgroundcolor": "#E5ECF6",
            "gridcolor": "white",
            "gridwidth": 2,
            "linecolor": "white",
            "showbackground": true,
            "ticks": "",
            "zerolinecolor": "white"
           },
           "yaxis": {
            "backgroundcolor": "#E5ECF6",
            "gridcolor": "white",
            "gridwidth": 2,
            "linecolor": "white",
            "showbackground": true,
            "ticks": "",
            "zerolinecolor": "white"
           },
           "zaxis": {
            "backgroundcolor": "#E5ECF6",
            "gridcolor": "white",
            "gridwidth": 2,
            "linecolor": "white",
            "showbackground": true,
            "ticks": "",
            "zerolinecolor": "white"
           }
          },
          "shapedefaults": {
           "line": {
            "color": "#2a3f5f"
           }
          },
          "ternary": {
           "aaxis": {
            "gridcolor": "white",
            "linecolor": "white",
            "ticks": ""
           },
           "baxis": {
            "gridcolor": "white",
            "linecolor": "white",
            "ticks": ""
           },
           "bgcolor": "#E5ECF6",
           "caxis": {
            "gridcolor": "white",
            "linecolor": "white",
            "ticks": ""
           }
          },
          "title": {
           "x": 0.05
          },
          "xaxis": {
           "automargin": true,
           "gridcolor": "white",
           "linecolor": "white",
           "ticks": "",
           "title": {
            "standoff": 15
           },
           "zerolinecolor": "white",
           "zerolinewidth": 2
          },
          "yaxis": {
           "automargin": true,
           "gridcolor": "white",
           "linecolor": "white",
           "ticks": "",
           "title": {
            "standoff": 15
           },
           "zerolinecolor": "white",
           "zerolinewidth": 2
          }
         }
        },
        "title": {
         "text": "Top 10 Major Crimes in Austin"
        },
        "xaxis": {
         "anchor": "y",
         "autorange": true,
         "domain": [
          0,
          1
         ],
         "range": [
          -0.5,
          9.5
         ],
         "title": {
          "text": "Crime"
         },
         "type": "category"
        },
        "yaxis": {
         "anchor": "x",
         "autorange": true,
         "domain": [
          0,
          1
         ],
         "range": [
          0,
          49510.52631578947
         ],
         "title": {
          "text": "Count"
         },
         "type": "linear"
        }
       }
      },
      "image/png": "[encoded data removed]",
      "text/html": [
       "<div>                            <div id=\"1ecbb309-7fa0-4711-8e57-ecf6dbe78cad\" class=\"plotly-graph-div\" style=\"height:400px; width:100%;\"></div>            <script type=\"text/javascript\">                require([\"plotly\"], function(Plotly) {                    window.PLOTLYENV=window.PLOTLYENV || {};                                    if (document.getElementById(\"1ecbb309-7fa0-4711-8e57-ecf6dbe78cad\")) {                    Plotly.newPlot(                        \"1ecbb309-7fa0-4711-8e57-ecf6dbe78cad\",                        [{\"alignmentgroup\":\"True\",\"hovertemplate\":\"color=FAMILY DISTURBANCE\\u003cbr\\u003ex=%{x}\\u003cbr\\u003ey=%{y}\\u003cextra\\u003e\\u003c\\u002fextra\\u003e\",\"legendgroup\":\"FAMILY DISTURBANCE\",\"marker\":{\"color\":\"#636efa\",\"pattern\":{\"shape\":\"\"}},\"name\":\"FAMILY DISTURBANCE\",\"offsetgroup\":\"FAMILY DISTURBANCE\",\"orientation\":\"v\",\"showlegend\":true,\"textposition\":\"auto\",\"x\":[\"FAMILY DISTURBANCE\"],\"xaxis\":\"x\",\"y\":[47035],\"yaxis\":\"y\",\"type\":\"bar\"},{\"alignmentgroup\":\"True\",\"hovertemplate\":\"color=BURGLARY OF VEHICLE\\u003cbr\\u003ex=%{x}\\u003cbr\\u003ey=%{y}\\u003cextra\\u003e\\u003c\\u002fextra\\u003e\",\"legendgroup\":\"BURGLARY OF VEHICLE\",\"marker\":{\"color\":\"#EF553B\",\"pattern\":{\"shape\":\"\"}},\"name\":\"BURGLARY OF VEHICLE\",\"offsetgroup\":\"BURGLARY OF VEHICLE\",\"orientation\":\"v\",\"showlegend\":true,\"textposition\":\"auto\",\"x\":[\"BURGLARY OF VEHICLE\"],\"xaxis\":\"x\",\"y\":[42229],\"yaxis\":\"y\",\"type\":\"bar\"},{\"alignmentgroup\":\"True\",\"hovertemplate\":\"color=THEFT\\u003cbr\\u003ex=%{x}\\u003cbr\\u003ey=%{y}\\u003cextra\\u003e\\u003c\\u002fextra\\u003e\",\"legendgroup\":\"THEFT\",\"marker\":{\"color\":\"#00cc96\",\"pattern\":{\"shape\":\"\"}},\"name\":\"THEFT\",\"offsetgroup\":\"THEFT\",\"orientation\":\"v\",\"showlegend\":true,\"textposition\":\"auto\",\"x\":[\"THEFT\"],\"xaxis\":\"x\",\"y\":[33594],\"yaxis\":\"y\",\"type\":\"bar\"},{\"alignmentgroup\":\"True\",\"hovertemplate\":\"color=CRIMINAL MISCHIEF\\u003cbr\\u003ex=%{x}\\u003cbr\\u003ey=%{y}\\u003cextra\\u003e\\u003c\\u002fextra\\u003e\",\"legendgroup\":\"CRIMINAL MISCHIEF\",\"marker\":{\"color\":\"#ab63fa\",\"pattern\":{\"shape\":\"\"}},\"name\":\"CRIMINAL MISCHIEF\",\"offsetgroup\":\"CRIMINAL MISCHIEF\",\"orientation\":\"v\",\"showlegend\":true,\"textposition\":\"auto\",\"x\":[\"CRIMINAL MISCHIEF\"],\"xaxis\":\"x\",\"y\":[25061],\"yaxis\":\"y\",\"type\":\"bar\"},{\"alignmentgroup\":\"True\",\"hovertemplate\":\"color=AUTO THEFT\\u003cbr\\u003ex=%{x}\\u003cbr\\u003ey=%{y}\\u003cextra\\u003e\\u003c\\u002fextra\\u003e\",\"legendgroup\":\"AUTO THEFT\",\"marker\":{\"color\":\"#FFA15A\",\"pattern\":{\"shape\":\"\"}},\"name\":\"AUTO THEFT\",\"offsetgroup\":\"AUTO THEFT\",\"orientation\":\"v\",\"showlegend\":true,\"textposition\":\"auto\",\"x\":[\"AUTO THEFT\"],\"xaxis\":\"x\",\"y\":[23014],\"yaxis\":\"y\",\"type\":\"bar\"},{\"alignmentgroup\":\"True\",\"hovertemplate\":\"color=ASSAULT W\\u002fINJURY-FAM\\u002fDATE VIOL\\u003cbr\\u003ex=%{x}\\u003cbr\\u003ey=%{y}\\u003cextra\\u003e\\u003c\\u002fextra\\u003e\",\"legendgroup\":\"ASSAULT W\\u002fINJURY-FAM\\u002fDATE VIOL\",\"marker\":{\"color\":\"#19d3f3\",\"pattern\":{\"shape\":\"\"}},\"name\":\"ASSAULT W\\u002fINJURY-FAM\\u002fDATE VIOL\",\"offsetgroup\":\"ASSAULT W\\u002fINJURY-FAM\\u002fDATE VIOL\",\"orientation\":\"v\",\"showlegend\":true,\"textposition\":\"auto\",\"x\":[\"ASSAULT W\\u002fINJURY-FAM\\u002fDATE VIOL\"],\"xaxis\":\"x\",\"y\":[16024],\"yaxis\":\"y\",\"type\":\"bar\"},{\"alignmentgroup\":\"True\",\"hovertemplate\":\"color=ASSAULT WITH INJURY\\u003cbr\\u003ex=%{x}\\u003cbr\\u003ey=%{y}\\u003cextra\\u003e\\u003c\\u002fextra\\u003e\",\"legendgroup\":\"ASSAULT WITH INJURY\",\"marker\":{\"color\":\"#FF6692\",\"pattern\":{\"shape\":\"\"}},\"name\":\"ASSAULT WITH INJURY\",\"offsetgroup\":\"ASSAULT WITH INJURY\",\"orientation\":\"v\",\"showlegend\":true,\"textposition\":\"auto\",\"x\":[\"ASSAULT WITH INJURY\"],\"xaxis\":\"x\",\"y\":[12181],\"yaxis\":\"y\",\"type\":\"bar\"},{\"alignmentgroup\":\"True\",\"hovertemplate\":\"color=HARASSMENT\\u003cbr\\u003ex=%{x}\\u003cbr\\u003ey=%{y}\\u003cextra\\u003e\\u003c\\u002fextra\\u003e\",\"legendgroup\":\"HARASSMENT\",\"marker\":{\"color\":\"#B6E880\",\"pattern\":{\"shape\":\"\"}},\"name\":\"HARASSMENT\",\"offsetgroup\":\"HARASSMENT\",\"orientation\":\"v\",\"showlegend\":true,\"textposition\":\"auto\",\"x\":[\"HARASSMENT\"],\"xaxis\":\"x\",\"y\":[11515],\"yaxis\":\"y\",\"type\":\"bar\"},{\"alignmentgroup\":\"True\",\"hovertemplate\":\"color=DISTURBANCE - OTHER\\u003cbr\\u003ex=%{x}\\u003cbr\\u003ey=%{y}\\u003cextra\\u003e\\u003c\\u002fextra\\u003e\",\"legendgroup\":\"DISTURBANCE - OTHER\",\"marker\":{\"color\":\"#FF97FF\",\"pattern\":{\"shape\":\"\"}},\"name\":\"DISTURBANCE - OTHER\",\"offsetgroup\":\"DISTURBANCE - OTHER\",\"orientation\":\"v\",\"showlegend\":true,\"textposition\":\"auto\",\"x\":[\"DISTURBANCE - OTHER\"],\"xaxis\":\"x\",\"y\":[11179],\"yaxis\":\"y\",\"type\":\"bar\"},{\"alignmentgroup\":\"True\",\"hovertemplate\":\"color=THEFT BY SHOPLIFTING\\u003cbr\\u003ex=%{x}\\u003cbr\\u003ey=%{y}\\u003cextra\\u003e\\u003c\\u002fextra\\u003e\",\"legendgroup\":\"THEFT BY SHOPLIFTING\",\"marker\":{\"color\":\"#FECB52\",\"pattern\":{\"shape\":\"\"}},\"name\":\"THEFT BY SHOPLIFTING\",\"offsetgroup\":\"THEFT BY SHOPLIFTING\",\"orientation\":\"v\",\"showlegend\":true,\"textposition\":\"auto\",\"x\":[\"THEFT BY SHOPLIFTING\"],\"xaxis\":\"x\",\"y\":[11100],\"yaxis\":\"y\",\"type\":\"bar\"}],                        {\"template\":{\"data\":{\"histogram2dcontour\":[{\"type\":\"histogram2dcontour\",\"colorbar\":{\"outlinewidth\":0,\"ticks\":\"\"},\"colorscale\":[[0.0,\"#0d0887\"],[0.1111111111111111,\"#46039f\"],[0.2222222222222222,\"#7201a8\"],[0.3333333333333333,\"#9c179e\"],[0.4444444444444444,\"#bd3786\"],[0.5555555555555556,\"#d8576b\"],[0.6666666666666666,\"#ed7953\"],[0.7777777777777778,\"#fb9f3a\"],[0.8888888888888888,\"#fdca26\"],[1.0,\"#f0f921\"]]}],\"choropleth\":[{\"type\":\"choropleth\",\"colorbar\":{\"outlinewidth\":0,\"ticks\":\"\"}}],\"histogram2d\":[{\"type\":\"histogram2d\",\"colorbar\":{\"outlinewidth\":0,\"ticks\":\"\"},\"colorscale\":[[0.0,\"#0d0887\"],[0.1111111111111111,\"#46039f\"],[0.2222222222222222,\"#7201a8\"],[0.3333333333333333,\"#9c179e\"],[0.4444444444444444,\"#bd3786\"],[0.5555555555555556,\"#d8576b\"],[0.6666666666666666,\"#ed7953\"],[0.7777777777777778,\"#fb9f3a\"],[0.8888888888888888,\"#fdca26\"],[1.0,\"#f0f921\"]]}],\"heatmap\":[{\"type\":\"heatmap\",\"colorbar\":{\"outlinewidth\":0,\"ticks\":\"\"},\"colorscale\":[[0.0,\"#0d0887\"],[0.1111111111111111,\"#46039f\"],[0.2222222222222222,\"#7201a8\"],[0.3333333333333333,\"#9c179e\"],[0.4444444444444444,\"#bd3786\"],[0.5555555555555556,\"#d8576b\"],[0.6666666666666666,\"#ed7953\"],[0.7777777777777778,\"#fb9f3a\"],[0.8888888888888888,\"#fdca26\"],[1.0,\"#f0f921\"]]}],\"heatmapgl\":[{\"type\":\"heatmapgl\",\"colorbar\":{\"outlinewidth\":0,\"ticks\":\"\"},\"colorscale\":[[0.0,\"#0d0887\"],[0.1111111111111111,\"#46039f\"],[0.2222222222222222,\"#7201a8\"],[0.3333333333333333,\"#9c179e\"],[0.4444444444444444,\"#bd3786\"],[0.5555555555555556,\"#d8576b\"],[0.6666666666666666,\"#ed7953\"],[0.7777777777777778,\"#fb9f3a\"],[0.8888888888888888,\"#fdca26\"],[1.0,\"#f0f921\"]]}],\"contourcarpet\":[{\"type\":\"contourcarpet\",\"colorbar\":{\"outlinewidth\":0,\"ticks\":\"\"}}],\"contour\":[{\"type\":\"contour\",\"colorbar\":{\"outlinewidth\":0,\"ticks\":\"\"},\"colorscale\":[[0.0,\"#0d0887\"],[0.1111111111111111,\"#46039f\"],[0.2222222222222222,\"#7201a8\"],[0.3333333333333333,\"#9c179e\"],[0.4444444444444444,\"#bd3786\"],[0.5555555555555556,\"#d8576b\"],[0.6666666666666666,\"#ed7953\"],[0.7777777777777778,\"#fb9f3a\"],[0.8888888888888888,\"#fdca26\"],[1.0,\"#f0f921\"]]}],\"surface\":[{\"type\":\"surface\",\"colorbar\":{\"outlinewidth\":0,\"ticks\":\"\"},\"colorscale\":[[0.0,\"#0d0887\"],[0.1111111111111111,\"#46039f\"],[0.2222222222222222,\"#7201a8\"],[0.3333333333333333,\"#9c179e\"],[0.4444444444444444,\"#bd3786\"],[0.5555555555555556,\"#d8576b\"],[0.6666666666666666,\"#ed7953\"],[0.7777777777777778,\"#fb9f3a\"],[0.8888888888888888,\"#fdca26\"],[1.0,\"#f0f921\"]]}],\"mesh3d\":[{\"type\":\"mesh3d\",\"colorbar\":{\"outlinewidth\":0,\"ticks\":\"\"}}],\"scatter\":[{\"fillpattern\":{\"fillmode\":\"overlay\",\"size\":10,\"solidity\":0.2},\"type\":\"scatter\"}],\"parcoords\":[{\"type\":\"parcoords\",\"line\":{\"colorbar\":{\"outlinewidth\":0,\"ticks\":\"\"}}}],\"scatterpolargl\":[{\"type\":\"scatterpolargl\",\"marker\":{\"colorbar\":{\"outlinewidth\":0,\"ticks\":\"\"}}}],\"bar\":[{\"error_x\":{\"color\":\"#2a3f5f\"},\"error_y\":{\"color\":\"#2a3f5f\"},\"marker\":{\"line\":{\"color\":\"#E5ECF6\",\"width\":0.5},\"pattern\":{\"fillmode\":\"overlay\",\"size\":10,\"solidity\":0.2}},\"type\":\"bar\"}],\"scattergeo\":[{\"type\":\"scattergeo\",\"marker\":{\"colorbar\":{\"outlinewidth\":0,\"ticks\":\"\"}}}],\"scatterpolar\":[{\"type\":\"scatterpolar\",\"marker\":{\"colorbar\":{\"outlinewidth\":0,\"ticks\":\"\"}}}],\"histogram\":[{\"marker\":{\"pattern\":{\"fillmode\":\"overlay\",\"size\":10,\"solidity\":0.2}},\"type\":\"histogram\"}],\"scattergl\":[{\"type\":\"scattergl\",\"marker\":{\"colorbar\":{\"outlinewidth\":0,\"ticks\":\"\"}}}],\"scatter3d\":[{\"type\":\"scatter3d\",\"line\":{\"colorbar\":{\"outlinewidth\":0,\"ticks\":\"\"}},\"marker\":{\"colorbar\":{\"outlinewidth\":0,\"ticks\":\"\"}}}],\"scattermapbox\":[{\"type\":\"scattermapbox\",\"marker\":{\"colorbar\":{\"outlinewidth\":0,\"ticks\":\"\"}}}],\"scatterternary\":[{\"type\":\"scatterternary\",\"marker\":{\"colorbar\":{\"outlinewidth\":0,\"ticks\":\"\"}}}],\"scattercarpet\":[{\"type\":\"scattercarpet\",\"marker\":{\"colorbar\":{\"outlinewidth\":0,\"ticks\":\"\"}}}],\"carpet\":[{\"aaxis\":{\"endlinecolor\":\"#2a3f5f\",\"gridcolor\":\"white\",\"linecolor\":\"white\",\"minorgridcolor\":\"white\",\"startlinecolor\":\"#2a3f5f\"},\"baxis\":{\"endlinecolor\":\"#2a3f5f\",\"gridcolor\":\"white\",\"linecolor\":\"white\",\"minorgridcolor\":\"white\",\"startlinecolor\":\"#2a3f5f\"},\"type\":\"carpet\"}],\"table\":[{\"cells\":{\"fill\":{\"color\":\"#EBF0F8\"},\"line\":{\"color\":\"white\"}},\"header\":{\"fill\":{\"color\":\"#C8D4E3\"},\"line\":{\"color\":\"white\"}},\"type\":\"table\"}],\"barpolar\":[{\"marker\":{\"line\":{\"color\":\"#E5ECF6\",\"width\":0.5},\"pattern\":{\"fillmode\":\"overlay\",\"size\":10,\"solidity\":0.2}},\"type\":\"barpolar\"}],\"pie\":[{\"automargin\":true,\"type\":\"pie\"}]},\"layout\":{\"autotypenumbers\":\"strict\",\"colorway\":[\"#636efa\",\"#EF553B\",\"#00cc96\",\"#ab63fa\",\"#FFA15A\",\"#19d3f3\",\"#FF6692\",\"#B6E880\",\"#FF97FF\",\"#FECB52\"],\"font\":{\"color\":\"#2a3f5f\"},\"hovermode\":\"closest\",\"hoverlabel\":{\"align\":\"left\"},\"paper_bgcolor\":\"white\",\"plot_bgcolor\":\"#E5ECF6\",\"polar\":{\"bgcolor\":\"#E5ECF6\",\"angularaxis\":{\"gridcolor\":\"white\",\"linecolor\":\"white\",\"ticks\":\"\"},\"radialaxis\":{\"gridcolor\":\"white\",\"linecolor\":\"white\",\"ticks\":\"\"}},\"ternary\":{\"bgcolor\":\"#E5ECF6\",\"aaxis\":{\"gridcolor\":\"white\",\"linecolor\":\"white\",\"ticks\":\"\"},\"baxis\":{\"gridcolor\":\"white\",\"linecolor\":\"white\",\"ticks\":\"\"},\"caxis\":{\"gridcolor\":\"white\",\"linecolor\":\"white\",\"ticks\":\"\"}},\"coloraxis\":{\"colorbar\":{\"outlinewidth\":0,\"ticks\":\"\"}},\"colorscale\":{\"sequential\":[[0.0,\"#0d0887\"],[0.1111111111111111,\"#46039f\"],[0.2222222222222222,\"#7201a8\"],[0.3333333333333333,\"#9c179e\"],[0.4444444444444444,\"#bd3786\"],[0.5555555555555556,\"#d8576b\"],[0.6666666666666666,\"#ed7953\"],[0.7777777777777778,\"#fb9f3a\"],[0.8888888888888888,\"#fdca26\"],[1.0,\"#f0f921\"]],\"sequentialminus\":[[0.0,\"#0d0887\"],[0.1111111111111111,\"#46039f\"],[0.2222222222222222,\"#7201a8\"],[0.3333333333333333,\"#9c179e\"],[0.4444444444444444,\"#bd3786\"],[0.5555555555555556,\"#d8576b\"],[0.6666666666666666,\"#ed7953\"],[0.7777777777777778,\"#fb9f3a\"],[0.8888888888888888,\"#fdca26\"],[1.0,\"#f0f921\"]],\"diverging\":[[0,\"#8e0152\"],[0.1,\"#c51b7d\"],[0.2,\"#de77ae\"],[0.3,\"#f1b6da\"],[0.4,\"#fde0ef\"],[0.5,\"#f7f7f7\"],[0.6,\"#e6f5d0\"],[0.7,\"#b8e186\"],[0.8,\"#7fbc41\"],[0.9,\"#4d9221\"],[1,\"#276419\"]]},\"xaxis\":{\"gridcolor\":\"white\",\"linecolor\":\"white\",\"ticks\":\"\",\"title\":{\"standoff\":15},\"zerolinecolor\":\"white\",\"automargin\":true,\"zerolinewidth\":2},\"yaxis\":{\"gridcolor\":\"white\",\"linecolor\":\"white\",\"ticks\":\"\",\"title\":{\"standoff\":15},\"zerolinecolor\":\"white\",\"automargin\":true,\"zerolinewidth\":2},\"scene\":{\"xaxis\":{\"backgroundcolor\":\"#E5ECF6\",\"gridcolor\":\"white\",\"linecolor\":\"white\",\"showbackground\":true,\"ticks\":\"\",\"zerolinecolor\":\"white\",\"gridwidth\":2},\"yaxis\":{\"backgroundcolor\":\"#E5ECF6\",\"gridcolor\":\"white\",\"linecolor\":\"white\",\"showbackground\":true,\"ticks\":\"\",\"zerolinecolor\":\"white\",\"gridwidth\":2},\"zaxis\":{\"backgroundcolor\":\"#E5ECF6\",\"gridcolor\":\"white\",\"linecolor\":\"white\",\"showbackground\":true,\"ticks\":\"\",\"zerolinecolor\":\"white\",\"gridwidth\":2}},\"shapedefaults\":{\"line\":{\"color\":\"#2a3f5f\"}},\"annotationdefaults\":{\"arrowcolor\":\"#2a3f5f\",\"arrowhead\":0,\"arrowwidth\":1},\"geo\":{\"bgcolor\":\"white\",\"landcolor\":\"#E5ECF6\",\"subunitcolor\":\"white\",\"showland\":true,\"showlakes\":true,\"lakecolor\":\"white\"},\"title\":{\"x\":0.05},\"mapbox\":{\"style\":\"light\"}}},\"xaxis\":{\"anchor\":\"y\",\"domain\":[0.0,1.0],\"title\":{\"text\":\"Crime\"}},\"yaxis\":{\"anchor\":\"x\",\"domain\":[0.0,1.0],\"title\":{\"text\":\"Count\"}},\"legend\":{\"title\":{\"text\":\"color\"},\"tracegroupgap\":0},\"margin\":{\"t\":60},\"barmode\":\"relative\",\"height\":400,\"title\":{\"text\":\"Top 10 Major Crimes in Austin\"},\"bargap\":0.2,\"bargroupgap\":0.1},                        {\"responsive\": true}                    ).then(function(){\n",
       "                            \n",
       "var gd = document.getElementById('1ecbb309-7fa0-4711-8e57-ecf6dbe78cad');\n",
       "var x = new MutationObserver(function (mutations, observer) {{\n",
       "        var display = window.getComputedStyle(gd).display;\n",
       "        if (!display || display === 'none') {{\n",
       "            console.log([gd, 'removed!']);\n",
       "            Plotly.purge(gd);\n",
       "            observer.disconnect();\n",
       "        }}\n",
       "}});\n",
       "\n",
       "// Listen for the removal of the full notebook cells\n",
       "var notebookContainer = gd.closest('#notebook-container');\n",
       "if (notebookContainer) {{\n",
       "    x.observe(notebookContainer, {childList: true});\n",
       "}}\n",
       "\n",
       "// Listen for the clearing of the current output cell\n",
       "var outputEl = gd.closest('.output');\n",
       "if (outputEl) {{\n",
       "    x.observe(outputEl, {childList: true});\n",
       "}}\n",
       "\n",
       "                        })                };                });            </script>        </div>"
      ]
     },
     "metadata": {},
     "output_type": "display_data"
    }
   ],
   "source": [
    "# Top 10 crimes in Austin\n",
    "bar(categories, categories['Highest Offense Description'][0:10], categories\n",
    "   ['values'][0:10], categories ['Highest Offense Description'][0:10],\n",
    "   'Top 10 Major Crimes in Austin', 'Crime', 'Count')"
   ]
  },
  {
   "cell_type": "code",
   "execution_count": 106,
   "id": "53456f2e-39d2-45f5-ab49-8dbe9d71caaf",
   "metadata": {},
   "outputs": [],
   "source": [
    "number_crimes_year = data['Year'].value_counts()\n",
    "years = pd.DataFrame(data= number_crimes_year.index, columns = ['Year'])\n",
    "years['values'] = number_crimes_year.values"
   ]
  },
  {
   "cell_type": "code",
   "execution_count": 109,
   "id": "a1c75510-5604-405c-b224-03864d91a2bc",
   "metadata": {},
   "outputs": [
    {
     "data": {
      "application/vnd.plotly.v1+json": {
       "config": {
        "plotlyServerURL": "https://plot.ly"
       },
       "data": [
        {
         "domain": {
          "x": [
           0,
           1
          ],
          "y": [
           0,
           1
          ]
         },
         "hovertemplate": "Year=%{label}<br>value=%{value}<extra></extra>",
         "labels": [
          2019,
          2020,
          2021,
          2022,
          2023
         ],
         "legendgroup": "",
         "name": "",
         "showlegend": true,
         "type": "pie",
         "values": [
          100804,
          97049,
          89758,
          85969,
          84427
         ]
        }
       ],
       "layout": {
        "autosize": true,
        "legend": {
         "tracegroupgap": 0
        },
        "margin": {
         "t": 60
        },
        "piecolorway": [
         "rgb(103,0,31)",
         "rgb(178,24,43)",
         "rgb(214,96,77)",
         "rgb(244,165,130)",
         "rgb(253,219,199)",
         "rgb(247,247,247)",
         "rgb(209,229,240)",
         "rgb(146,197,222)",
         "rgb(67,147,195)",
         "rgb(33,102,172)",
         "rgb(5,48,97)"
        ],
        "template": {
         "data": {
          "bar": [
           {
            "error_x": {
             "color": "#2a3f5f"
            },
            "error_y": {
             "color": "#2a3f5f"
            },
            "marker": {
             "line": {
              "color": "#E5ECF6",
              "width": 0.5
             },
             "pattern": {
              "fillmode": "overlay",
              "size": 10,
              "solidity": 0.2
             }
            },
            "type": "bar"
           }
          ],
          "barpolar": [
           {
            "marker": {
             "line": {
              "color": "#E5ECF6",
              "width": 0.5
             },
             "pattern": {
              "fillmode": "overlay",
              "size": 10,
              "solidity": 0.2
             }
            },
            "type": "barpolar"
           }
          ],
          "carpet": [
           {
            "aaxis": {
             "endlinecolor": "#2a3f5f",
             "gridcolor": "white",
             "linecolor": "white",
             "minorgridcolor": "white",
             "startlinecolor": "#2a3f5f"
            },
            "baxis": {
             "endlinecolor": "#2a3f5f",
             "gridcolor": "white",
             "linecolor": "white",
             "minorgridcolor": "white",
             "startlinecolor": "#2a3f5f"
            },
            "type": "carpet"
           }
          ],
          "choropleth": [
           {
            "colorbar": {
             "outlinewidth": 0,
             "ticks": ""
            },
            "type": "choropleth"
           }
          ],
          "contour": [
           {
            "colorbar": {
             "outlinewidth": 0,
             "ticks": ""
            },
            "colorscale": [
             [
              0,
              "#0d0887"
             ],
             [
              0.1111111111111111,
              "#46039f"
             ],
             [
              0.2222222222222222,
              "#7201a8"
             ],
             [
              0.3333333333333333,
              "#9c179e"
             ],
             [
              0.4444444444444444,
              "#bd3786"
             ],
             [
              0.5555555555555556,
              "#d8576b"
             ],
             [
              0.6666666666666666,
              "#ed7953"
             ],
             [
              0.7777777777777778,
              "#fb9f3a"
             ],
             [
              0.8888888888888888,
              "#fdca26"
             ],
             [
              1,
              "#f0f921"
             ]
            ],
            "type": "contour"
           }
          ],
          "contourcarpet": [
           {
            "colorbar": {
             "outlinewidth": 0,
             "ticks": ""
            },
            "type": "contourcarpet"
           }
          ],
          "heatmap": [
           {
            "colorbar": {
             "outlinewidth": 0,
             "ticks": ""
            },
            "colorscale": [
             [
              0,
              "#0d0887"
             ],
             [
              0.1111111111111111,
              "#46039f"
             ],
             [
              0.2222222222222222,
              "#7201a8"
             ],
             [
              0.3333333333333333,
              "#9c179e"
             ],
             [
              0.4444444444444444,
              "#bd3786"
             ],
             [
              0.5555555555555556,
              "#d8576b"
             ],
             [
              0.6666666666666666,
              "#ed7953"
             ],
             [
              0.7777777777777778,
              "#fb9f3a"
             ],
             [
              0.8888888888888888,
              "#fdca26"
             ],
             [
              1,
              "#f0f921"
             ]
            ],
            "type": "heatmap"
           }
          ],
          "heatmapgl": [
           {
            "colorbar": {
             "outlinewidth": 0,
             "ticks": ""
            },
            "colorscale": [
             [
              0,
              "#0d0887"
             ],
             [
              0.1111111111111111,
              "#46039f"
             ],
             [
              0.2222222222222222,
              "#7201a8"
             ],
             [
              0.3333333333333333,
              "#9c179e"
             ],
             [
              0.4444444444444444,
              "#bd3786"
             ],
             [
              0.5555555555555556,
              "#d8576b"
             ],
             [
              0.6666666666666666,
              "#ed7953"
             ],
             [
              0.7777777777777778,
              "#fb9f3a"
             ],
             [
              0.8888888888888888,
              "#fdca26"
             ],
             [
              1,
              "#f0f921"
             ]
            ],
            "type": "heatmapgl"
           }
          ],
          "histogram": [
           {
            "marker": {
             "pattern": {
              "fillmode": "overlay",
              "size": 10,
              "solidity": 0.2
             }
            },
            "type": "histogram"
           }
          ],
          "histogram2d": [
           {
            "colorbar": {
             "outlinewidth": 0,
             "ticks": ""
            },
            "colorscale": [
             [
              0,
              "#0d0887"
             ],
             [
              0.1111111111111111,
              "#46039f"
             ],
             [
              0.2222222222222222,
              "#7201a8"
             ],
             [
              0.3333333333333333,
              "#9c179e"
             ],
             [
              0.4444444444444444,
              "#bd3786"
             ],
             [
              0.5555555555555556,
              "#d8576b"
             ],
             [
              0.6666666666666666,
              "#ed7953"
             ],
             [
              0.7777777777777778,
              "#fb9f3a"
             ],
             [
              0.8888888888888888,
              "#fdca26"
             ],
             [
              1,
              "#f0f921"
             ]
            ],
            "type": "histogram2d"
           }
          ],
          "histogram2dcontour": [
           {
            "colorbar": {
             "outlinewidth": 0,
             "ticks": ""
            },
            "colorscale": [
             [
              0,
              "#0d0887"
             ],
             [
              0.1111111111111111,
              "#46039f"
             ],
             [
              0.2222222222222222,
              "#7201a8"
             ],
             [
              0.3333333333333333,
              "#9c179e"
             ],
             [
              0.4444444444444444,
              "#bd3786"
             ],
             [
              0.5555555555555556,
              "#d8576b"
             ],
             [
              0.6666666666666666,
              "#ed7953"
             ],
             [
              0.7777777777777778,
              "#fb9f3a"
             ],
             [
              0.8888888888888888,
              "#fdca26"
             ],
             [
              1,
              "#f0f921"
             ]
            ],
            "type": "histogram2dcontour"
           }
          ],
          "mesh3d": [
           {
            "colorbar": {
             "outlinewidth": 0,
             "ticks": ""
            },
            "type": "mesh3d"
           }
          ],
          "parcoords": [
           {
            "line": {
             "colorbar": {
              "outlinewidth": 0,
              "ticks": ""
             }
            },
            "type": "parcoords"
           }
          ],
          "pie": [
           {
            "automargin": true,
            "type": "pie"
           }
          ],
          "scatter": [
           {
            "fillpattern": {
             "fillmode": "overlay",
             "size": 10,
             "solidity": 0.2
            },
            "type": "scatter"
           }
          ],
          "scatter3d": [
           {
            "line": {
             "colorbar": {
              "outlinewidth": 0,
              "ticks": ""
             }
            },
            "marker": {
             "colorbar": {
              "outlinewidth": 0,
              "ticks": ""
             }
            },
            "type": "scatter3d"
           }
          ],
          "scattercarpet": [
           {
            "marker": {
             "colorbar": {
              "outlinewidth": 0,
              "ticks": ""
             }
            },
            "type": "scattercarpet"
           }
          ],
          "scattergeo": [
           {
            "marker": {
             "colorbar": {
              "outlinewidth": 0,
              "ticks": ""
             }
            },
            "type": "scattergeo"
           }
          ],
          "scattergl": [
           {
            "marker": {
             "colorbar": {
              "outlinewidth": 0,
              "ticks": ""
             }
            },
            "type": "scattergl"
           }
          ],
          "scattermapbox": [
           {
            "marker": {
             "colorbar": {
              "outlinewidth": 0,
              "ticks": ""
             }
            },
            "type": "scattermapbox"
           }
          ],
          "scatterpolar": [
           {
            "marker": {
             "colorbar": {
              "outlinewidth": 0,
              "ticks": ""
             }
            },
            "type": "scatterpolar"
           }
          ],
          "scatterpolargl": [
           {
            "marker": {
             "colorbar": {
              "outlinewidth": 0,
              "ticks": ""
             }
            },
            "type": "scatterpolargl"
           }
          ],
          "scatterternary": [
           {
            "marker": {
             "colorbar": {
              "outlinewidth": 0,
              "ticks": ""
             }
            },
            "type": "scatterternary"
           }
          ],
          "surface": [
           {
            "colorbar": {
             "outlinewidth": 0,
             "ticks": ""
            },
            "colorscale": [
             [
              0,
              "#0d0887"
             ],
             [
              0.1111111111111111,
              "#46039f"
             ],
             [
              0.2222222222222222,
              "#7201a8"
             ],
             [
              0.3333333333333333,
              "#9c179e"
             ],
             [
              0.4444444444444444,
              "#bd3786"
             ],
             [
              0.5555555555555556,
              "#d8576b"
             ],
             [
              0.6666666666666666,
              "#ed7953"
             ],
             [
              0.7777777777777778,
              "#fb9f3a"
             ],
             [
              0.8888888888888888,
              "#fdca26"
             ],
             [
              1,
              "#f0f921"
             ]
            ],
            "type": "surface"
           }
          ],
          "table": [
           {
            "cells": {
             "fill": {
              "color": "#EBF0F8"
             },
             "line": {
              "color": "white"
             }
            },
            "header": {
             "fill": {
              "color": "#C8D4E3"
             },
             "line": {
              "color": "white"
             }
            },
            "type": "table"
           }
          ]
         },
         "layout": {
          "annotationdefaults": {
           "arrowcolor": "#2a3f5f",
           "arrowhead": 0,
           "arrowwidth": 1
          },
          "autotypenumbers": "strict",
          "coloraxis": {
           "colorbar": {
            "outlinewidth": 0,
            "ticks": ""
           }
          },
          "colorscale": {
           "diverging": [
            [
             0,
             "#8e0152"
            ],
            [
             0.1,
             "#c51b7d"
            ],
            [
             0.2,
             "#de77ae"
            ],
            [
             0.3,
             "#f1b6da"
            ],
            [
             0.4,
             "#fde0ef"
            ],
            [
             0.5,
             "#f7f7f7"
            ],
            [
             0.6,
             "#e6f5d0"
            ],
            [
             0.7,
             "#b8e186"
            ],
            [
             0.8,
             "#7fbc41"
            ],
            [
             0.9,
             "#4d9221"
            ],
            [
             1,
             "#276419"
            ]
           ],
           "sequential": [
            [
             0,
             "#0d0887"
            ],
            [
             0.1111111111111111,
             "#46039f"
            ],
            [
             0.2222222222222222,
             "#7201a8"
            ],
            [
             0.3333333333333333,
             "#9c179e"
            ],
            [
             0.4444444444444444,
             "#bd3786"
            ],
            [
             0.5555555555555556,
             "#d8576b"
            ],
            [
             0.6666666666666666,
             "#ed7953"
            ],
            [
             0.7777777777777778,
             "#fb9f3a"
            ],
            [
             0.8888888888888888,
             "#fdca26"
            ],
            [
             1,
             "#f0f921"
            ]
           ],
           "sequentialminus": [
            [
             0,
             "#0d0887"
            ],
            [
             0.1111111111111111,
             "#46039f"
            ],
            [
             0.2222222222222222,
             "#7201a8"
            ],
            [
             0.3333333333333333,
             "#9c179e"
            ],
            [
             0.4444444444444444,
             "#bd3786"
            ],
            [
             0.5555555555555556,
             "#d8576b"
            ],
            [
             0.6666666666666666,
             "#ed7953"
            ],
            [
             0.7777777777777778,
             "#fb9f3a"
            ],
            [
             0.8888888888888888,
             "#fdca26"
            ],
            [
             1,
             "#f0f921"
            ]
           ]
          },
          "colorway": [
           "#636efa",
           "#EF553B",
           "#00cc96",
           "#ab63fa",
           "#FFA15A",
           "#19d3f3",
           "#FF6692",
           "#B6E880",
           "#FF97FF",
           "#FECB52"
          ],
          "font": {
           "color": "#2a3f5f"
          },
          "geo": {
           "bgcolor": "white",
           "lakecolor": "white",
           "landcolor": "#E5ECF6",
           "showlakes": true,
           "showland": true,
           "subunitcolor": "white"
          },
          "hoverlabel": {
           "align": "left"
          },
          "hovermode": "closest",
          "mapbox": {
           "style": "light"
          },
          "paper_bgcolor": "white",
          "plot_bgcolor": "#E5ECF6",
          "polar": {
           "angularaxis": {
            "gridcolor": "white",
            "linecolor": "white",
            "ticks": ""
           },
           "bgcolor": "#E5ECF6",
           "radialaxis": {
            "gridcolor": "white",
            "linecolor": "white",
            "ticks": ""
           }
          },
          "scene": {
           "xaxis": {
            "backgroundcolor": "#E5ECF6",
            "gridcolor": "white",
            "gridwidth": 2,
            "linecolor": "white",
            "showbackground": true,
            "ticks": "",
            "zerolinecolor": "white"
           },
           "yaxis": {
            "backgroundcolor": "#E5ECF6",
            "gridcolor": "white",
            "gridwidth": 2,
            "linecolor": "white",
            "showbackground": true,
            "ticks": "",
            "zerolinecolor": "white"
           },
           "zaxis": {
            "backgroundcolor": "#E5ECF6",
            "gridcolor": "white",
            "gridwidth": 2,
            "linecolor": "white",
            "showbackground": true,
            "ticks": "",
            "zerolinecolor": "white"
           }
          },
          "shapedefaults": {
           "line": {
            "color": "#2a3f5f"
           }
          },
          "ternary": {
           "aaxis": {
            "gridcolor": "white",
            "linecolor": "white",
            "ticks": ""
           },
           "baxis": {
            "gridcolor": "white",
            "linecolor": "white",
            "ticks": ""
           },
           "bgcolor": "#E5ECF6",
           "caxis": {
            "gridcolor": "white",
            "linecolor": "white",
            "ticks": ""
           }
          },
          "title": {
           "x": 0.05
          },
          "xaxis": {
           "automargin": true,
           "gridcolor": "white",
           "linecolor": "white",
           "ticks": "",
           "title": {
            "standoff": 15
           },
           "zerolinecolor": "white",
           "zerolinewidth": 2
          },
          "yaxis": {
           "automargin": true,
           "gridcolor": "white",
           "linecolor": "white",
           "ticks": "",
           "title": {
            "standoff": 15
           },
           "zerolinecolor": "white",
           "zerolinewidth": 2
          }
         }
        }
       }
      },
      "image/png": "[encoded data removed]",
      "text/html": [
       "<div>                            <div id=\"0075b7cc-f800-4af6-b051-d1bdb646ddb0\" class=\"plotly-graph-div\" style=\"height:525px; width:100%;\"></div>            <script type=\"text/javascript\">                require([\"plotly\"], function(Plotly) {                    window.PLOTLYENV=window.PLOTLYENV || {};                                    if (document.getElementById(\"0075b7cc-f800-4af6-b051-d1bdb646ddb0\")) {                    Plotly.newPlot(                        \"0075b7cc-f800-4af6-b051-d1bdb646ddb0\",                        [{\"domain\":{\"x\":[0.0,1.0],\"y\":[0.0,1.0]},\"hovertemplate\":\"Year=%{label}\\u003cbr\\u003evalue=%{value}\\u003cextra\\u003e\\u003c\\u002fextra\\u003e\",\"labels\":[2019,2020,2021,2022,2023],\"legendgroup\":\"\",\"name\":\"\",\"showlegend\":true,\"values\":[100804,97049,89758,85969,84427],\"type\":\"pie\"}],                        {\"template\":{\"data\":{\"histogram2dcontour\":[{\"type\":\"histogram2dcontour\",\"colorbar\":{\"outlinewidth\":0,\"ticks\":\"\"},\"colorscale\":[[0.0,\"#0d0887\"],[0.1111111111111111,\"#46039f\"],[0.2222222222222222,\"#7201a8\"],[0.3333333333333333,\"#9c179e\"],[0.4444444444444444,\"#bd3786\"],[0.5555555555555556,\"#d8576b\"],[0.6666666666666666,\"#ed7953\"],[0.7777777777777778,\"#fb9f3a\"],[0.8888888888888888,\"#fdca26\"],[1.0,\"#f0f921\"]]}],\"choropleth\":[{\"type\":\"choropleth\",\"colorbar\":{\"outlinewidth\":0,\"ticks\":\"\"}}],\"histogram2d\":[{\"type\":\"histogram2d\",\"colorbar\":{\"outlinewidth\":0,\"ticks\":\"\"},\"colorscale\":[[0.0,\"#0d0887\"],[0.1111111111111111,\"#46039f\"],[0.2222222222222222,\"#7201a8\"],[0.3333333333333333,\"#9c179e\"],[0.4444444444444444,\"#bd3786\"],[0.5555555555555556,\"#d8576b\"],[0.6666666666666666,\"#ed7953\"],[0.7777777777777778,\"#fb9f3a\"],[0.8888888888888888,\"#fdca26\"],[1.0,\"#f0f921\"]]}],\"heatmap\":[{\"type\":\"heatmap\",\"colorbar\":{\"outlinewidth\":0,\"ticks\":\"\"},\"colorscale\":[[0.0,\"#0d0887\"],[0.1111111111111111,\"#46039f\"],[0.2222222222222222,\"#7201a8\"],[0.3333333333333333,\"#9c179e\"],[0.4444444444444444,\"#bd3786\"],[0.5555555555555556,\"#d8576b\"],[0.6666666666666666,\"#ed7953\"],[0.7777777777777778,\"#fb9f3a\"],[0.8888888888888888,\"#fdca26\"],[1.0,\"#f0f921\"]]}],\"heatmapgl\":[{\"type\":\"heatmapgl\",\"colorbar\":{\"outlinewidth\":0,\"ticks\":\"\"},\"colorscale\":[[0.0,\"#0d0887\"],[0.1111111111111111,\"#46039f\"],[0.2222222222222222,\"#7201a8\"],[0.3333333333333333,\"#9c179e\"],[0.4444444444444444,\"#bd3786\"],[0.5555555555555556,\"#d8576b\"],[0.6666666666666666,\"#ed7953\"],[0.7777777777777778,\"#fb9f3a\"],[0.8888888888888888,\"#fdca26\"],[1.0,\"#f0f921\"]]}],\"contourcarpet\":[{\"type\":\"contourcarpet\",\"colorbar\":{\"outlinewidth\":0,\"ticks\":\"\"}}],\"contour\":[{\"type\":\"contour\",\"colorbar\":{\"outlinewidth\":0,\"ticks\":\"\"},\"colorscale\":[[0.0,\"#0d0887\"],[0.1111111111111111,\"#46039f\"],[0.2222222222222222,\"#7201a8\"],[0.3333333333333333,\"#9c179e\"],[0.4444444444444444,\"#bd3786\"],[0.5555555555555556,\"#d8576b\"],[0.6666666666666666,\"#ed7953\"],[0.7777777777777778,\"#fb9f3a\"],[0.8888888888888888,\"#fdca26\"],[1.0,\"#f0f921\"]]}],\"surface\":[{\"type\":\"surface\",\"colorbar\":{\"outlinewidth\":0,\"ticks\":\"\"},\"colorscale\":[[0.0,\"#0d0887\"],[0.1111111111111111,\"#46039f\"],[0.2222222222222222,\"#7201a8\"],[0.3333333333333333,\"#9c179e\"],[0.4444444444444444,\"#bd3786\"],[0.5555555555555556,\"#d8576b\"],[0.6666666666666666,\"#ed7953\"],[0.7777777777777778,\"#fb9f3a\"],[0.8888888888888888,\"#fdca26\"],[1.0,\"#f0f921\"]]}],\"mesh3d\":[{\"type\":\"mesh3d\",\"colorbar\":{\"outlinewidth\":0,\"ticks\":\"\"}}],\"scatter\":[{\"fillpattern\":{\"fillmode\":\"overlay\",\"size\":10,\"solidity\":0.2},\"type\":\"scatter\"}],\"parcoords\":[{\"type\":\"parcoords\",\"line\":{\"colorbar\":{\"outlinewidth\":0,\"ticks\":\"\"}}}],\"scatterpolargl\":[{\"type\":\"scatterpolargl\",\"marker\":{\"colorbar\":{\"outlinewidth\":0,\"ticks\":\"\"}}}],\"bar\":[{\"error_x\":{\"color\":\"#2a3f5f\"},\"error_y\":{\"color\":\"#2a3f5f\"},\"marker\":{\"line\":{\"color\":\"#E5ECF6\",\"width\":0.5},\"pattern\":{\"fillmode\":\"overlay\",\"size\":10,\"solidity\":0.2}},\"type\":\"bar\"}],\"scattergeo\":[{\"type\":\"scattergeo\",\"marker\":{\"colorbar\":{\"outlinewidth\":0,\"ticks\":\"\"}}}],\"scatterpolar\":[{\"type\":\"scatterpolar\",\"marker\":{\"colorbar\":{\"outlinewidth\":0,\"ticks\":\"\"}}}],\"histogram\":[{\"marker\":{\"pattern\":{\"fillmode\":\"overlay\",\"size\":10,\"solidity\":0.2}},\"type\":\"histogram\"}],\"scattergl\":[{\"type\":\"scattergl\",\"marker\":{\"colorbar\":{\"outlinewidth\":0,\"ticks\":\"\"}}}],\"scatter3d\":[{\"type\":\"scatter3d\",\"line\":{\"colorbar\":{\"outlinewidth\":0,\"ticks\":\"\"}},\"marker\":{\"colorbar\":{\"outlinewidth\":0,\"ticks\":\"\"}}}],\"scattermapbox\":[{\"type\":\"scattermapbox\",\"marker\":{\"colorbar\":{\"outlinewidth\":0,\"ticks\":\"\"}}}],\"scatterternary\":[{\"type\":\"scatterternary\",\"marker\":{\"colorbar\":{\"outlinewidth\":0,\"ticks\":\"\"}}}],\"scattercarpet\":[{\"type\":\"scattercarpet\",\"marker\":{\"colorbar\":{\"outlinewidth\":0,\"ticks\":\"\"}}}],\"carpet\":[{\"aaxis\":{\"endlinecolor\":\"#2a3f5f\",\"gridcolor\":\"white\",\"linecolor\":\"white\",\"minorgridcolor\":\"white\",\"startlinecolor\":\"#2a3f5f\"},\"baxis\":{\"endlinecolor\":\"#2a3f5f\",\"gridcolor\":\"white\",\"linecolor\":\"white\",\"minorgridcolor\":\"white\",\"startlinecolor\":\"#2a3f5f\"},\"type\":\"carpet\"}],\"table\":[{\"cells\":{\"fill\":{\"color\":\"#EBF0F8\"},\"line\":{\"color\":\"white\"}},\"header\":{\"fill\":{\"color\":\"#C8D4E3\"},\"line\":{\"color\":\"white\"}},\"type\":\"table\"}],\"barpolar\":[{\"marker\":{\"line\":{\"color\":\"#E5ECF6\",\"width\":0.5},\"pattern\":{\"fillmode\":\"overlay\",\"size\":10,\"solidity\":0.2}},\"type\":\"barpolar\"}],\"pie\":[{\"automargin\":true,\"type\":\"pie\"}]},\"layout\":{\"autotypenumbers\":\"strict\",\"colorway\":[\"#636efa\",\"#EF553B\",\"#00cc96\",\"#ab63fa\",\"#FFA15A\",\"#19d3f3\",\"#FF6692\",\"#B6E880\",\"#FF97FF\",\"#FECB52\"],\"font\":{\"color\":\"#2a3f5f\"},\"hovermode\":\"closest\",\"hoverlabel\":{\"align\":\"left\"},\"paper_bgcolor\":\"white\",\"plot_bgcolor\":\"#E5ECF6\",\"polar\":{\"bgcolor\":\"#E5ECF6\",\"angularaxis\":{\"gridcolor\":\"white\",\"linecolor\":\"white\",\"ticks\":\"\"},\"radialaxis\":{\"gridcolor\":\"white\",\"linecolor\":\"white\",\"ticks\":\"\"}},\"ternary\":{\"bgcolor\":\"#E5ECF6\",\"aaxis\":{\"gridcolor\":\"white\",\"linecolor\":\"white\",\"ticks\":\"\"},\"baxis\":{\"gridcolor\":\"white\",\"linecolor\":\"white\",\"ticks\":\"\"},\"caxis\":{\"gridcolor\":\"white\",\"linecolor\":\"white\",\"ticks\":\"\"}},\"coloraxis\":{\"colorbar\":{\"outlinewidth\":0,\"ticks\":\"\"}},\"colorscale\":{\"sequential\":[[0.0,\"#0d0887\"],[0.1111111111111111,\"#46039f\"],[0.2222222222222222,\"#7201a8\"],[0.3333333333333333,\"#9c179e\"],[0.4444444444444444,\"#bd3786\"],[0.5555555555555556,\"#d8576b\"],[0.6666666666666666,\"#ed7953\"],[0.7777777777777778,\"#fb9f3a\"],[0.8888888888888888,\"#fdca26\"],[1.0,\"#f0f921\"]],\"sequentialminus\":[[0.0,\"#0d0887\"],[0.1111111111111111,\"#46039f\"],[0.2222222222222222,\"#7201a8\"],[0.3333333333333333,\"#9c179e\"],[0.4444444444444444,\"#bd3786\"],[0.5555555555555556,\"#d8576b\"],[0.6666666666666666,\"#ed7953\"],[0.7777777777777778,\"#fb9f3a\"],[0.8888888888888888,\"#fdca26\"],[1.0,\"#f0f921\"]],\"diverging\":[[0,\"#8e0152\"],[0.1,\"#c51b7d\"],[0.2,\"#de77ae\"],[0.3,\"#f1b6da\"],[0.4,\"#fde0ef\"],[0.5,\"#f7f7f7\"],[0.6,\"#e6f5d0\"],[0.7,\"#b8e186\"],[0.8,\"#7fbc41\"],[0.9,\"#4d9221\"],[1,\"#276419\"]]},\"xaxis\":{\"gridcolor\":\"white\",\"linecolor\":\"white\",\"ticks\":\"\",\"title\":{\"standoff\":15},\"zerolinecolor\":\"white\",\"automargin\":true,\"zerolinewidth\":2},\"yaxis\":{\"gridcolor\":\"white\",\"linecolor\":\"white\",\"ticks\":\"\",\"title\":{\"standoff\":15},\"zerolinecolor\":\"white\",\"automargin\":true,\"zerolinewidth\":2},\"scene\":{\"xaxis\":{\"backgroundcolor\":\"#E5ECF6\",\"gridcolor\":\"white\",\"linecolor\":\"white\",\"showbackground\":true,\"ticks\":\"\",\"zerolinecolor\":\"white\",\"gridwidth\":2},\"yaxis\":{\"backgroundcolor\":\"#E5ECF6\",\"gridcolor\":\"white\",\"linecolor\":\"white\",\"showbackground\":true,\"ticks\":\"\",\"zerolinecolor\":\"white\",\"gridwidth\":2},\"zaxis\":{\"backgroundcolor\":\"#E5ECF6\",\"gridcolor\":\"white\",\"linecolor\":\"white\",\"showbackground\":true,\"ticks\":\"\",\"zerolinecolor\":\"white\",\"gridwidth\":2}},\"shapedefaults\":{\"line\":{\"color\":\"#2a3f5f\"}},\"annotationdefaults\":{\"arrowcolor\":\"#2a3f5f\",\"arrowhead\":0,\"arrowwidth\":1},\"geo\":{\"bgcolor\":\"white\",\"landcolor\":\"#E5ECF6\",\"subunitcolor\":\"white\",\"showland\":true,\"showlakes\":true,\"lakecolor\":\"white\"},\"title\":{\"x\":0.05},\"mapbox\":{\"style\":\"light\"}}},\"legend\":{\"tracegroupgap\":0},\"margin\":{\"t\":60},\"piecolorway\":[\"rgb(103,0,31)\",\"rgb(178,24,43)\",\"rgb(214,96,77)\",\"rgb(244,165,130)\",\"rgb(253,219,199)\",\"rgb(247,247,247)\",\"rgb(209,229,240)\",\"rgb(146,197,222)\",\"rgb(67,147,195)\",\"rgb(33,102,172)\",\"rgb(5,48,97)\"]},                        {\"responsive\": true}                    ).then(function(){\n",
       "                            \n",
       "var gd = document.getElementById('0075b7cc-f800-4af6-b051-d1bdb646ddb0');\n",
       "var x = new MutationObserver(function (mutations, observer) {{\n",
       "        var display = window.getComputedStyle(gd).display;\n",
       "        if (!display || display === 'none') {{\n",
       "            console.log([gd, 'removed!']);\n",
       "            Plotly.purge(gd);\n",
       "            observer.disconnect();\n",
       "        }}\n",
       "}});\n",
       "\n",
       "// Listen for the removal of the full notebook cells\n",
       "var notebookContainer = gd.closest('#notebook-container');\n",
       "if (notebookContainer) {{\n",
       "    x.observe(notebookContainer, {childList: true});\n",
       "}}\n",
       "\n",
       "// Listen for the clearing of the current output cell\n",
       "var outputEl = gd.closest('.output');\n",
       "if (outputEl) {{\n",
       "    x.observe(outputEl, {childList: true});\n",
       "}}\n",
       "\n",
       "                        })                };                });            </script>        </div>"
      ]
     },
     "metadata": {},
     "output_type": "display_data"
    }
   ],
   "source": [
    "fig= px.pie(years, values= 'values', names= 'Year', color_discrete_sequence=\n",
    "           px.colors.sequential.RdBu)\n",
    "fig.show()"
   ]
  }
 ],
 "metadata": {
  "kernelspec": {
   "display_name": "Python 3 (ipykernel)",
   "language": "python",
   "name": "python3"
  },
  "language_info": {
   "codemirror_mode": {
    "name": "ipython",
    "version": 3
   },
   "file_extension": ".py",
   "mimetype": "text/x-python",
   "name": "python",
   "nbconvert_exporter": "python",
   "pygments_lexer": "ipython3",
   "version": "3.11.8"
  }
 },
 "nbformat": 4,
 "nbformat_minor": 5
}
